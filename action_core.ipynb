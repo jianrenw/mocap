{
 "cells": [
  {
   "cell_type": "code",
   "execution_count": 1,
   "metadata": {},
   "outputs": [],
   "source": [
    "import json\n",
    "import numpy as np"
   ]
  },
  {
   "cell_type": "code",
   "execution_count": 5,
   "metadata": {},
   "outputs": [],
   "source": [
    "file_name = \"data/thanks-bow.json\"\n",
    "with open(file_name) as file:\n",
    "    motion = json.load(file)\n",
    "\n",
    "pelvis = []\n",
    "l_upperarm = []\n",
    "l_forearm = []\n",
    "l_hand = []\n",
    "r_upperarm = []\n",
    "r_forearm = []\n",
    "r_hand = []\n",
    "l_thigh = []\n",
    "l_calf = []\n",
    "l_foot = []\n",
    "l_toe = []\n",
    "r_thigh = []\n",
    "r_calf = []\n",
    "r_foot = []\n",
    "r_toe = []\n",
    "\n",
    "for frame_idx, joints in motion.items():\n",
    "    pelvis.append(joints[\"CC_Base_Pelvis\"]['translation'])\n",
    "    l_upperarm.append(joints[\"CC_Base_L_Upperarm\"]['translation'])\n",
    "    l_forearm.append(joints[\"CC_Base_L_Forearm\"]['translation'])\n",
    "    l_hand.append(joints[\"CC_Base_L_Hand\"]['translation'])\n",
    "    r_upperarm.append(joints[\"CC_Base_R_Upperarm\"]['translation'])\n",
    "    r_forearm.append(joints[\"CC_Base_R_Forearm\"]['translation'])\n",
    "    r_hand.append(joints[\"CC_Base_R_Hand\"]['translation'])\n",
    "    l_thigh.append(joints[\"CC_Base_L_Thigh\"]['translation'])\n",
    "    l_calf.append(joints[\"CC_Base_L_Calf\"]['translation'])\n",
    "    l_foot.append(joints[\"CC_Base_L_Foot\"]['translation'])\n",
    "    l_toe.append(joints[\"CC_Base_L_ToeBase\"]['translation'])\n",
    "    r_thigh.append(joints[\"CC_Base_R_Thigh\"]['translation'])\n",
    "    r_calf.append(joints[\"CC_Base_R_Calf\"]['translation'])\n",
    "    r_foot.append(joints[\"CC_Base_R_Foot\"]['translation'])\n",
    "    r_toe.append(joints[\"CC_Base_R_ToeBase\"]['translation'])\n",
    "\n",
    "pelvis = np.array(pelvis)\n",
    "l_upperarm = np.array(l_upperarm)\n",
    "l_forearm = np.array(l_forearm)\n",
    "l_hand = np.array(l_hand)\n",
    "r_upperarm = np.array(r_upperarm)\n",
    "r_forearm = np.array(r_forearm)\n",
    "r_hand = np.array(r_hand)\n",
    "l_thigh = np.array(l_thigh)\n",
    "l_calf = np.array(l_calf)\n",
    "l_foot = np.array(l_foot)\n",
    "l_toe = np.array(l_toe)\n",
    "r_thigh = np.array(r_thigh)\n",
    "r_calf = np.array(r_calf)\n",
    "r_foot = np.array(r_foot)\n",
    "r_toe = np.array(r_toe)\n",
    "\n",
    "skeleton = np.array(\n",
    "    [\n",
    "        pelvis,\n",
    "        l_thigh,\n",
    "        l_calf,\n",
    "        l_foot,\n",
    "        l_toe,\n",
    "        l_upperarm,\n",
    "        l_forearm,\n",
    "        l_hand,\n",
    "        r_thigh,\n",
    "        r_calf,\n",
    "        r_foot,\n",
    "        r_toe,\n",
    "        r_upperarm,\n",
    "        r_forearm,\n",
    "        r_hand,\n",
    "    ]\n",
    ")\n",
    "\n",
    "skeleton = skeleton.transpose(1,0,2)"
   ]
  },
  {
   "cell_type": "code",
   "execution_count": 6,
   "metadata": {},
   "outputs": [],
   "source": [
    "import plotly\n",
    "import plotly.graph_objs as go"
   ]
  },
  {
   "cell_type": "code",
   "execution_count": 12,
   "metadata": {},
   "outputs": [
    {
     "data": {
      "application/vnd.plotly.v1+json": {
       "config": {
        "plotlyServerURL": "https://plot.ly"
       },
       "data": [
        {
         "line": {
          "color": "red",
          "width": 4
         },
         "mode": "lines",
         "type": "scatter3d",
         "x": [
          0.0009875227697193623,
          0.09749651700258255
         ],
         "y": [
          -0.012790712527930737,
          -0.01110230851918459
         ],
         "z": [
          1.0361998081207275,
          1.0127846002578735
         ]
        },
        {
         "line": {
          "color": "red",
          "width": 4
         },
         "mode": "lines",
         "type": "scatter3d",
         "x": [
          0.09749651700258255,
          0.15792004764080048
         ],
         "y": [
          -0.01110230851918459,
          -0.06668008863925934
         ],
         "z": [
          1.0127846002578735,
          0.5432280898094177
         ]
        },
        {
         "line": {
          "color": "red",
          "width": 4
         },
         "mode": "lines",
         "type": "scatter3d",
         "x": [
          0.15792004764080048,
          0.17319196462631226
         ],
         "y": [
          -0.06668008863925934,
          0.03334375098347664
         ],
         "z": [
          0.5432280898094177,
          0.055369745939970016
         ]
        },
        {
         "line": {
          "color": "red",
          "width": 4
         },
         "mode": "lines",
         "type": "scatter3d",
         "x": [
          0.17319196462631226,
          0.23368866741657257
         ],
         "y": [
          0.03334375098347664,
          -0.0824364423751831
         ],
         "z": [
          0.055369745939970016,
          0.030961008742451668
         ]
        },
        {
         "line": {
          "color": "red",
          "width": 4
         },
         "mode": "lines",
         "type": "scatter3d",
         "x": [
          0.0009875227697193623,
          0.192407488822937
         ],
         "y": [
          -0.012790712527930737,
          0.014301560819149017
         ],
         "z": [
          1.0361998081207275,
          1.4651652574539185
         ]
        },
        {
         "line": {
          "color": "red",
          "width": 4
         },
         "mode": "lines",
         "type": "scatter3d",
         "x": [
          0.192407488822937,
          0.23083102703094482
         ],
         "y": [
          0.014301560819149017,
          0.006520301103591919
         ],
         "z": [
          1.4651652574539185,
          1.2161444425582886
         ]
        },
        {
         "line": {
          "color": "red",
          "width": 4
         },
         "mode": "lines",
         "type": "scatter3d",
         "x": [
          0.23083102703094482,
          0.24255713820457458
         ],
         "y": [
          0.006520301103591919,
          -0.09257663786411285
         ],
         "z": [
          1.2161444425582886,
          0.9792071580886841
         ]
        },
        {
         "line": {
          "color": "red",
          "width": 4
         },
         "mode": "lines",
         "type": "scatter3d",
         "x": [
          0.0009875227697193623,
          -0.09607023000717163
         ],
         "y": [
          -0.012790712527930737,
          -0.012968823313713074
         ],
         "z": [
          1.0361998081207275,
          1.0150851011276245
         ]
        },
        {
         "line": {
          "color": "red",
          "width": 4
         },
         "mode": "lines",
         "type": "scatter3d",
         "x": [
          -0.09607023000717163,
          -0.0891534760594368
         ],
         "y": [
          -0.012968823313713074,
          -0.07020021975040436
         ],
         "z": [
          1.0150851011276245,
          0.5419027805328369
         ]
        },
        {
         "line": {
          "color": "red",
          "width": 4
         },
         "mode": "lines",
         "type": "scatter3d",
         "x": [
          -0.0891534760594368,
          -0.07407798618078232
         ],
         "y": [
          -0.07020021975040436,
          0.036118727177381516
         ],
         "z": [
          0.5419027805328369,
          0.055368952453136444
         ]
        },
        {
         "line": {
          "color": "red",
          "width": 4
         },
         "mode": "lines",
         "type": "scatter3d",
         "x": [
          -0.07407798618078232,
          -0.10660593956708908
         ],
         "y": [
          0.036118727177381516,
          -0.0920674279332161
         ],
         "z": [
          0.055368952453136444,
          0.031126772984862328
         ]
        },
        {
         "line": {
          "color": "red",
          "width": 4
         },
         "mode": "lines",
         "type": "scatter3d",
         "x": [
          0.0009875227697193623,
          -0.16391225159168243
         ],
         "y": [
          -0.012790712527930737,
          0.01629444770514965
         ],
         "z": [
          1.0361998081207275,
          1.4733622074127197
         ]
        },
        {
         "line": {
          "color": "red",
          "width": 4
         },
         "mode": "lines",
         "type": "scatter3d",
         "x": [
          -0.16391225159168243,
          -0.21423715353012085
         ],
         "y": [
          0.01629444770514965,
          0.01646016351878643
         ],
         "z": [
          1.4733622074127197,
          1.2263466119766235
         ]
        },
        {
         "line": {
          "color": "red",
          "width": 4
         },
         "mode": "lines",
         "type": "scatter3d",
         "x": [
          -0.21423715353012085,
          -0.23022665083408356
         ],
         "y": [
          0.01646016351878643,
          -0.09133096039295197
         ],
         "z": [
          1.2263466119766235,
          0.9934865236282349
         ]
        },
        {
         "line": {
          "color": "red",
          "width": 4
         },
         "mode": "lines",
         "type": "scatter3d",
         "x": [
          0.08242838829755783,
          0.17912276089191437
         ],
         "y": [
          0.006038270425051451,
          0.016997838392853737
         ],
         "z": [
          1.033753752708435,
          1.0138746500015259
         ]
        },
        {
         "line": {
          "color": "red",
          "width": 4
         },
         "mode": "lines",
         "type": "scatter3d",
         "x": [
          0.17912276089191437,
          0.18890702724456787
         ],
         "y": [
          0.016997838392853737,
          -0.06081885099411011
         ],
         "z": [
          1.0138746500015259,
          0.543691873550415
         ]
        },
        {
         "line": {
          "color": "red",
          "width": 4
         },
         "mode": "lines",
         "type": "scatter3d",
         "x": [
          0.18890702724456787,
          0.18775054812431335
         ],
         "y": [
          -0.06081885099411011,
          0.0380919948220253
         ],
         "z": [
          0.543691873550415,
          0.05537004396319389
         ]
        },
        {
         "line": {
          "color": "red",
          "width": 4
         },
         "mode": "lines",
         "type": "scatter3d",
         "x": [
          0.18775054812431335,
          0.19853711128234863
         ],
         "y": [
          0.0380919948220253,
          -0.09209463745355606
         ],
         "z": [
          0.05537004396319389,
          0.030961154028773308
         ]
        },
        {
         "line": {
          "color": "red",
          "width": 4
         },
         "mode": "lines",
         "type": "scatter3d",
         "x": [
          0.08242838829755783,
          0.27803781628608704
         ],
         "y": [
          0.006038270425051451,
          -0.05920826271176338
         ],
         "z": [
          1.033753752708435,
          1.4609720706939697
         ]
        },
        {
         "line": {
          "color": "red",
          "width": 4
         },
         "mode": "lines",
         "type": "scatter3d",
         "x": [
          0.27803781628608704,
          0.3218144178390503
         ],
         "y": [
          -0.05920826271176338,
          -0.014752253890037537
         ],
         "z": [
          1.4609720706939697,
          1.2167274951934814
         ]
        },
        {
         "line": {
          "color": "red",
          "width": 4
         },
         "mode": "lines",
         "type": "scatter3d",
         "x": [
          0.3218144178390503,
          0.32305994629859924
         ],
         "y": [
          -0.014752253890037537,
          -0.11899774521589279
         ],
         "z": [
          1.2167274951934814,
          0.9817202687263489
         ]
        },
        {
         "line": {
          "color": "red",
          "width": 4
         },
         "mode": "lines",
         "type": "scatter3d",
         "x": [
          0.08242838829755783,
          -0.014391236007213593
         ],
         "y": [
          0.006038270425051451,
          0.011824428103864193
         ],
         "z": [
          1.033753752708435,
          1.0123404264450073
         ]
        },
        {
         "line": {
          "color": "red",
          "width": 4
         },
         "mode": "lines",
         "type": "scatter3d",
         "x": [
          -0.014391236007213593,
          -0.0079583041369915
         ],
         "y": [
          0.011824428103864193,
          -0.05736676603555679
         ],
         "z": [
          1.0123404264450073,
          0.540752112865448
         ]
        },
        {
         "line": {
          "color": "red",
          "width": 4
         },
         "mode": "lines",
         "type": "scatter3d",
         "x": [
          -0.0079583041369915,
          0.022153623402118683
         ],
         "y": [
          -0.05736676603555679,
          0.051001012325286865
         ],
         "z": [
          0.540752112865448,
          0.05537039786577225
         ]
        },
        {
         "line": {
          "color": "red",
          "width": 4
         },
         "mode": "lines",
         "type": "scatter3d",
         "x": [
          0.022153623402118683,
          0.004938911646604538
         ],
         "y": [
          0.051001012325286865,
          -0.08012256771326065
         ],
         "z": [
          0.05537039786577225,
          0.03112804889678955
         ]
        },
        {
         "line": {
          "color": "red",
          "width": 4
         },
         "mode": "lines",
         "type": "scatter3d",
         "x": [
          0.08242838829755783,
          -0.08478008210659027
         ],
         "y": [
          0.006038270425051451,
          -0.0736088827252388
         ],
         "z": [
          1.033753752708435,
          1.4735338687896729
         ]
        },
        {
         "line": {
          "color": "red",
          "width": 4
         },
         "mode": "lines",
         "type": "scatter3d",
         "x": [
          -0.08478008210659027,
          -0.1445654183626175
         ],
         "y": [
          -0.0736088827252388,
          -0.05359868332743645
         ],
         "z": [
          1.4735338687896729,
          1.2294551134109497
         ]
        },
        {
         "line": {
          "color": "red",
          "width": 4
         },
         "mode": "lines",
         "type": "scatter3d",
         "x": [
          -0.1445654183626175,
          -0.12994346022605896
         ],
         "y": [
          -0.05359868332743645,
          -0.16255536675453186
         ],
         "z": [
          1.2294551134109497,
          0.9970479607582092
         ]
        }
       ],
       "layout": {
        "margin": {
         "b": 0,
         "l": 0,
         "r": 0,
         "t": 0
        },
        "scene": {
         "aspectratio": {
          "x": 1,
          "y": 1,
          "z": 1
         },
         "xaxis": {
          "range": [
           -2,
           2
          ],
          "title": {
           "text": "x"
          }
         },
         "yaxis": {
          "range": [
           -1,
           1
          ],
          "title": {
           "text": "y"
          }
         },
         "zaxis": {
          "range": [
           0,
           2
          ],
          "title": {
           "text": "z"
          }
         }
        },
        "template": {
         "data": {
          "bar": [
           {
            "error_x": {
             "color": "#2a3f5f"
            },
            "error_y": {
             "color": "#2a3f5f"
            },
            "marker": {
             "line": {
              "color": "#E5ECF6",
              "width": 0.5
             },
             "pattern": {
              "fillmode": "overlay",
              "size": 10,
              "solidity": 0.2
             }
            },
            "type": "bar"
           }
          ],
          "barpolar": [
           {
            "marker": {
             "line": {
              "color": "#E5ECF6",
              "width": 0.5
             },
             "pattern": {
              "fillmode": "overlay",
              "size": 10,
              "solidity": 0.2
             }
            },
            "type": "barpolar"
           }
          ],
          "carpet": [
           {
            "aaxis": {
             "endlinecolor": "#2a3f5f",
             "gridcolor": "white",
             "linecolor": "white",
             "minorgridcolor": "white",
             "startlinecolor": "#2a3f5f"
            },
            "baxis": {
             "endlinecolor": "#2a3f5f",
             "gridcolor": "white",
             "linecolor": "white",
             "minorgridcolor": "white",
             "startlinecolor": "#2a3f5f"
            },
            "type": "carpet"
           }
          ],
          "choropleth": [
           {
            "colorbar": {
             "outlinewidth": 0,
             "ticks": ""
            },
            "type": "choropleth"
           }
          ],
          "contour": [
           {
            "colorbar": {
             "outlinewidth": 0,
             "ticks": ""
            },
            "colorscale": [
             [
              0,
              "#0d0887"
             ],
             [
              0.1111111111111111,
              "#46039f"
             ],
             [
              0.2222222222222222,
              "#7201a8"
             ],
             [
              0.3333333333333333,
              "#9c179e"
             ],
             [
              0.4444444444444444,
              "#bd3786"
             ],
             [
              0.5555555555555556,
              "#d8576b"
             ],
             [
              0.6666666666666666,
              "#ed7953"
             ],
             [
              0.7777777777777778,
              "#fb9f3a"
             ],
             [
              0.8888888888888888,
              "#fdca26"
             ],
             [
              1,
              "#f0f921"
             ]
            ],
            "type": "contour"
           }
          ],
          "contourcarpet": [
           {
            "colorbar": {
             "outlinewidth": 0,
             "ticks": ""
            },
            "type": "contourcarpet"
           }
          ],
          "heatmap": [
           {
            "colorbar": {
             "outlinewidth": 0,
             "ticks": ""
            },
            "colorscale": [
             [
              0,
              "#0d0887"
             ],
             [
              0.1111111111111111,
              "#46039f"
             ],
             [
              0.2222222222222222,
              "#7201a8"
             ],
             [
              0.3333333333333333,
              "#9c179e"
             ],
             [
              0.4444444444444444,
              "#bd3786"
             ],
             [
              0.5555555555555556,
              "#d8576b"
             ],
             [
              0.6666666666666666,
              "#ed7953"
             ],
             [
              0.7777777777777778,
              "#fb9f3a"
             ],
             [
              0.8888888888888888,
              "#fdca26"
             ],
             [
              1,
              "#f0f921"
             ]
            ],
            "type": "heatmap"
           }
          ],
          "heatmapgl": [
           {
            "colorbar": {
             "outlinewidth": 0,
             "ticks": ""
            },
            "colorscale": [
             [
              0,
              "#0d0887"
             ],
             [
              0.1111111111111111,
              "#46039f"
             ],
             [
              0.2222222222222222,
              "#7201a8"
             ],
             [
              0.3333333333333333,
              "#9c179e"
             ],
             [
              0.4444444444444444,
              "#bd3786"
             ],
             [
              0.5555555555555556,
              "#d8576b"
             ],
             [
              0.6666666666666666,
              "#ed7953"
             ],
             [
              0.7777777777777778,
              "#fb9f3a"
             ],
             [
              0.8888888888888888,
              "#fdca26"
             ],
             [
              1,
              "#f0f921"
             ]
            ],
            "type": "heatmapgl"
           }
          ],
          "histogram": [
           {
            "marker": {
             "pattern": {
              "fillmode": "overlay",
              "size": 10,
              "solidity": 0.2
             }
            },
            "type": "histogram"
           }
          ],
          "histogram2d": [
           {
            "colorbar": {
             "outlinewidth": 0,
             "ticks": ""
            },
            "colorscale": [
             [
              0,
              "#0d0887"
             ],
             [
              0.1111111111111111,
              "#46039f"
             ],
             [
              0.2222222222222222,
              "#7201a8"
             ],
             [
              0.3333333333333333,
              "#9c179e"
             ],
             [
              0.4444444444444444,
              "#bd3786"
             ],
             [
              0.5555555555555556,
              "#d8576b"
             ],
             [
              0.6666666666666666,
              "#ed7953"
             ],
             [
              0.7777777777777778,
              "#fb9f3a"
             ],
             [
              0.8888888888888888,
              "#fdca26"
             ],
             [
              1,
              "#f0f921"
             ]
            ],
            "type": "histogram2d"
           }
          ],
          "histogram2dcontour": [
           {
            "colorbar": {
             "outlinewidth": 0,
             "ticks": ""
            },
            "colorscale": [
             [
              0,
              "#0d0887"
             ],
             [
              0.1111111111111111,
              "#46039f"
             ],
             [
              0.2222222222222222,
              "#7201a8"
             ],
             [
              0.3333333333333333,
              "#9c179e"
             ],
             [
              0.4444444444444444,
              "#bd3786"
             ],
             [
              0.5555555555555556,
              "#d8576b"
             ],
             [
              0.6666666666666666,
              "#ed7953"
             ],
             [
              0.7777777777777778,
              "#fb9f3a"
             ],
             [
              0.8888888888888888,
              "#fdca26"
             ],
             [
              1,
              "#f0f921"
             ]
            ],
            "type": "histogram2dcontour"
           }
          ],
          "mesh3d": [
           {
            "colorbar": {
             "outlinewidth": 0,
             "ticks": ""
            },
            "type": "mesh3d"
           }
          ],
          "parcoords": [
           {
            "line": {
             "colorbar": {
              "outlinewidth": 0,
              "ticks": ""
             }
            },
            "type": "parcoords"
           }
          ],
          "pie": [
           {
            "automargin": true,
            "type": "pie"
           }
          ],
          "scatter": [
           {
            "fillpattern": {
             "fillmode": "overlay",
             "size": 10,
             "solidity": 0.2
            },
            "type": "scatter"
           }
          ],
          "scatter3d": [
           {
            "line": {
             "colorbar": {
              "outlinewidth": 0,
              "ticks": ""
             }
            },
            "marker": {
             "colorbar": {
              "outlinewidth": 0,
              "ticks": ""
             }
            },
            "type": "scatter3d"
           }
          ],
          "scattercarpet": [
           {
            "marker": {
             "colorbar": {
              "outlinewidth": 0,
              "ticks": ""
             }
            },
            "type": "scattercarpet"
           }
          ],
          "scattergeo": [
           {
            "marker": {
             "colorbar": {
              "outlinewidth": 0,
              "ticks": ""
             }
            },
            "type": "scattergeo"
           }
          ],
          "scattergl": [
           {
            "marker": {
             "colorbar": {
              "outlinewidth": 0,
              "ticks": ""
             }
            },
            "type": "scattergl"
           }
          ],
          "scattermapbox": [
           {
            "marker": {
             "colorbar": {
              "outlinewidth": 0,
              "ticks": ""
             }
            },
            "type": "scattermapbox"
           }
          ],
          "scatterpolar": [
           {
            "marker": {
             "colorbar": {
              "outlinewidth": 0,
              "ticks": ""
             }
            },
            "type": "scatterpolar"
           }
          ],
          "scatterpolargl": [
           {
            "marker": {
             "colorbar": {
              "outlinewidth": 0,
              "ticks": ""
             }
            },
            "type": "scatterpolargl"
           }
          ],
          "scatterternary": [
           {
            "marker": {
             "colorbar": {
              "outlinewidth": 0,
              "ticks": ""
             }
            },
            "type": "scatterternary"
           }
          ],
          "surface": [
           {
            "colorbar": {
             "outlinewidth": 0,
             "ticks": ""
            },
            "colorscale": [
             [
              0,
              "#0d0887"
             ],
             [
              0.1111111111111111,
              "#46039f"
             ],
             [
              0.2222222222222222,
              "#7201a8"
             ],
             [
              0.3333333333333333,
              "#9c179e"
             ],
             [
              0.4444444444444444,
              "#bd3786"
             ],
             [
              0.5555555555555556,
              "#d8576b"
             ],
             [
              0.6666666666666666,
              "#ed7953"
             ],
             [
              0.7777777777777778,
              "#fb9f3a"
             ],
             [
              0.8888888888888888,
              "#fdca26"
             ],
             [
              1,
              "#f0f921"
             ]
            ],
            "type": "surface"
           }
          ],
          "table": [
           {
            "cells": {
             "fill": {
              "color": "#EBF0F8"
             },
             "line": {
              "color": "white"
             }
            },
            "header": {
             "fill": {
              "color": "#C8D4E3"
             },
             "line": {
              "color": "white"
             }
            },
            "type": "table"
           }
          ]
         },
         "layout": {
          "annotationdefaults": {
           "arrowcolor": "#2a3f5f",
           "arrowhead": 0,
           "arrowwidth": 1
          },
          "autotypenumbers": "strict",
          "coloraxis": {
           "colorbar": {
            "outlinewidth": 0,
            "ticks": ""
           }
          },
          "colorscale": {
           "diverging": [
            [
             0,
             "#8e0152"
            ],
            [
             0.1,
             "#c51b7d"
            ],
            [
             0.2,
             "#de77ae"
            ],
            [
             0.3,
             "#f1b6da"
            ],
            [
             0.4,
             "#fde0ef"
            ],
            [
             0.5,
             "#f7f7f7"
            ],
            [
             0.6,
             "#e6f5d0"
            ],
            [
             0.7,
             "#b8e186"
            ],
            [
             0.8,
             "#7fbc41"
            ],
            [
             0.9,
             "#4d9221"
            ],
            [
             1,
             "#276419"
            ]
           ],
           "sequential": [
            [
             0,
             "#0d0887"
            ],
            [
             0.1111111111111111,
             "#46039f"
            ],
            [
             0.2222222222222222,
             "#7201a8"
            ],
            [
             0.3333333333333333,
             "#9c179e"
            ],
            [
             0.4444444444444444,
             "#bd3786"
            ],
            [
             0.5555555555555556,
             "#d8576b"
            ],
            [
             0.6666666666666666,
             "#ed7953"
            ],
            [
             0.7777777777777778,
             "#fb9f3a"
            ],
            [
             0.8888888888888888,
             "#fdca26"
            ],
            [
             1,
             "#f0f921"
            ]
           ],
           "sequentialminus": [
            [
             0,
             "#0d0887"
            ],
            [
             0.1111111111111111,
             "#46039f"
            ],
            [
             0.2222222222222222,
             "#7201a8"
            ],
            [
             0.3333333333333333,
             "#9c179e"
            ],
            [
             0.4444444444444444,
             "#bd3786"
            ],
            [
             0.5555555555555556,
             "#d8576b"
            ],
            [
             0.6666666666666666,
             "#ed7953"
            ],
            [
             0.7777777777777778,
             "#fb9f3a"
            ],
            [
             0.8888888888888888,
             "#fdca26"
            ],
            [
             1,
             "#f0f921"
            ]
           ]
          },
          "colorway": [
           "#636efa",
           "#EF553B",
           "#00cc96",
           "#ab63fa",
           "#FFA15A",
           "#19d3f3",
           "#FF6692",
           "#B6E880",
           "#FF97FF",
           "#FECB52"
          ],
          "font": {
           "color": "#2a3f5f"
          },
          "geo": {
           "bgcolor": "white",
           "lakecolor": "white",
           "landcolor": "#E5ECF6",
           "showlakes": true,
           "showland": true,
           "subunitcolor": "white"
          },
          "hoverlabel": {
           "align": "left"
          },
          "hovermode": "closest",
          "mapbox": {
           "style": "light"
          },
          "paper_bgcolor": "white",
          "plot_bgcolor": "#E5ECF6",
          "polar": {
           "angularaxis": {
            "gridcolor": "white",
            "linecolor": "white",
            "ticks": ""
           },
           "bgcolor": "#E5ECF6",
           "radialaxis": {
            "gridcolor": "white",
            "linecolor": "white",
            "ticks": ""
           }
          },
          "scene": {
           "xaxis": {
            "backgroundcolor": "#E5ECF6",
            "gridcolor": "white",
            "gridwidth": 2,
            "linecolor": "white",
            "showbackground": true,
            "ticks": "",
            "zerolinecolor": "white"
           },
           "yaxis": {
            "backgroundcolor": "#E5ECF6",
            "gridcolor": "white",
            "gridwidth": 2,
            "linecolor": "white",
            "showbackground": true,
            "ticks": "",
            "zerolinecolor": "white"
           },
           "zaxis": {
            "backgroundcolor": "#E5ECF6",
            "gridcolor": "white",
            "gridwidth": 2,
            "linecolor": "white",
            "showbackground": true,
            "ticks": "",
            "zerolinecolor": "white"
           }
          },
          "shapedefaults": {
           "line": {
            "color": "#2a3f5f"
           }
          },
          "ternary": {
           "aaxis": {
            "gridcolor": "white",
            "linecolor": "white",
            "ticks": ""
           },
           "baxis": {
            "gridcolor": "white",
            "linecolor": "white",
            "ticks": ""
           },
           "bgcolor": "#E5ECF6",
           "caxis": {
            "gridcolor": "white",
            "linecolor": "white",
            "ticks": ""
           }
          },
          "title": {
           "x": 0.05
          },
          "xaxis": {
           "automargin": true,
           "gridcolor": "white",
           "linecolor": "white",
           "ticks": "",
           "title": {
            "standoff": 15
           },
           "zerolinecolor": "white",
           "zerolinewidth": 2
          },
          "yaxis": {
           "automargin": true,
           "gridcolor": "white",
           "linecolor": "white",
           "ticks": "",
           "title": {
            "standoff": 15
           },
           "zerolinecolor": "white",
           "zerolinewidth": 2
          }
         }
        }
       }
      }
     },
     "metadata": {},
     "output_type": "display_data"
    }
   ],
   "source": [
    "connection = [[0,1], [1,2], [2,3], [3,4], [0,5], [5,6], [6,7], [0,8], [8,9], [9,10], [10,11], [0,12], [12,13], [13,14]]\n",
    "\n",
    "data = []\n",
    "\n",
    "frame_idx = 0\n",
    "joints_1 = go.Scatter3d(\n",
    "    x=skeleton[frame_idx, :, 0],  \n",
    "    y=skeleton[frame_idx, :, 1],  \n",
    "    z=skeleton[frame_idx, :, 2], \n",
    "    mode='markers',\n",
    "    marker={\n",
    "        'size': 6,\n",
    "        'opacity': 0.8,\n",
    "    }\n",
    ")\n",
    "\n",
    "for c in connection:\n",
    "    line_trace = go.Scatter3d(\n",
    "        x=skeleton[frame_idx, c, 0],\n",
    "        y=skeleton[frame_idx, c, 1],\n",
    "        z=skeleton[frame_idx, c, 2],\n",
    "        mode='lines',\n",
    "        line=dict(color='red', width=4)\n",
    "    )\n",
    "    data.append(line_trace)\n",
    "\n",
    "frame_idx = 240\n",
    "joints_2 = go.Scatter3d(\n",
    "    x=skeleton[frame_idx, :, 0],  \n",
    "    y=skeleton[frame_idx, :, 1],  \n",
    "    z=skeleton[frame_idx, :, 2], \n",
    "    mode='markers',\n",
    "    marker={\n",
    "        'size': 6,\n",
    "        'opacity': 0.8,\n",
    "    }\n",
    ")\n",
    "\n",
    "for c in connection:\n",
    "    line_trace = go.Scatter3d(\n",
    "        x=skeleton[frame_idx, c, 0],\n",
    "        y=skeleton[frame_idx, c, 1],\n",
    "        z=skeleton[frame_idx, c, 2],\n",
    "        mode='lines',\n",
    "        line=dict(color='red', width=4)\n",
    "    )\n",
    "    data.append(line_trace)\n",
    "\n",
    "layout = go.Layout(\n",
    "        margin={'l': 0, 'r': 0, 'b': 0, 't': 0},\n",
    "        scene = dict(\n",
    "            xaxis = dict(title=\"x\", range = [-2,2]),\n",
    "            yaxis = dict(title=\"y\", range = [-1,1]),\n",
    "            zaxis = dict(title=\"z\", range = [0,2]),\n",
    "            aspectratio=dict(x=1, y=1, z=1)\n",
    "    ))\n",
    "\n",
    "# fig = go.Figure(data=data + [joints_1, joints_2, obstacle], layout=layout)\n",
    "fig = go.Figure(data= data, layout=layout)\n",
    "# plotly.offline.iplot(fig)\n",
    "fig.show()"
   ]
  },
  {
   "cell_type": "code",
   "execution_count": null,
   "metadata": {},
   "outputs": [],
   "source": [
    "np."
   ]
  }
 ],
 "metadata": {
  "kernelspec": {
   "display_name": "MAP",
   "language": "python",
   "name": "python3"
  },
  "language_info": {
   "codemirror_mode": {
    "name": "ipython",
    "version": 3
   },
   "file_extension": ".py",
   "mimetype": "text/x-python",
   "name": "python",
   "nbconvert_exporter": "python",
   "pygments_lexer": "ipython3",
   "version": "3.8.19"
  }
 },
 "nbformat": 4,
 "nbformat_minor": 2
}
