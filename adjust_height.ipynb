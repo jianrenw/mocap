{
 "cells": [
  {
   "cell_type": "code",
   "execution_count": 1,
   "metadata": {},
   "outputs": [],
   "source": [
    "import joblib"
   ]
  },
  {
   "cell_type": "code",
<<<<<<< HEAD
   "execution_count": 2,
=======
   "execution_count": 5,
   "metadata": {},
   "outputs": [],
   "source": [
    "data_path = \"/data/home/jianrenw/MAP/data/isaac_adam_standard_walk.pt\"\n",
    "adam_poses = joblib.load(data_path)"
   ]
  },
  {
   "cell_type": "code",
   "execution_count": 6,
   "metadata": {},
   "outputs": [
    {
     "name": "stdout",
     "output_type": "stream",
     "text": [
      "(261,)\n",
      "(261, 32, 3)\n"
     ]
    }
   ],
   "source": [
    "keys = list(adam_poses.keys())\n",
    "adam_pose = adam_poses[keys[0]]\n",
    "left_foot_contact = adam_pose[\"left_foot_contact\"]\n",
    "body_pos = adam_pose[\"body_pos\"]\n",
    "print(left_foot_contact.shape)\n",
    "print(body_pos.shape)"
   ]
  },
  {
   "cell_type": "code",
   "execution_count": 419,
>>>>>>> 5d1fdf0744fb88a5962c48161c5c669b7de2600a
   "metadata": {},
   "outputs": [],
   "source": [
    "data_path = \"/home/jianrenw/MAP/data/isaac_adam_standard_add_sign.pt\"\n",
    "adam_poses = joblib.load(data_path)"
   ]
  },
  {
   "cell_type": "code",
   "execution_count": 3,
   "metadata": {},
   "outputs": [
    {
     "name": "stdout",
     "output_type": "stream",
     "text": [
      "Importing module 'gym_38' (/home/jianrenw/isaacgym/python/isaacgym/_bindings/linux-x86_64/gym_38.so)\n",
      "Setting GYM_USD_PLUG_INFO_PATH to /home/jianrenw/isaacgym/python/isaacgym/_bindings/linux-x86_64/usd/plugInfo.json\n"
     ]
    },
    {
     "name": "stderr",
     "output_type": "stream",
     "text": [
      "/home/jianrenw/anaconda3/envs/MAP/lib/python3.8/site-packages/tqdm/auto.py:21: TqdmWarning: IProgress not found. Please update jupyter and ipywidgets. See https://ipywidgets.readthedocs.io/en/stable/user_install.html\n",
      "  from .autonotebook import tqdm as notebook_tqdm\n"
     ]
    },
    {
     "name": "stdout",
     "output_type": "stream",
     "text": [
      "PyTorch version 1.13.1\n",
      "Device count 4\n",
      "/home/jianrenw/isaacgym/python/isaacgym/_bindings/src/gymtorch\n"
     ]
    },
    {
     "name": "stderr",
     "output_type": "stream",
     "text": [
      "Using /home/jianrenw/.cache/torch_extensions/py38_cu116 as PyTorch extensions root...\n",
      "Emitting ninja build file /home/jianrenw/.cache/torch_extensions/py38_cu116/gymtorch/build.ninja...\n",
      "Building extension module gymtorch...\n",
      "Allowing ninja to set a default number of workers... (overridable by setting the environment variable MAX_JOBS=N)\n"
     ]
    },
    {
     "name": "stdout",
     "output_type": "stream",
     "text": [
      "ninja: no work to do.\n"
     ]
    },
    {
     "name": "stderr",
     "output_type": "stream",
     "text": [
      "Loading extension module gymtorch...\n"
     ]
    }
   ],
   "source": [
    "from isaacgym import gymapi, gymtorch, gymutil"
   ]
  },
  {
   "cell_type": "code",
   "execution_count": 4,
   "metadata": {},
   "outputs": [
    {
     "name": "stdout",
     "output_type": "stream",
     "text": [
      "Physics Engine: FleX\n",
      "Physics Device: cuda:0\n",
      "GPU Pipeline: disabled\n"
     ]
    }
   ],
   "source": [
    "gym = gymapi.acquire_gym()\n",
    "\n",
    "sim = gym.create_sim()\n",
    "\n",
    "# add cartpole urdf asset\n",
    "asset_root = \"robots/adam_standard\"\n",
    "asset_file = \"urdf/adam_standard_foot_contact.urdf\"\n",
    "\n",
    "asset_options = gymapi.AssetOptions()\n",
    "asset_options.collapse_fixed_joints = False\n",
    "\n",
    "robot_asset = gym.load_asset(sim, asset_root, asset_file)\n",
    "rigid_body_names = gym.get_asset_rigid_body_names(robot_asset)\n",
    "rigid_body_dict = gym.get_asset_rigid_body_dict(robot_asset)\n",
    "dof_names = gym.get_asset_dof_names(robot_asset)\n",
    "left_ankle_idx = rigid_body_names.index(\"toeLeft\")\n",
    "right_ankle_idx = rigid_body_names.index(\"toeRight\")\n",
    "left_foot_indices = [i for i, name in enumerate(rigid_body_names) if 'leftFoot' in name]\n",
    "right_foot_indices = [i for i, name in enumerate(rigid_body_names) if 'rightFoot' in name]"
   ]
  },
  {
   "cell_type": "code",
   "execution_count": 5,
   "metadata": {},
   "outputs": [],
   "source": [
    "import numpy as np\n",
    "import torch"
   ]
  },
  {
   "cell_type": "code",
   "execution_count": 6,
   "metadata": {},
   "outputs": [],
   "source": [
    "spacing = 2.0\n",
    "lower = gymapi.Vec3(-spacing, -spacing, -spacing)\n",
    "upper = gymapi.Vec3(spacing, spacing, spacing)\n",
    "env = gym.create_env(sim, lower, upper, 1)\n",
    "\n",
    "pose = gymapi.Transform()\n",
    "pose.p = gymapi.Vec3(0.0, 0.0, 2.0)\n",
    "\n",
    "actor_handle = gym.create_actor(env, robot_asset, pose, \"adam_actor\", 0, 1)"
   ]
  },
  {
   "cell_type": "code",
   "execution_count": 7,
   "metadata": {},
   "outputs": [],
   "source": [
    "import matplotlib.pyplot as plt\n",
    "%matplotlib inline"
   ]
  },
  {
   "cell_type": "code",
   "execution_count": 23,
   "metadata": {},
   "outputs": [],
   "source": [
    "keys = adam_poses.keys()\n",
    "jumps = []\n",
    "for k in keys:\n",
    "    if 'hop' in k:\n",
    "        jumps.append(k)"
   ]
  },
  {
   "cell_type": "code",
   "execution_count": 24,
   "metadata": {},
   "outputs": [
    {
     "data": {
      "text/plain": [
       "['ACCAD_Male2Walking_c3d_B17 -  Walk to hop to walk a_poses',\n",
       " 'ACCAD_Male2Walking_c3d_B17 -  Walk to hop to walk_poses',\n",
       " 'ACCAD_Female1Walking_c3d_B17 - walk to hop to walk1_poses',\n",
       " 'ACCAD_Male2Running_c3d_C18 - run to hop to walk_poses',\n",
       " 'ACCAD_Male1Walking_c3d_Walk B17 - Walk 2 hop 2 walk_poses',\n",
       " 'ACCAD_Female1Running_c3d_C19 -  run to hop to walk_poses',\n",
       " 'DFaust_67_50027_50027_light_hopping_loose_poses',\n",
       " 'DFaust_67_50027_50027_light_hopping_stiff_poses',\n",
       " 'DFaust_67_50025_50025_light_hopping_stiff_poses',\n",
       " 'DFaust_67_50025_50025_light_hopping_loose_poses',\n",
       " 'DFaust_67_50022_50022_light_hopping_stiff_poses',\n",
       " 'DFaust_67_50022_50022_light_hopping_loose_poses',\n",
       " 'DFaust_67_50002_50002_light_hopping_stiff_poses',\n",
       " 'DFaust_67_50002_50002_light_hopping_loose_poses',\n",
       " 'DFaust_67_50026_50026_light_hopping_stiff_poses',\n",
       " 'DFaust_67_50026_50026_light_hopping_loose_poses',\n",
       " 'DFaust_67_50004_50004_light_hopping_loose_poses',\n",
       " 'DFaust_67_50004_50004_light_hopping_stiff_poses',\n",
       " 'DFaust_67_50021_50021_light_hopping_stiff_poses',\n",
       " 'DFaust_67_50007_50007_light_hopping_stiff_poses',\n",
       " 'DFaust_67_50007_50007_light_hopping_loose_poses',\n",
       " 'DFaust_67_50009_50009_light_hopping_loose_poses',\n",
       " 'DFaust_67_50009_50009_light_hopping_stiff_poses',\n",
       " 'DFaust_67_50020_50020_light_hopping_loose_poses',\n",
       " 'DFaust_67_50020_50020_light_hopping_stiff_poses',\n",
       " 'MPI_mosh_50027_misc_dancing_hiphop_poses',\n",
       " 'MPI_mosh_50027_light_hopping_loose_poses',\n",
       " 'MPI_mosh_50027_light_hopping_stiff_poses',\n",
       " 'MPI_mosh_50025_side_to_side_hopping 1_poses',\n",
       " 'MPI_mosh_50025_light_hopping_loose_poses',\n",
       " 'MPI_mosh_50025_light_hopping_stiff_poses',\n",
       " 'MPI_mosh_50022_side_to_side_hop_poses',\n",
       " 'MPI_mosh_50026_light_hopping_loose_poses',\n",
       " 'MPI_mosh_50026_light_hopping_stiff_poses',\n",
       " 'MPI_mosh_50004_light_hopping_stiff_poses',\n",
       " 'MPI_mosh_50007_light_hopping_loose_poses',\n",
       " 'MPI_mosh_50007_light_hopping_stiff_poses',\n",
       " 'SSM_synced_20161014_50033_hop_on_one_leg_sync_poses',\n",
       " 'SSM_synced_20161014_50033_light_hopping_loose_sync_poses',\n",
       " 'SSM_synced_20160930_50032_light_hopping_loose_sync_poses',\n",
       " 'SSM_synced_20160330_03333_side_hopping_poses']"
      ]
     },
     "execution_count": 24,
     "metadata": {},
     "output_type": "execute_result"
    }
   ],
   "source": [
    "jumps"
   ]
  },
  {
   "cell_type": "code",
   "execution_count": 25,
   "metadata": {},
   "outputs": [],
   "source": [
    "# key = \"KIT_3_walking_medium02_poses\"\n",
    "key = \"ACCAD_Male2Walking_c3d_B17 -  Walk to hop to walk a_poses\"\n",
    "adam_pose = adam_poses[key]"
   ]
  },
  {
   "cell_type": "code",
   "execution_count": 26,
   "metadata": {},
   "outputs": [],
   "source": [
    "root_pos = adam_pose[\"root_pos\"]\n",
    "root_rot = adam_pose[\"root_rot\"]\n",
    "root_vel = adam_pose[\"root_vel\"]\n",
    "root_angular_vel = adam_pose[\"root_angular_vel\"]\n",
    "dof_pos = adam_pose[\"dof_pos\"]\n",
    "dof_vel = adam_pose[\"dof_vel\"]\n",
    "\n",
    "frame_num = len(root_pos)\n",
    "\n",
    "root_states = torch.cat([torch.from_numpy(root_pos), torch.from_numpy(root_rot), torch.from_numpy(root_vel), torch.from_numpy(root_angular_vel)], dim=1).type(torch.float32)\n",
    "dof_states = torch.stack([torch.from_numpy(dof_pos), torch.from_numpy(dof_vel)],axis=2).type(torch.float32)\n",
    "rigid_body_states = []\n",
    "\n",
    "# Simulate\n",
    "left_ankle_poses = []\n",
    "right_ankle_poses = []\n",
    "\n",
    "for i in range(frame_num):\n",
    "\n",
    "    gym.set_actor_root_state_tensor(sim, gymtorch.unwrap_tensor(root_states[i]))\n",
    "    gym.set_dof_state_tensor(sim, gymtorch.unwrap_tensor(dof_states[i]))\n",
    "    gym.refresh_rigid_body_state_tensor(sim)\n",
    "    rigid_body_state = gym.acquire_rigid_body_state_tensor(sim)\n",
    "    rigid_body_state = gymtorch.wrap_tensor(rigid_body_state)\n",
    "    left_foot_poses = rigid_body_state[left_foot_indices, 0:3]\n",
    "    right_foot_poses = rigid_body_state[right_foot_indices, 0:3]\n",
    "    left_ankle_pose = rigid_body_state[left_ankle_idx, 0:3]\n",
    "    right_ankle_pose = rigid_body_state[right_ankle_idx, 0:3]\n",
    "    # new_root_pose = root_states[i, 0:3]\n",
    "    # new_root_pose[2] = root_states[i, 2] - torch.min(torch.cat([left_foot_poses, right_foot_poses])[:,2])\n",
    "    left_ankle_poses.append(left_ankle_pose.clone())\n",
    "    right_ankle_poses.append(right_ankle_pose.clone())\n",
    "    \n",
    "    \n",
    "    \n",
    "#     new_root_poses.append(new_root_pose)\n",
    "#     print(torch.min(torch.cat([left_foot_poses, right_foot_poses])[:,2]))\n",
    "# new_root_poses = torch.stack(new_root_poses, dim=0)"
   ]
  },
  {
   "cell_type": "code",
   "execution_count": 27,
   "metadata": {},
   "outputs": [],
   "source": [
    "left_ankle_poses = torch.stack(left_ankle_poses).numpy()\n",
    "right_ankle_poses = torch.stack(right_ankle_poses).numpy()\n",
    "left_z = left_ankle_poses[:,2]\n",
    "right_z = right_ankle_poses[:,2]"
   ]
  },
  {
   "cell_type": "code",
   "execution_count": 28,
   "metadata": {},
   "outputs": [],
   "source": [
    "def find_flat_segments(arr, threshold=0.004, min_length=10):\n",
    "    segments = []\n",
    "    start = 0\n",
    "    \n",
    "    for i in range(1, len(arr)):\n",
    "        if abs(arr[i] - arr[i-1]) >= threshold:\n",
    "            if i - start >= min_length:\n",
    "                segments.append((start, i-1))\n",
    "            start = i\n",
    "    \n",
    "    # Check the last segment\n",
    "    if len(arr) - start >= min_length:\n",
    "        segments.append((start, len(arr)-1))\n",
    "    \n",
    "    flat_positions = []\n",
    "    for flat_segment in segments:\n",
    "        start_idx, end_idx = flat_segment\n",
    "        flat_positions.append(np.arange(start_idx, end_idx))\n",
    "\n",
    "    flat_positions = np.concatenate(flat_positions)\n",
    "        \n",
    "\n",
    "    return flat_positions"
   ]
  },
  {
   "cell_type": "code",
   "execution_count": 29,
   "metadata": {},
   "outputs": [],
   "source": [
    "left_flat_positions = find_flat_segments(left_z)\n",
    "right_flat_positions = find_flat_segments(right_z)"
   ]
  },
  {
   "cell_type": "code",
   "execution_count": 30,
   "metadata": {},
   "outputs": [
    {
     "data": {
      "image/png": "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",
      "text/plain": [
       "<Figure size 640x480 with 1 Axes>"
      ]
     },
     "metadata": {},
     "output_type": "display_data"
    }
   ],
   "source": [
    "mean_left_z = np.mean(left_z[left_flat_positions])\n",
    "corrected_left_z = left_z - mean_left_z \n",
    "\n",
    "\n",
    "mean_right_z = np.mean(right_z[right_flat_positions])\n",
    "corrected_right_z = right_z - mean_right_z \n",
    "\n",
    "x = np.arange(0, len(left_z))\n",
    "plt.plot(x, corrected_left_z, label='left')\n",
    "plt.plot(x, corrected_right_z, label='right')\n",
    "plt.plot(x, left_z, label='left')\n",
    "plt.plot(x, right_z, label='right')\n",
    "plt.plot(x[left_flat_positions], left_z[left_flat_positions], 'ro')\n",
    "plt.plot(x[right_flat_positions], right_z[right_flat_positions], 'ro')\n",
    "\n",
    "\n",
    "plt.xlabel('Time')\n",
    "plt.ylabel('Position')\n",
    "plt.title('Foot position')\n",
    "plt.legend()\n",
    "\n",
    "plt.show()"
   ]
  },
  {
   "cell_type": "code",
   "execution_count": 426,
   "metadata": {},
   "outputs": [
    {
     "data": {
      "image/png": "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",
      "text/plain": [
       "<Figure size 640x480 with 1 Axes>"
      ]
     },
     "metadata": {},
     "output_type": "display_data"
    }
   ],
   "source": [
    "x = np.arange(0, len(right_z) -1)\n",
    "# plt.plot(x, corrected_left_z, label='left')\n",
    "# plt.plot(x, corrected_right_z, label='right')\n",
    "plt.plot(x, np.diff(right_z), label='left')\n",
    "\n",
    "plt.xlabel('Time')\n",
    "plt.ylabel('Position')\n",
    "plt.title('Foot position')\n",
    "plt.legend()\n",
    "\n",
    "plt.show()"
   ]
  },
  {
   "cell_type": "code",
   "execution_count": 427,
   "metadata": {},
   "outputs": [
    {
     "data": {
      "text/plain": [
       "0.078058116"
      ]
     },
     "execution_count": 427,
     "metadata": {},
     "output_type": "execute_result"
    }
   ],
   "source": [
    "mean_left_z"
   ]
  },
  {
   "cell_type": "code",
   "execution_count": 31,
   "metadata": {},
   "outputs": [],
   "source": [
    "threshold = 0.004\n",
    "\n",
    "left_food_contact = np.zeros_like(left_z)\n",
    "right_food_contact = np.zeros_like(right_z)\n",
    "\n",
    "diff = corrected_left_z - corrected_right_z\n",
    "left_food_contact[np.abs(diff) < threshold] = 1\n",
    "right_food_contact[np.abs(diff) < threshold] = 1\n",
    "\n",
    "left_food_contact[diff >= threshold] = 0\n",
    "right_food_contact[diff >= threshold] = 1\n",
    "\n",
    "left_food_contact[diff <= -threshold] = 1\n",
    "right_food_contact[diff <= -threshold] = 0"
   ]
  },
  {
   "cell_type": "code",
   "execution_count": 32,
   "metadata": {},
   "outputs": [
    {
     "data": {
      "image/png": "iVBORw0KGgoAAAANSUhEUgAAAjcAAAHHCAYAAABDUnkqAAAAOXRFWHRTb2Z0d2FyZQBNYXRwbG90bGliIHZlcnNpb24zLjcuNSwgaHR0cHM6Ly9tYXRwbG90bGliLm9yZy/xnp5ZAAAACXBIWXMAAA9hAAAPYQGoP6dpAACkrUlEQVR4nOydeXwTZf7HP5O06X3fF5T7EijCgqggCIrHKlpRPFYQFbxQELzQFQQPXDwAFXWXnwq6KnJUWEVRQIqIIAhyI3K0tJSelN5H2uT5/TGZSdLmmElmkrT9vl+vvCadeWbmyTTJfPI9OcYYA0EQBEEQRDtB4+0JEARBEARBKAmJG4IgCIIg2hUkbgiCIAiCaFeQuCEIgiAIol1B4oYgCIIgiHYFiRuCIAiCINoVJG4IgiAIgmhXkLghCIIgCKJdQeKGIAiCIIh2BYkbgiAIG+Tm5oLjOKxYsULSeI7j8NJLL6k6J4IgpEHihiA6OCtWrADHcTYfzz33nCrnPHbsGF566SXk5uaqcny1+O6770jAEEQbwM/bEyAIwjdYsGABunTpYrXukksuUeVcx44dw/z58zFq1Cikp6ercg536dy5M+rr6+Hv7y+u++6777Bs2TKbAqe+vh5+fvSVShC+AH0SCYIAAFx//fUYMmSIt6fhM3Ach8DAQMnj5YwlCEJdyC1FEIQkfvrpJ4wYMQIhISGIjIzE+PHjcfz48Vbj/vjjD1x//fUIDw9HaGgoxowZg927d4vbV6xYgdtvvx0AMHr0aNEFlp2dbffc9913H0JDQ3HmzBmMGzcOISEhSE5OxoIFC8AYsxpbW1uL2bNnIy0tDQEBAejVqxfefPPNVuM2b96MK6+8EpGRkQgNDUWvXr3w/PPPi9tbxtzcd999WLZsGQBYue4EbMXcOLsWwvXgOA47d+7ErFmzEBcXh5CQENx6660oLS21e00IgrAPWW4IggAAVFZWoqyszGpdbGwsAGDLli24/vrr0bVrV7z00kuor6/Hu+++iyuuuAL79+8XXUtHjx7FiBEjEB4ejmeeeQb+/v7497//jVGjRmH79u0YNmwYRo4ciSeeeALvvPMOnn/+efTp0wcAxKU9DAYDrrvuOlx22WVYtGgRNm3ahHnz5qG5uRkLFiwAADDGcPPNN2Pbtm144IEHkJGRgR9++AFPP/00CgoKsHjxYnGef//73zFgwAAsWLAAAQEBOHXqFHbu3Gn3/A899BDOnz+PzZs347PPPnN6PaVcC0sef/xxREVFYd68ecjNzcWSJUswffp0fPXVV07PRRBECxhBEB2aTz75hAGw+RDIyMhg8fHx7MKFC+K6gwcPMo1GwyZNmiSuu+WWW5hOp2OnT58W150/f56FhYWxkSNHiuvWrFnDALBt27ZJmuPkyZMZAPb444+L64xGI7vxxhuZTqdjpaWljDHG1q9fzwCwV155xWr/CRMmMI7j2KlTpxhjjC1evJgBEPezRU5ODgPAPvnkE3HdY489xux9bQJg8+bNE/+Wei2E6z927FhmNBrF9U8++STTarWsoqLCwZUhCMIW5JYiCAIAsGzZMmzevNnqAQCFhYU4cOAA7rvvPkRHR4vjBwwYgGuuuQbfffcdAN6y8uOPP+KWW25B165dxXFJSUm4++678csvv6CqqsqtOU6fPl18znEcpk+fDr1ejy1btgDgA361Wi2eeOIJq/1mz54Nxhi+//57AEBkZCQAYMOGDTAajW7NyRauXItp06ZZublGjBgBg8GAs2fPKj4/gmjvkLghCAIAMHToUIwdO9bqAUC8ufbq1avVPn369EFZWRlqa2tRWlqKuro6u+OMRiPy8/Ndnp9Go7ESCgDQs2dPABBTys+ePYvk5GSEhYW1Or/la5k4cSKuuOIKPPjgg0hISMCdd96J1atXKyZ0XLkWnTp1svo7KioKAHDx4kVF5kQQHQkSNwRBdDiCgoLw888/Y8uWLbj33ntx6NAhTJw4Eddccw0MBoNX5qTVam2uZy0CoQmCcA6JG4IgHNK5c2cAwIkTJ1pt+/PPPxEbG4uQkBDExcUhODjY7jiNRoO0tDQAsHK/SMVoNOLMmTNW6/766y8AEAOaO3fujPPnz6O6urrV+S1fC8BbgsaMGYO3334bx44dw6uvvoqffvoJ27ZtszsHqfOWcy0IglAeEjcEQTgkKSkJGRkZWLlyJSoqKsT1R44cwY8//ogbbrgBAG95uPbaa7FhwwarysPFxcX44osvcOWVVyI8PBwAEBISAgBWx5PCe++9Jz5njOG9996Dv78/xowZAwC44YYbYDAYrMYBwOLFi8FxHK6//noAQHl5eatjZ2RkAAAaGxvtnl/qvOVcC4IglIdSwQmCcMobb7yB66+/HsOHD8cDDzwgpoJHRERY1XZ55ZVXxPoxjz76KPz8/PDvf/8bjY2NWLRokTguIyMDWq0W//rXv1BZWYmAgABcffXViI+PtzuHwMBAbNq0CZMnT8awYcPw/fffY+PGjXj++ecRFxcHALjpppswevRovPDCC8jNzcXAgQPx448/YsOGDZg5cya6desGgK/G/PPPP+PGG29E586dUVJSgvfffx+pqam48sor7c5h8ODBAIAnnngC48aNg1arxZ133mlzrNRrQRCECng5W4sgCC8jpCLv3bvX4bgtW7awK664ggUFBbHw8HB20003sWPHjrUat3//fjZu3DgWGhrKgoOD2ejRo9mvv/7aatzy5ctZ165dmVardZoWPnnyZBYSEsJOnz7Nrr32WhYcHMwSEhLYvHnzmMFgsBpbXV3NnnzySZacnMz8/f1Zjx492BtvvGGVZr1161Y2fvx4lpyczHQ6HUtOTmZ33XUX++uvv8QxtlLBm5ub2eOPP87i4uIYx3FWaeFokQou9VrYu/7btm2TlS5PEIQZjjGKViMIwre57777sHbtWtTU1Hh7KgRBtAEo5oYgCIIgiHYFiRuCIAiCINoVJG4IgiAIgmhXUMwNQRAEQRDtCrLcEARBEATRriBxQxAEQRBEu6LDFfEzGo04f/48wsLCXCoBTxAEQRCE52GMobq6GsnJydBoHNtmOpy4OX/+PPV0IQiCIIg2Sn5+PlJTUx2O6XDiJiwsDAB/cai3C0EQBEG0DaqqqpCWlibexx3R4cSN4IoKDw8ncUMQBEEQbQwpISUUUEwQBEEQRLuCxA1BEARBEO0KEjcEQRAEQbQrOlzMDUEQBOE9DAYDmpqavD0NwkfR6XRO07ylQOKGIAiCUB3GGIqKilBRUeHtqRA+jEajQZcuXaDT6dw6DokbgiAIQnUEYRMfH4/g4GAqokq0QiiyW1hYiE6dOrn1HiFxQxAEQaiKwWAQhU1MTIy3p0P4MHFxcTh//jyam5vh7+/v8nEooJggCIJQFSHGJjg42MszIXwdwR1lMBjcOg6JG4IgCMIjkCuKcIZS7xESNwRBEARBtCtI3BAEQRCEHUaNGoWZM2dKHr9+/Xp0794dWq1W1n6EslBAMUEQBEEoxEMPPYQpU6bgiSeeQFhYGO677z5UVFRg/fr13p5ah4LEDUEQBNGKi7V6hAT4QedHBn6p1NTUoKSkBOPGjUNycrK3p9OhoXctQRAEYcXr3/+JQS9vRu8Xv8eybae8PR2fobGxEU899RRSUlIQEhKCYcOGITs7GwCQnZ2NsLAwAMDVV18NjuMwatQorFy5Ehs2bADHceA4ThxPqAtZbgiCIAgrfjhaBAAwMmDV3jw8Nrq74udgjKG+yb10X1cI8te6nJEzffp0HDt2DKtWrUJycjK+/vprXHfddTh8+DAuv/xynDhxAr169cK6detw+eWXIzg4GFOnTkVVVRU++eQTAEB0dLSSL4ewA4kbgiAIQqS6oQk5ZbXi3/nl9bhQ04iY0ABFz1PfZEDfuT8oekwpHFswDsE6+be+vLw8fPLJJ8jLyxNdTk899RQ2bdqETz75BK+99hri4+MB8AImMTERABAUFITGxkbxb8IzkLghCIIgRI4XVgMAkiICERLgh1MlNTiQX4ExfRK8PDPvcvjwYRgMBvTs2dNqfWNjI1Vd9kFI3BAEQRAiRwoqAQD9kiMQGeyvmrgJ8tfi2IJxih5T6nldoaamBlqtFvv27YNWa32M0NBQJaZGKAiJG4IgCELk6PkqAEC/5HDEhQVg7b5z+COvQvHzcBznknvIWwwaNAgGgwElJSUYMWKE5P10Op3brQQI+VC2FEEQBCFy9DxvubkkJQIZaZEAgIP5FTAamRdn5X169uyJe+65B5MmTUJWVhZycnKwZ88eLFy4EBs3brS7X3p6Og4dOoQTJ06grKxM7LNFqAuJG4IgCAIA0NBkwMmSGgDAJSnh6J0YhgA/Daobm3HuYr2XZ+d9PvnkE0yaNAmzZ89Gr169cMstt2Dv3r3o1KmT3X2mTp2KXr16YciQIYiLi8POnTs9OOOOS9uxCRIEQRCqUlBRD4ORIUSnRWJ4IDiOQ0pkEM6U1aKgoh6dYjpeV2/LujT+/v6YP38+5s+fb3NsZGQkGLO2cMXFxeHHH39Uc4qEDchyQxAEQQAASqsbAQDxJmEDAMmRQQCA8xVkuSHaDiRuCIIgCABAiUncxIWZa9okRQQCAAorSdwQbQcSNwRBEAQAoKSqAQAQbyFuBMtNQUWDV+ZEEK5A4oYgCIIAYOGWCgsU1yVHkuWGaHv4hLhZtmwZ0tPTERgYiGHDhmHPnj12x65YsUJsQCY8AgMD7Y4nCIIgpFEixty0ttxQzA3RlvC6uPnqq68wa9YszJs3D/v378fAgQMxbtw4lJSU2N0nPDwchYWF4uPs2bMenDFBEET7RLDcxIVaxtzw4qaQ3FJEG8Lr4ubtt9/G1KlTMWXKFPTt2xcffvghgoOD8fHHH9vdh+M4JCYmio+EhI7d84QgCEIJSqpNMTdWlhveMl7d2IyqBipAR7QNvCpu9Ho99u3bh7Fjx4rrNBoNxo4di127dtndr6amBp07d0ZaWhrGjx+Po0eP2h3b2NiIqqoqqwdBEATRmhIbMTfBOj9EBfsDIOsN0XbwqrgpKyuDwWBoZXlJSEhAUVGRzX169eqFjz/+GBs2bMB///tfGI1GXH755Th37pzN8QsXLkRERIT4SEtLU/x1EARBtHUamw2oqOMtM5bZUoDZNUVxN0RbwetuKbkMHz4ckyZNQkZGBq666ipkZWUhLi4O//73v22OnzNnDiorK8VHfn6+h2dMEATh+wjxNv5aDpEmS42AGFRMGVMA+NCI9evXSx6fnZ0NjuNQUVGh2pwIa7zafiE2NhZarRbFxcVW64uLi5GYmCjpGP7+/hg0aBBOnTplc3tAQAACAgJsbiMIgiB4LIOJherEAkIhv6JKcksBQGFhIaKiohQ95ksvvYT169fjwIEDih63o+JVy41Op8PgwYOxdetWcZ3RaMTWrVsxfPhwSccwGAw4fPgwkpKS1JomQRBEu0esThzeurRGTKgOAHChVu/ROfkier0eiYmJ9KPZx/G6W2rWrFlYvnw5Vq5ciePHj+ORRx5BbW0tpkyZAgCYNGkS5syZI45fsGABfvzxR5w5cwb79+/HP/7xD5w9exYPPvigt14CQRBEm8ccTNz6ph0Twoub8pqOJ25GjRqF6dOnY+bMmYiNjcW4ceNauaV+/fVXZGRkIDAwEEOGDMH69evBcVwrK8y+ffswZMgQBAcH4/LLL8eJEycA8PXb5s+fj4MHD4r121asWOG5F9kO8XpX8IkTJ6K0tBRz585FUVERMjIysGnTJjHIOC8vDxqNWYNdvHgRU6dORVFREaKiojB48GD8+uuv6Nu3r7deAkEQRJvnQg0vbmJDW4ub6BB+XbmSlhvGgKY65Y4nFf9goIXbzRkrV67EI488gp07dwIAevfuLW6rqqrCTTfdhBtuuAFffPEFzp49i5kzZ9o8zgsvvIC33noLcXFxePjhh3H//fdj586dmDhxIo4cOYJNmzZhy5YtAICIiAjXXh8BwAfEDQBMnz4d06dPt7nNst08ACxevBiLFy/2wKwIgiA6DkKmVMtgYgCIDhHcUo3KnbCpDngtWbnjSeX584AuRNYuPXr0wKJFi2xu++KLL8BxHJYvX47AwED07dsXBQUFmDp1aquxr776Kq666ioAwHPPPYcbb7wRDQ0NCAoKQmhoKPz8/CTHmxKO8bpbiiAIgvA+VfW8uIkIai1uhJgbRS03bYjBgwfb3XbixAkMGDDAqg3Q0KFDbY4dMGCA+FyIE3VUjZ9wHZ+w3BAEQRDepdIkbiJtiBvBclNR3wSDkUGrkefWsYl/MG9F8TT+wbJ3CQmRZ+mxe2p/87UVMtKMRqMixyasIXFDEARBiOLGluUmKlgHjuPDZC7W6W3G5ciG42S7h3yRXr164b///S8aGxvFDKq9e/fKPo5Op4PBYFB6eh0WcksRBEEQqHAgbrQaTrTodFTXlD3uvvtuGI1GTJs2DcePH8cPP/yAN998EwBa1QtyRHp6OnJycnDgwAGUlZWhsVHB+KYOCIkbgiAIQrTchNsQNwAQJQQVd8B0cEeEh4fjm2++wYEDB5CRkYEXXngBc+fOBQCrOBxn3HbbbbjuuuswevRoxMXF4csvv1Rryh0CcksRBEEQ5pgbG9lSAF/r5kxpbYez3LTM2AUAxpjV35dffjkOHjwo/v3555/D398fnTp1AsDXymm5T0ZGhtW6gIAArF27VsGZd2xI3BAEQXRwGpoM0Dfzga223FKAOai4XMl08HbCp59+iq5duyIlJQUHDx7Es88+izvuuANBQUHenlqHhcQNQRBEB0eocaPVcAgNsH1bEAr5UQuG1hQVFYmFaJOSknD77bfj1Vdf9fa0OjQkbgiCIDo4lplS9oJgxRYMJG5a8cwzz+CZZ57x9jQICyigmCAIooPjKA1cwFylmMQN4fuQuCEIgujgOMuUAiyqFFO2FNEGIHFDEATRwamo4wWLFMsNuaWItgCJG4IgiA6Oo9YLAlHBJnFTR+KG8H1I3BAEQXRwHDXNFBC2CWMJwpchcUMQBNHBkRJQLMTjNDYb0dBEPZAI34bEDUEQRAenwkl1YgAIC/CDkCVe1dBxrDejRo3CzJkzZe2zfv16dO/eHVqtVva+hDKQuCEIgujgSMmW0mg4hJkK/FXVN3tkXjYxGIDsbODLL/mlD3bSfuihhzBhwgTk5+fj5Zdfxn333YdbbrnF29MCwDfoXLJkiaLHzM3NBcdxOHDggKLHdQcq4kcQBNHBkeKWAoCIYH9UNTSL4z1OVhYwYwZw7px5XWoqsHQpkJnpnTm1oKamBiUlJRg3bhySk5O9PZ0OC1luCIIgOjhSxU14oCmo2BtuqawsYMIEa2EDAAUF/PqsLI9Mo7GxEU899RRSUlIQEhKCYcOGic01s7OzERYWBgC4+uqrwXEcRo0ahZUrV2LDhg3gOA4cx9lsxgkARqMRixYtQvfu3REQEIBOnTpZtXE4fPgwrr76agQFBSEmJgbTpk1DTU2NuF2wEL355ptISkpCTEwMHnvsMTQ18f+vUaNG4ezZs3jyySfFuQDAhQsXcNdddyElJQXBwcHo379/q67kjubWpUsXAMCgQYPE1+xtSNwQBEF0cGoaeDdTWKBjY77XMqYMBt5i06KzNgDzupkzPeKimj59Onbt2oVVq1bh0KFDuP3223Hdddfh5MmTuPzyy3HixAkAwLp161BYWIj//e9/uOOOO3DdddehsLAQhYWFuPzyy20ee86cOXj99dfx4osv4tixY/jiiy+QkJAAAKitrcW4ceMQFRWFvXv3Ys2aNdiyZQumT59udYxt27bh9OnT2LZtG1auXIkVK1ZgxYoVAICsrCykpqZiwYIF4lwAoKGhAYMHD8bGjRtx5MgRTJs2Dffeey/27NkjaW7CuC1btqCwsBBZHhKaDmEdjMrKSgaAVVZWensqBEEQPkGfF79nnZ/9lp0tq3U47uHPfmedn/2Wffprjqzj19fXs2PHjrH6+nrXJrhtG2O8jHH82LbNteM74KqrrmIzZsxgjDF29uxZptVqWUFBgdWYMWPGsDlz5jDGGLt48SIDwLZZzGXy5Mls/PjxDs9TVVXFAgIC2PLly21u/89//sOioqJYTU2NuG7jxo1Mo9GwoqIi8TydO3dmzc3N4pjbb7+dTZw4Ufy7c+fObPHixc5eNrvxxhvZ7NmzJc0tJyeHAWB//PGH0+M6w9F7Rc79m2JuCIIgOjAGI0Odnrd4hARoHY4V3FIej7kxWRgUG+cihw8fhsFgQM+ePa3WNzY2IiYmxq1jHz9+HI2NjRgzZozd7QMHDkRISIi47oorroDRaMSJEydEK0q/fv2g1Zr/j0lJSTh8+LDDcxsMBrz22mtYvXo1CgoKoNfr0djYiODgYElz80VI3BAEQXRgavXmzKdQZ26pYCHmxsPZUklJyo5zkZqaGmi1Wuzbt89KQABAaGioW8cOCgpya38Bf3/ruCmO42A0Gh3u88Ybb2Dp0qVYsmQJ+vfvj5CQEMycORN6vV7RuXkSirkhCILowNQ28kLFX8shwM+Z5YYXP5V1HrbcjBjBZ0UJhXZawnFAWho/TkUGDRoEg8GAkpISdO/e3eqRmJhodz+dTgeDk3igHj16ICgoCFu3brW5vU+fPjh48CBqa2vFdTt37oRGo0GvXr0kvwZbc9m5cyfGjx+Pf/zjHxg4cCC6du2Kv/76S/LcdDq+NYez1+hJSNwQBEF0YIRg4tAA54Z8MaDY09lSWi2f7g20FjjC30uW8ONUpGfPnrjnnnswadIkZGVlIScnB3v27MHChQuxceNGu/ulp6fj0KFDOHHiBMrKysTsJUsCAwPx7LPP4plnnsGnn36K06dPY/fu3fjoo48AAPfccw8CAwMxefJkHDlyBNu2bcPjjz+Oe++9V3RJSSE9PR0///wzCgoKUFZWBoAXL5s3b8avv/6K48eP46GHHkJxcbHkucXHxyMoKAibNm1CcXExKisrJc9HLUjcEARBdGCqTZabEAniRijy55U6N5mZwNq1QEqK9frUVH69h+rcfPLJJ5g0aRJmz56NXr164ZZbbsHevXvRqVMnu/tMnToVvXr1wpAhQxAXF4edO3faHPfiiy9i9uzZmDt3Lvr06YOJEyeipKQEABAcHIwffvgB5eXl+Nvf/oYJEyZgzJgxeO+992TNf8GCBcjNzUW3bt0QFxcHAPjnP/+JSy+9FOPGjcOoUaOQmJjYquigo7n5+fnhnXfewb///W8kJydj/PjxsuakBhxjtnLr2i9VVVWIiIhAZWUlwsPDvT0dgiAIr7LjZCnu/WgPeieGYdPMkQ7HbjtRgimf7MUlKeH49nHpLqCGhgbk5OSgS5cuCAwMdG/CBgOwYwcfPJyUxLuiVLbYEJ7D0XtFzv2bAooJgiA6MFJr3ABezJayRKsFfKBIHOHbkFuKIAiiA1Mjwy1lLuLnxd5SBCEBEjcEQRAdGEHcSAkoDg8yNc5saILR2KEiGog2BokbgiCIDkytHHFjcksxBtToyXpD+C4kbgiCIDow1TLETaC/FgF+/G3D47VuCEIGJG4IgiA6MLUyYm4AL9a6IQgZkLghCILowMjJlgK8XOuGICRC4oYgCKIDIyegGDCLoBpP95ciCBmQuCEIgujAyEkFB8wiSNiPIHwREjcEQRAdGNFyI9EtJVpuOri44TgO69evlzw+OzsbHMehoqJCtTkRZkjcEARBdGBqG/lOzlLdUsK4ai+5pQwGIDsb+PJLfumtRtSFhYW4/vrrFT3mSy+9hIyMDEWP6SqjRo3CzJkzFT+uXFHoKtR+gSAIogNTLaMrOD+ODyj2huUmKwuYMQM4d868LjWVbxjuob6Z0Ov10Ol0SExM9MwJCZcgyw1BEEQHRk4RP8DsvvJ0QHFWFjBhgrWwAYCCAn59VpY65x01ahSmT5+OmTNnIjY2FuPGjQPQ2gLx66+/IiMjA4GBgRgyZAjWr18PjuNw4MABq+Pt27cPQ4YMQXBwMC6//HKcOHECALBixQrMnz8fBw8eBMdx4DgOK1assDuvjz/+GP369UNAQACSkpIwffp0cVteXh7Gjx+P0NBQhIeH44477kBxcbG4XbAQffbZZ0hPT0dERATuvPNOVFdXAwDuu+8+bN++HUuXLhXnkpubC4PBgAceeABdunRBUFAQevXqhaVLl0qeW3p6OgDg1ltvBcdx4t9qQOKGIAiig9JsMKK+SZ5bKswLAcUGA2+xYTY6PgjrZs5Uz0W1cuVK6HQ67Ny5Ex9++GGr7VVVVbjpppvQv39/7N+/Hy+//DKeffZZm8d64YUX8NZbb+H333+Hn58f7r//fgDAxIkTMXv2bPTr1w+FhYUoLCzExIkTbR7jgw8+wGOPPYZp06bh8OHD+N///ofu3bsDAIxGI8aPH4/y8nJs374dmzdvxpkzZ1od6/Tp01i/fj2+/fZbfPvtt9i+fTtef/11AMDSpUsxfPhwTJ06VZxLWloajEYjUlNTsWbNGhw7dgxz587F888/j9WrV0ua2969ewEAn3zyCQoLC8W/1YDcUgRBEO0ZxoC9/weEpwC9b7DaVKs3qwHJ2VKBno+52bGjtcXGEsaA/Hx+nBoNw3v06IFFixbZ3f7FF1+A4zgsX74cgYGB6Nu3LwoKCjB16tRWY1999VVcddVVAIDnnnsON954IxoaGhAUFITQ0FD4+fk5dXm98sormD17NmbMmCGu+9vf/gYA2Lp1Kw4fPoycnBykpaUBAD799FP069cPe/fuFccZjUasWLECYWFhAIB7770XW7duxauvvoqIiAjodDoEBwdbzUWr1WL+/Pni3126dMGuXbuwevVq3HHHHU7nFhcXBwCIjIxU3a1HlhuCIIj2zJZ5wHdPAasnATUlVpsE64vOTwOdn7TbgTlbynNF/AoLlR0nl8GDBzvcfuLECQwYMACBgYHiuqFDh9ocO2DAAPF5UlISAKCkpMTmWFuUlJTg/PnzGDNmjM3tx48fR1pamihsAKBv376IjIzE8ePHxXXp6emisBHmImUey5Ytw+DBgxEXF4fQ0FD85z//QV5enqS5eRISNwRBEO2VYxuAnaaYCGMTsG+l1WaxOrFEqw3gnTo3Jg2g2Di5hISEKHYsf39/8TnHcQB4K4pUgoKCFJ+HMBdn81i1ahWeeuopPPDAA/jxxx9x4MABTJkyBXq9XtG5KQGJG4IgiPbKqS38Mrobv/z9Y8BgtrjILeAHeKdC8YgRfFaUSQu0guOAtDR+nDfo1asXDh8+jMbGRnGdK/EkOp0OBieBQ2FhYUhPT8fWrVttbu/Tpw/y8/ORn58vrjt27BgqKirQt29ft+ayc+dOXH755Xj00UcxaNAgdO/eHadPn5Y8N4AXVc5eoxKQuCEIgmivlJ3ilyNmASFxQPV54PRP4uY6PS9QgnVayYcUUsE9GXOj1fLp3kBrgSP8vWQJP84b3H333TAajZg2bRqOHz+OH374AW+++aZpfnYUmQ3S09ORk5ODAwcOoKyszEosWfLSSy/hrbfewjvvvIOTJ09i//79ePfddwEAY8eORf/+/XHPPfdg//792LNnDyZNmoSrrroKQ4YMkTWX3377Dbm5uSgrK4PRaESPHj3w+++/44cffsBff/2FF198sZWIczQ34bhbt25FUVERLl68KHk+ciFxQxAE0V4p+4tfJvQDevIpzMj/TdwsFPCTY7kRA4o9XOcmMxNYuxZISbFen5rKr/dUnRtbhIeH45tvvsGBAweQkZGBF154AXPnzgUAqzgcZ9x222247rrrMHr0aMTFxeHLL7+0OW7y5MlYsmQJ3n//ffTr1w9///vfcfLkSQC8mNqwYQOioqIwcuRIjB07Fl27dsVXX30l6zU99dRT0Gq16Nu3L+Li4pCXl4eHHnoImZmZmDhxIoYNG4YLFy7g0UcflTw3AHjrrbewefNmpKWlYdCgQbLmJAeOMVvJde2XqqoqREREoLKyEuHh4d6eDkEQhDrUlQOLuvDP5xQAh1cD3z4JdB0NTFoPAPj6j3N48quDGNEjFp89MEzSYSvrmzBw/o8AgBOvXIcAP+fmkoaGBuTk5KBLly6ybva2MBj4rKjCQj7GZsQI71lsHPH5559jypQpqKys9KlYFF/H0XtFzv2bUsEJgiDaIxdMLqmwZCAgFEi+lP/7/H4+d5rjRMuNPLeU+bZR22iQJG6URKtVJ93bXT799FN07doVKSkpOHjwIJ599lnccccdJGy8BIkbgiCI9kiZyRUQ24NfJvQDtAFAQyVQfgaI6YZ6U52bEJ30W4FWwyFYp0Wd3oCahmZEh+iUnnmbpKioCHPnzkVRURGSkpJw++2349VXX/X2tDosPhFzs2zZMqSnpyMwMBDDhg3Dnj17JO23atUqcByHW265Rd0JEgRBtDWEeBtB3Gj9gSRTjZWCfQCAWlNAcZAMyw1g0TzTg7VufJ1nnnkGubm5oltl8eLFCA4O9va0OixeFzdfffUVZs2ahXnz5mH//v0YOHAgxo0b57SYUG5uLp566imM8FbuH0EQhC8juKVie5rXpZiK0RXsBwDU6eUHFAPe6y9FEFLxurh5++23MXXqVEyZMgV9+/bFhx9+iODgYHz88cd29zEYDLjnnnswf/58dO3a1YOzJQiCaCMIbqmY7uZ1SRn8sugwANdSwQHX+0t1sPwVwgWUeo94Vdzo9Xrs27cPY8eOFddpNBqMHTsWu3btsrvfggULEB8fjwceeMDpORobG1FVVWX1IAiCaPdUm3oRRHYyr4sxFfO7mAMAqHMhoBiwsNxIFDdCNdy6ujpZ5yE6HkK1Y62bKXBeDSguKyuDwWBAQkKC1fqEhAT8+eefNvf55Zdf8NFHH7VqI2+PhQsXWjX6IgiCaPc0NQCNph9yIbHm9VGm1PCq80BTgxhzEywjoBiwiLmR6JbSarWIjIwUww2Cg4NlFbcjOgZGoxGlpaUIDg6Gn5978qRNZUtVV1fj3nvvxfLlyxEbG+t8BwBz5szBrFmzxL+rqqqsGooRBEG0O+rK+KXGDwiMNK8PiQV0oYC+Bqg4K8bcyHZLBfKWGDluKaELtJwmkUTHQ6PRoFOnTm6LX6+Km9jYWGi1WhQXF1utLy4uttkO/fTp08jNzcVNN90krhMaffn5+eHEiRPo1q2b1T4BAQEICAhQYfYEQRA+Sq1J3ITEWfcr4DjeelN8GLiYizo93xXaVcuNnIBijuOQlJSE+Ph4NDVRlhVhG51OB43G/YgZr4obnU6HwYMHY+vWrWI6t9FoxNatWzF9+vRW43v37o3Dhw9brfvnP/+J6upqLF26lCwyBEEQgIW4sWHhjk7nxU15Dur0/QC4YrlxvTO4Vqt1O56CIJzhdbfUrFmzMHnyZAwZMgRDhw7FkiVLUFtbiylTpgAAJk2ahJSUFCxcuBCBgYG45JJLrPaPjIwEgFbrCYIgOiy1pfwy2Ia4EeJuLuagTt8LABAS4Fqdm6oGssAQvonXxc3EiRNRWloqVnbMyMjApk2bxCDjvLw8RUxUBEEQHQZB3ITEtd4WbRI35TkW7Rfk3QqCTeJGyLYiCF/D6+IGAKZPn27TDQUA2dnZDvddsWKF8hMiCIJoyzgSNxaWm3oX69yEmiw9QrYVQfgaZBIhCIJob9Rd4Je2Ym6i0gEA7OJZ1JsCe+VaboReVK7E3BCEJyBxQxAE0d5wZLmJSAM4LThDI+LZRQDyLTch5JYifBwSNwRBEO0NUdzYsNxo/YCwJABAElcOAAjyd03ckOWG8FVI3BAEQbQ3LOvc2CIiBQCQxF1AsE4LjUZewbQQk6WnjmJuCB+FxA1BEER7gjHHdW4AINxa3MhFsNzUkluK8FFI3BAEQbQn9LVAcz3/3Knlplx2MDFgDijWG4zQNxtdmiZBqAmJG4IgiPaEEG/jFwToQmyPcdtyY96HXFOEL0LihiAIoj3hLN4GsBA35S6JGz+tBgF+/O2jVk+uKcL3IHFDEATRnqjnM6AQHGV/jJtuKcAy7oYsN4Tv4RMVigmCIAiFaKjil4GRdocYAhOxY/dwFJQnILx7IQyTDNDKrnWjRXktpYMTvglZbgiCINoTDRX8MjDc5uasZ3YjPYHD6B824R97V+KDL29BenAxsp7ZLes0QlAxFfIjfBESNwRBEO2Jhkp+GRjRalPWM7sx4Y2hOGdItFpfYEjEhDeGyhI4VMiP8GVI3BAEQbQnGm27pQx6A2a83QkMQMuvfmb6e+bbaTBIDBAOpkJ+hA9D4oYgCKI9Ycdys+P9wzhnSIa9r30GDfINKdjx/mFJpwmlgGLChyFxQxAE0Z4QxE2AdcxN4ek6SbtLHSdmS1EqOOGDkLghCIJoT4jZUtaWm6RuwZJ2lzpO6C9FlhvCFyFxQxAE0Z6w45Ya8Wh/pGrPg4PtdgkcjEjTFmDEo/0lnYb6SxG+DIkbgiCI9oQobqzdUlqdFktn5QFAK4Ej/L1kVr7kejdUxI/wZUjcEARBtCccpIJnLroMa5/egxRtkdX6VG0h1j69B5mLLpN8GsEtVUPZUoQPQhWKCYIg2hONtmNuBDIXXYbxrxgwecIXuLHoByRFF2PEurXQhqTIOk1wgFDEj8QN4XuQuCEIgmgvNDUAzQ388wDbFYoB3kWVMzwBtzR8hyBODzSWAiGhsk4VSjE3hA9DbimCIIj2gmC1AedQ3ABAfbMRJSyS/6OmWPaphCJ+teSWInwQEjcEQRDtBSENPCAc0Dj+eq/TN6MEkfwf1UUOx9qCivgRvgy5pQiCINoLDoKJLTEaGRqajCjURiM770oUZoUiqRQYMQLQSmwOTkX8CF+GxA1BEER7wUlHcHFYswF1JxJx39bPcbE6VlyfmgosXQpkZjo/ldAVnCw3hC9CbimCIIj2gpNMKYHVaxhK11+Ki9UxVusLCoAJE4CsLOenCgkQGmcaYDQyl6ZLEGpB4oYgCKK9IMEtZTAAzz8j+J44q23MpFFmzuTHOUJwSwFAfRO5pgjfgsQNQRBEe8FO00xLduwACs9r0FLYCDAG5Ofz4xwR4KeBxnQIypgifA0SNwRBEO0FO00zLSkslHYoZ+M4jkOwTijkR5YbwrcgcUMQBNFekOCWSkqSdigp44RaN3WUMUX4GCRuCIIg2gt2mmZaMmIEEJdoAGA7CJjjgLQ0fpwzhLibOnJLET4GiRuCIIj2QmM1v3TUekELTH1aqGRsLXA4UwzNkiXS6t0E+QtVislyQ/gWJG4IgiDaC6K4CXM4LGNkDeJu2Y/gKL3V+tRUYO1aaXVuAIt0cKp1Q/gYVMSPIAiivdBo0X7BAQ1NBgT3KsKttwJ3/bURhcdzkXTtBIx48AbJFYoBmAOKyXJD+BgkbgiCINoLEi03ghgJCdBi1LALgN86oFdPQHuDrNOZC/mR5YbwLcgtRRAE0V6QKW6CdFogNJFf6ULzzCB/6i9F+CYkbgiCINoLEsVNg6micLBOC4Ql8CtrimWfzrIFA0H4EuSWIgiCaA80NwKGRv65k8aZouXGXwtDUCJ25F6JwnN9kZQkrzO4uYgfuaUI34LEDUEQRHtAsNoAgC7U4VChF9SfuyOQ/uFYnCs0xdp8JK8zuFDEj9xShK9BbimCIIj2gJAppQsFNI5NL/V6A+pOJGL5vAScK/S32ianM7i5QjFZbgjfgsQNQRBEe0BivA0A1DQ0o3xrX9Nf7ncGp5gbwtcgcUMQBNEekCFu8o+FwFAdBHc7g5PlhvBVSNwQBEG0B6SKG4MB4UfzJR3SWWdwIaC4lrqCEz4GiRuCIIj2gBRxk5UFpKdj5g+vSzqks87gISbLTT25pQgfg7KlCIIg2gNi6wU74iYri48UZgwjcB6pyEcBUsBs/MblOD5rylln8OAAoYgfuaUI34IsNwRBEO0B0XIT0XqbwQDMmCFGC2thxFLMAABwMFoNldMZ3BxzQ5YbwrcgcUMQBNEecOSW2rEDOHfOalUmvsZaTEAKCqzWy+kMLta5oSJ+hI9BbimCIIj2QIMDt5SdyOBMfI3x2IAdGIFCJCHpxiCM2PCx5ArFIaaA4sZmIwxGBq3GdvYVQXgaEjcEQRDtAUeWGweRwVoYMQrb+T/SuwIShQ0ABAeYB9fpmxEW6O9gNEF4DnJLEQRBtAcciZsRI3h/E2fHssJxQDgHxNeYq/hJQKfViNYairshfAmfEDfLli1Deno6AgMDMWzYMOzZs8fu2KysLAwZMgSRkZEICQlBRkYGPvvsMw/OliAIwgdxlC2l1fINowCwlgJH+Pu6QMDYYD6OBDiOo7gbwifxurj56quvMGvWLMybNw/79+/HwIEDMW7cOJSUlNgcHx0djRdeeAG7du3CoUOHMGXKFEyZMgU//PCDh2dOEAThQ4iWGzsdwTMzgbVr0ZzYwkVliiA2DIhDdu6V+HJlHbKznbdeEBDibshyQ/gSXhc3b7/9NqZOnYopU6agb9+++PDDDxEcHIyPP/7Y5vhRo0bh1ltvRZ8+fdCtWzfMmDEDAwYMwC+//OLhmRMEQfgQUor4ZWbi+K5DuPOu1zB34vPAtm1ATg6ykIn0N/dg9MqNuPvhJIweDaSny22eSeKG8B28Km70ej327duHsWPHius0Gg3Gjh2LXbt2Od2fMYatW7fixIkTGDlypM0xjY2NqKqqsnoQBEG0OyS2X6g3ALs7DcAvf7sGGDUKWRu0mDABOFcRbzVOandwIaiYCvkRvoRXxU1ZWRkMBgMSEhKs1ickJKCoqMjufpWVlQgNDYVOp8ONN96Id999F9dcc43NsQsXLkRERIT4SEtLU/Q1EARB+ASCuAm045YyUdfEW1iC/LUtavu51h1c6C9FLRgIX8LrbilXCAsLw4EDB7B37168+uqrmDVrFrKzs22OnTNnDiorK8VHfr60hnEEQRBtBkMT0FzPP3diuWkwiZBgndZWbT8rpHQHD6GAYsIH8Wqdm9jYWGi1WhQXF1utLy4uRmJiot39NBoNunfvDgDIyMjA8ePHsXDhQowaNarV2ICAAAQEBCg6b4IgCJ9CsNoAgM6xuBFiYwL9tU67fgs4GhdMAcWED+JVy41Op8PgwYOxdetWcZ3RaMTWrVsxfPhwyccxGo1obGxUY4oEQRC+j5C+7R8MaB3/Zq1vMltunHX9FnA0TkwFp5gbwofweoXiWbNmYfLkyRgyZAiGDh2KJUuWoLa2FlOmTAEATJo0CSkpKVi4cCEAPoZmyJAh6NatGxobG/Hdd9/hs88+wwcffODNl0EQBOE9JAYTA+bYmGCdn1jbr6DAdu0+Kd3BQwIo5obwPbwubiZOnIjS0lLMnTsXRUVFyMjIwKZNm8Qg47y8PGg0ZgNTbW0tHn30UZw7dw5BQUHo3bs3/vvf/2LixIneegkEQRDeRYa4sXRLCbX9JkwAOI6BMXNQsdTu4OYifiRuCN/B6+IGAKZPn47p06fb3NYyUPiVV17BK6+84oFZEQRBtBHkWG4s3FKAWNsPM2ZYBxenpvLCxll3cHOdG3JLEb6DS+KmtrYWr7/+OrZu3YqSkhIYjUar7WfOnFFkcgRBEIQEZLmleBES5G82x2RmAuPHc9gxYwoKCzkk3fEURkzoK6k7OAUUE76IS+LmwQcfxPbt23HvvfciKSkJnL1mbARBEIT6iH2lHNe4AcyWmyCdtXLRaoFRg4uBszuBvjcA2r6STh0SQJYbwvdwSdx8//332LhxI6644gql50MQBEHIxVlfKQsEC4ul5UbAEJKKHblXonBdCJIu8IHEzqw3QSbLDcXcEL6ES+ImKioK0dHRSs+FIAiCcIUGBx3BW1Cvt465EcjKAmY89gbOlUXwK+bzcTdLlzqOuwmhmBvCB3Gpzs3LL7+MuXPnoq6uTun5EARBEHJxIaDY0i2VlcVnTJ0rs7b8SOkvRTE3hC/ikuXmrbfewunTp5GQkID09HT4+/tbbd+/f78ikyMIgiAk4EIquOCWctZfiuP4/lLjx9t2UZljbkjcEL6DS+LmlltuUXgaBEEQhMs0SndLNTSZi/gBkNVfykaHG6pQTPgkLombefPmKT0PgiAIwlVcCSjW8VEJ7vaXIrcU4Yu4VcRv3759OH78OACgX79+GDRokCKTIgiCIGTgkluK//p3t79UiEnc6JuNaDIY4a/1astCggDgorgpKSnBnXfeiezsbERGRgIAKioqMHr0aKxatQpxcXFKzpEgCIJwhAxx09CiQrG7/aUsA5Pr9AZEBJG4IbyPS+/Cxx9/HNXV1Th69CjKy8tRXl6OI0eOoKqqCk888YTScyQIgiAcIVHcMMbElG1BlAj9pQBzPykBKf2ldH4a+Gv5gZQOTvgKLombTZs24f3330efPn3EdX379sWyZcvw/fffKzY5giAIQgKCuAl0HHOjNxhhNFlnLC0uQn+plBTr8amp/Hrn/aUo7obwLVxySxmNxlbp3wDg7+/fqs8UQRAEoSKGZqCpln/uJKC43kJ8tKxQzPeXAna8uwqFO35E0qABGDFnpqT+UiE6LSrrm1BHVYoJH8Ely83VV1+NGTNm4Pz58+K6goICPPnkkxgzZoxikyMIgiCcoK82P9eFOhwqFPDz13I2A3+1WmDUKIa7+q/DqE7bJAkbwGwFonRwwldwyXLz3nvv4eabb0Z6ejrS0tIAAPn5+bjkkkvw3//+V9EJEgRBEA4QXFJ+gYCfzuHQuno9Lss7hM6NlUB2sM3mUYbQFL6/VG4/JHWS1l8qJIC/ldSTW4rwEVwSN2lpadi/fz+2bNmCP//8EwDQp08fjB07VtHJEQRBEE6QmimVlYW06Y9jVaHJ4p71r1bNo7KygBmPX45z5zfyY1ZK6y9FhfwIX8PlOjccx+Gaa67BNddco+R8CIIgCDlIETem5lH+LXO9heZRa9ciC5mYMAFgTGtviF2BIwYUU8wN4SNIFjfvvPMOpk2bhsDAQLzzzjsOx1I6OEEQhIdwJm4smkdxLbeZmkcZZszCDNwKxji40l+KLDeEryFZ3CxevBj33HMPAgMDsXjxYrvjOI4jcUMQBOEpxL5SdjKlJDSP2nEuHedaSx/LIQ77S4VQKjjhY0gWNzk5OTafEwRBEF6kwUnTTAnNowohrQeD3f5SYmdwstwQvoFLqeALFixAXV1dq/X19fVYsGCB25MiCIIgJOLMciOheVQSpHXPtHco0S1FMTeEj+CSuJk/fz5qampara+rq8P8+fPdnhRBEAQhEcFyY686sdA8qmVvBQGOw4jUXKSmMkdDkJZmv7+UEFBMqeCEr+CSuGGMgbPxKTh48CCio6PdnhRBEAQhEcFyExhhe7tF86hWIcWm73Ht0rexdClnuarlEIf9pUIooJjwMWSJm6ioKERHR4PjOPTs2RPR0dHiIyIiAtdccw3uuOMOteZKEARBtKShkl86ar1gah5VHZtgvd6ieZQ7/aWotxTha8iqc7NkyRIwxnD//fdj/vz5iIgw/1LQ6XRIT0/H8OHDFZ8kQRAEYQdnbimBzEws5rrj+JqNuKeTDjddN7hV+WGxv9TmKhQun4mksGKM+GANtEHBDg8tBBTXNpLlhvANZImbyZMnAwC6dOmCyy+/3GbzTIIgCMKDOAsotqDOAOzuNABXXtsTGNXD5hitFhg1LgyG3zdjx6kBWP1pJZJ6BTtswyCkggu9qwjC20gWN1VVVQgP5z88gwYNQn19Perr622OFcYRBEEQKtPgJObGAkF8BOkcf/Vnfc1hxlu/41xFArCSX+eoDYM5W4osN4RvIFncREVFobCwEPHx8YiMjLQZUCwEGhsMpN4JgiA8ghBzI0HcCDExQf72O2GaOjWAsXir9Y7aMFDMDeFrSBY3P/30k5gJtW3bNtUmRBAEQcigUUJAsYkGk+VGsLS0xKJTA+S0YTAX8SNxQ/gGksXNVVddZfM5QRAE4SUYM/eWchZQDHMF4UA7lhsJnRpstmEwt18gtxThG7hU52bTpk345ZdfxL+XLVuGjIwM3H333bh48aJikyMIgiAcoK8BmJF/Linmhh9rz3IjoVODzXFBpuM1GRj0zUZpByEIFXFJ3Dz99NOoquKD2A4fPoxZs2bhhhtuQE5ODmbNmqXoBAmCIAg7CPE2Gn/AL9Dp8HqTZcWeuJHQqcHmOMvjkfWG8AVkpYIL5OTkoG/fvgCAdevW4aabbsJrr72G/fv344YbblB0ggRBEIQdLGvc2OudYIEQE2PPLSV0aigoEOJurOE4fnvLNgz+Wg10fhrom42o0xsQ6bgsDkGojkuWG51OJzbO3LJlC6699loAQHR0tGjRIQiCIFRGRo0bwJwKbs9yY9GpARxnrW6ctWEQWjCQ5YbwBVwSN1deeSVmzZqFl19+GXv27MGNN94IAPjrr7+Qmpqq6AQJgiAIO8hIAwfMjS2D7IgbABZtGKwtQc7aMAjp4NQZnPAFXBI37733Hvz8/LB27Vp88MEHSDE1I/n+++9x3XXXKTpBgiAIwg5SWy8AaDIY0WzkrTHB/o4jEjIzgdxcYNuzc/BF5v3Ytvwn5OQ46y9F6eCE7+BSzE2nTp3w7bfftlq/ePFitydEEARBSERGjRtL0RGoc/67VqsFRl1WBQSuA3r0AbRXOxwfHEDp4ITv4JK4AQCDwYD169fj+PHjAIB+/frh5ptvhtZe8xGCIAhCWeS0XjCJG62Gg04rzWhvCOuEHblXovCbOCSxVn02rQg2BSnXkuWG8AFcEjenTp3CDTfcgIKCAvTq1QsAsHDhQqSlpWHjxo3o1q2bopMkCIIgbCAj5kYMJvbX2myf05KsLGDGI9NxruRZfsVbjvtLhQhViqm/FOEDuBRz88QTT6Bbt27Iz8/H/v37sX//fuTl5aFLly544oknlJ4jQRAEYQs5HcGF6sQOgokFhP5S50qsc7qF/lJZWa33of5ShC/hkuVm+/bt2L17t9hrCgBiYmLw+uuv44orrlBscgRBEIQDZAQUO+srJeBqfynRckMxN4QP4JLlJiAgANXV1a3W19TUQKfTuT0pgiAIQgKyLDfOO4ID8vpLWRJkysCimBvCF3BJ3Pz973/HtGnT8Ntvv4ExBsYYdu/ejYcffhg333yz0nMkCIIgbCHG3MgQN04sN672l6KYG8KXcEncvPPOO+jevTsuv/xyBAYGIjAwEFdccQW6d++OpUJ5S4IgCEJd6sr5ZVC043GQ7pZyvb8UxdwQvoOsmBuj0Yg33ngD//vf/6DX63HLLbdg8uTJ4DgOffr0Qffu3dWaJ0EQBNGSugv8MiTW+VCJbilX+0tRET/Cl5BluXn11Vfx/PPPIzQ0FCkpKfjuu++wfv163HTTTSRsCIIgPInRANRf5J8Hxzgdbm694Pg3rXV/KettjvpLCeKmlgKKCR9Alrj59NNP8f777+OHH37A+vXr8c033+Dzzz+H0WhUa34EQRCELeovAjCZViS4pYQ6N0H+zr/2zf2lrNc76i8VEkBuKcJ3kOWWysvLww033CD+PXbsWHAch/Pnz1PDTIIgCE9SW8YvAyMBrfOvcsFyE+zEciOQmcmne+9YuR2FG1ciqUcCRry60H6FYuoKTvgQssRNc3MzAgMDrdb5+/ujqalJ0UkRBEEQTpARbwODAXH7duHmY8fQM/oCcGNv+30ULNBqgVFj/IG8dUB0V0C70O5YMaCYuoITPoAsccMYw3333YeAgABxXUNDAx5++GGEhISI67Jsla8kCIIglKPOZLlxFm+TlQXMmIHJ585hMgB8A+DdF+z3UWiBISSZ7y91LA1J/RlGjORs6iKKuSF8CVkxN5MnT0Z8fDwiIiLExz/+8Q8kJydbrZPLsmXLkJ6ejsDAQAwbNgx79uyxO3b58uUYMWIEoqKiEBUVhbFjxzocTxAE0S4RLDeOxI3YR6FFVT5HfRRa7J4+qDNGr9yIu9d8iNFXc0hPt70bxdwQvoQsy80nn3yi+AS++uorzJo1Cx9++CGGDRuGJUuWYNy4cThx4gTi4+Nbjc/OzsZdd90l1tj517/+hWuvvRZHjx5FSsvoN4IgiPZKrRNxY91HwRpHfRRMCLqIMeuUKUEXtQwstkwFZ4xJas5JEGrhUhE/JXn77bcxdepUTJkyBX379sWHH36I4OBgfPzxxzbHf/7553j00UeRkZGB3r174//+7/9gNBqxdetWD8+cIAjCiziz3LjaRwHOdRHA6yKDhZFGEDcGI0NjM2XQEt7Fq+JGr9dj3759GDt2rLhOo9Fg7Nix2LVrl6Rj1NXVoampyaqJJ0EQRLvHWUCxq30U4JousszCqifXFOFlXOoKrhRlZWUwGAxISEiwWp+QkIA///xT0jGeffZZJCcnWwkkSxobG9HY2Cj+XVVV5fqECYIgfAVnAcWu9lGAa7pIq+EQ6K9BQ5MRtfpmRIVQE2XCe3jdLeUOr7/+OlatWoWvv/66VYq6wMKFC62CndPS0jw8S4IgCBUQ3VJ2LDdCHwV7sS8cB6Slte6jAOovRbR9vCpuYmNjodVqUVxcbLW+uLgYiYmJDvd988038frrr+PHH3/EgAED7I6bM2cOKisrxUd+fr4icycIgvAqzgKKXe2jANd1kZgOTp3BCS/jVXGj0+kwePBgq2BgITh4+PDhdvdbtGgRXn75ZWzatAlDhgxxeI6AgACEh4dbPQiCINo8YsyNg1RwV/oowHVdFGKy3FDMDeFtvO6WmjVrFpYvX46VK1fi+PHjeOSRR1BbW4spU6YAACZNmoQ5c+aI4//1r3/hxRdfxMcff4z09HQUFRWhqKgINTU13noJBEEQnkVfCzTX88+dFfHLzATLycHddy/EEzc9jfJvfwBycpwW8LOvi5hdXRQkFvIjcUN4F68GFAPAxIkTUVpairlz56KoqAgZGRnYtGmTGGScl5cHjcaswT744APo9XpMmDDB6jjz5s3DSy+95MmpEwRBeAfBaqPVAbpQp8P14PBrWn8AwCtjRktqvQBY9Jf6qR6FHz6GpLBijFj2BbQhtou1hgRQfynCN/C6uAGA6dOnY/r06Ta3ZWdnW/2dm5ur/oQIgiB8meoifhmaYD8wxgLLfk/B/tKEjYBWC4y6JgjYtxVoqABqzwN2xA0FFBO+gtfdUgRBEJ6mprEZn+0+i/zyOm9PxTUq8vhlZCdJw+uaeLGh02rgp3Xxaz/c5J+qKrA7JIQCigkfwScsNwRBEJ6iuqEJkz/eg/15FYgJ0eGzB4ahb3IbSzSoOMsvJYqbepObSIiJcQVDaCp27IlC4Wodki7nM6VaereCyHIjUqdvxr+3n0FYoB+u7h2PrnHO3YeEcpDlhiCIDsWcrMPYn1cBALhQq8ekj/egoamN3YzlWm5MYiPERXGTlQWkz/o330DzhZEYPRo2G2iGUGdwkUWbTmDp1pN4ZeNxXLdkBw7mV3h7Ss4xGoHvnwM+vg6oOu/t2bgFiRuCIDoMjc0GbDnO19X6v0lDkBQRiLKaRnFdm8FFceOK5UZsLH4h0mq9rcbiwQGUCg4ARwoq8emuXABAz4RQ6A1GPPbFflTWN3l3Ys7YMhf47QMgbxew4THbzcXaCCRuCILoMBw6V4mGJiNiQ3UY0ycetwzi40g2HGhjv1IrTMVIJbuleLFh2f9JCtYNNK0Dl2010DQX8evY4ubNH0/AyICbBiZjzcOXIy06COcu1uPjX3K8PTX75O0Gfn2Xf67xB07/BOz/1LtzcgMSNwRBdBh2neZTqId1jQHHcbglgxc32SdKUFGn9+bUpMMYUClP3NS6GHMjt4Gm4JbqyKngFXV6/HKS7/v15NgeiAjyx+xregEAvj10HsxXrSH7VvLLjHuAq18wrfvEe/NxExI3BEF0GHaf4cXNZV35wne9EsPQOzEMTQaGH4+1EddUTQnQ3ABwGnMGkxPqRMuNPHEjt4EmpYIDm48Vo9nI0DsxTAwiHtMnHjo/DU6X1uKvYh8sONtQBRxbzz8ffB+Q8Q/+/XX+D+Birhcn5jokbgiC6BA0Nhuw7+xFAMDwruaqvqN6xQMA9pu2+TxCvE1YMqD1l7RLvRhQLM8tJbeBJhXxA74/wtcguqG/+eKFBfpjZI84AMDGQz7oAj2aBTTVAbG9gNS/AaFxQOcr+G3HNnh3bi5C4oYgiA7Bn4XVaGw2IiZEh25xIeL6jLRIAMCBtpDNAgCV8oKJAdcDiuU20BRSwTtqzE1NY7Pokrr+Euvmz38fwIudH476oIXwxCZ+OfBO8z+73y388uh6b8zIbUjcEATRIcgpqwUA9EgIBWdxtxbEzV/F1W3D4iAzUwow17mR65aS20Czo8fcHC+sgt5gRFJEIHokhFltG9EjFgBworjat7KmGAPO7eGfdxlpXt/7Jn55fj9QV+75ebkJiRuCIDoEZ0zipkusdTG1xIhAJIQHwMiAIwVV3piaPIqO8MuYbpJ3qXUjFVxOY/GOHnPzZyH//umb1LooZExoADpFBwMADp2r8OS0HFN+hu9Vpg0AEgeY14cl8G4qgM+kamOQuCEIQlmOZAGb5/Gdq32IHFHcBLfaNjA1EgB8v9AaY3wNEgBIGyZ5NzGg2N+1ovSZmUBuLrDtxVfwReb92PbBRpuNxc0xNx1T3BwvqgbAB6rbYlCnSADAH6Yikj5B/m/8MnkQ4Kez3tZ5OL/M+9Wzc1IAEjcEQSgDY8C3s4C1U4CdS4Dti7w9IytyyvgslZaWGwDIMN10DvjSL2pbVObzvZ00fkDqEMm7CW4pQXy4glYLjBp6AXf1X4dRPQ/YbCweZFGh2GdTnlVEsNz0tmG5AYBBJhfoH3k+FLyeb3JJpQ1tva2TSdyc3eW5+SgEiRuCIJQh9xfg94/Mf+9+H7hw2nvzsYAxhpxSwXIT0mp7/xS+y/Xx8z7mljIaAYNF/Ipwk0kaCOhavw57uFOh2IpQU5BsTZHNzUI2FmNAY7PRvXO1MYxGhhMmy00fO5abjE5RAPjgdZ8Rf1LETeEBn7PEOoPEDUEQynDUVId/0L1AtzGAQQ/8/KZ352SitLoRtXoDNBzEuAdLusfz1py88jo0GXzgpmw0AjveBt7sDrw/DKg0VdIT3APCTUci9U2u1blpRVgCv6wpsbk5yN98/I7WGbygoh61egN0Wo1NAQ3wsTg6Pw0u1jUh94IPdKRvqgdKj/PPU//WentkJ76WkrEZOPe7Z+fmJiRuCIJwH0MzcOx//PNLMoErn+Sfn/yRv1F7GSGYOC06GDq/1l97ieGBCNZp0WxkOOsLN519nwBb5/OBnhdOAZ+O54upnd7Gb+98uazDCUIjyMWYGwFDUCKyc6/Elz/1Q3a2ue2CgEbDiQKno8XdHDe5pLrHh8JPa/vWqvPTiFYdwYXlVcpOAswIBEUDoQmtt3OcWfQUHvDo1NyFxA1BEO5z9hegroz/kkwfyQe7+ofw64oPe3t2FsHEtn9RcxyHrqbaN2dKfaCC7J/f8svB9wERabzAeXcIUHHWdI2vlHU4sSu4GzE3WVlA+tir+c7gH8213xk8oGN2BhdcUr3tuKQEusfz20+W+MD7rPQEv4zrbb+YUeIl/FLI0msjkLghiDYAYww5ZbUwGn3ET9+SE9/zyz5/B7R+fNZFF1Nlt9M/eW9eJgRxkx5jP06lqynQWLDyeA19HZC7k39+2aPA5G+AqHTA2ARwWuD2FUBghKxDuuuWEjuDF1pXRLbZGbyDpoMLbqaucY5joXok8O8z3xA3f/LLuF72xyT055fFJG4IglCQ0upGTPp4D0a/mY0JH/6KU77wpdiSc3v5ZZerzOu6Xc0vfUDc5JluPOkxreNtBLqZ+gCd9vb1zd0BGBp5i01sTyC6C3D/D7wV5/YVQNernB2hFWJAsQtuKVc7g9d1sCrF+eX8eyzNRkyXJT1M8V0+8TkWxU1v+2MEy03ZX0Bzo/pzUggSNwTh4zz46e/YYSrpvj+vAncv3y32CvIJmhqAwkP885TB5vXdxvDLvN184KIXyb/o/MYjuqW8bbk5tYVfdh9rdhWEJQI3LQX63iz/eAYDLvlrP24+th3Re3e2DpRxgtzO4MG6jumWOlvOv286O7AOAkAPk1vqdGkNDN62xIpuKQeWm/AUIDCSDyoWxrcBSNwQhA9TWt2Ig/kV4DjgsweGIjUqCCXVjfhiT563p2am6DDvMgmO5d0nAjHdgOAYPmuq5JjXpscYEy03tjKlBHwm5ib3F37ZfYz7x8rKAktPxyefPot3vnkDibfcYDtQxgFyO4OHBPDWIZ8S4CrT0GRAcRVv1XD0HgOAlKggBPproG82itYer9DcyFcnBhxbbjgOSDBZb9qQa4rEDUH4MEKxr57xYRjRIw7TR3cHAHy4/TQamnzk5iG4pFKHWAclchyQaPLXF3kvqLiyvgnVpmyh1CgH4sYUc3OxrgnltXqPzK0VhiY+gwUAkjLcO5YYKNPC7GIrUMYBcjuDd0TLjSBSwgL8EBXsuFO7VsOJLlCvxt1cOA0wAxAQwVsGHdEGg4pJ3BCED7PfVKZdKNueeWkqUiKDUFrdiK3Hbdca8TgFpvoXtirm+oC4yTPdeOLCAhwWsQvSaZEcEQjAHIDsccrP8FYwXSgQker6cSwCZVrlwNgKlHGA3M7gYkCxmjE31cV8t2qDbzSgzLOIt+HsXSgLhLibkyXVqs7LIWK8TU/7/1wBstwQBKEkguXmUlNlU52fBmP7xAMA9ub6SKdeobhXii1xM5BfCjE5XiC/nI/3ceYuAIBU05hzF73kLrDMXpFwk7SL3EAZB8jtDK665aahCvjoGmDNZGD9Iz5RR0mojdTZQcC6JULRyFPFXrTclJuqh8f0cD42vi+/pJgbgiDcpdlgxKFzlQCASztHiuuHpEcDAH4/6wPiRl/L114BrDsKCwiWm+KjgNE7bjTxV3VUkNOxaVGCuPFSALRl3RF3kBso4wQ5ncGFmBvVKhRvnG1+zx1eA2z/lzrnkYHwHpMioAGga5wPlB0oz+WX0V2dj43ryS9rioB6H+qL5QASNwTho/xZVI36JgPCA/3EeBAAGJLOW3GOna9CjbdL3AsBiUFRQEhM6+0x3QG/QKCpFijP8ezcTMi58aSaBJDXAj1LTKXwHWWvSEFuoIwExM7gy3/iO4M/94LNzuChJnFTo4ZbqvQv4PBqgNMAwx7m1+35N9DspRgpE+J7TKLlRigmeaa0xns9poTPbnQX52MDwvjSBECbsd6QuCEIH+WYqYlj/9QIaDRmf0BSRBBSo4JgZD7QXVgIfrVn2tb6AQn9+OdFBz0zpxack5AGLiCMyfeaW0qw3PRx7zhyA2UkotUCo0YxvjN42jabncHN4kYF4f2XqVhk19HAuNf4Rp71F4FTm5U/lwzkWm6EYpJVDc24WOeluCE54gYwC27BderjkLghCB/lRDEfbNgrIbzVtr+ZXFN7c70sboSu3zHd7Y/xsr8+T2JxNcDsuvKKW8rQDFwwiUV3LTcWgTJMSqCMHEL5mC/U2g5oDw00iZsGFW7aJzbxy17XAxot0H8C//ehr5Q/l0SMRia+xzpHS+vUHqTTIiWSf6/llHkh7kZfa+7sLsUtBZhdpWS5IQjCHRz1qrm0M++aOpBf4ckptUa4Gcc6EDeC8BGEkAdpNhhRcFF6QLEggM5X1Hu+wNrFXL4mkH+w2QXgDqZAmbq4Fmm+tgJl5BBiEjd1F2zGUYWpZbmpKwfyd/PPe47jlwMm8ssTm/hAYy9QUt0IfbMRWg2HpMhAyfuZXVNeiLu5mMsvg6L4hxQEwS24Tn0c91rEEgShGoLlpqcNcSN0Fj5V7MVUUsC5Wwrgi/kBfPNHD1NQUY9mI4POT4PEcOc3noTwQPhrOTQZGIqqGsRf1x6h1HTTiO0JaBT63ZmZiS+j+mPL8rW4IRaYlDmcd0W5YrERCI4BwPHdpOsumC05JgTLTXWDwuLm1Fb+nPH9gMhO/LrE/kBkZz7AOH8P0GOssueUgGC1SYkMgr+dbuC26BIbgl9OlXmn7IDokpJotQHMrlKy3BAE4SrltXqUVvMVT4WaGJYIJdzPVzagWg3zvxQYk+aWEraVnzHXWPEQYopudLBV3JI9tBoOyZFeCioWYhni3Yy3aUFVM8PuTgNw8uqbgFGj3BM2AB9HFWwKHq9p7ZoSYm4UTwXP/41fdhttXsdxQOcr+Od5vyp7PomcvcCLE6nxNgJetdwIwf1REuNtAHPGVPV5oKFS+TkpDIkbgvBB/jJZZNKig8TUWksigv0RHxYAwIsN+GpLgcZKAJzjX4BRXfgxjVX8Ph5EuPE46/djidfSwaX0+XGBGpMFJSxQOUO9ITgR2blX4stVHLKzrWsBhokxNwqLG6GFh1BQTqDzcH55dpey55NIvsxMKYEupnYfbcZyExgBhCXzz9uA9YbEDUH4IH+JwcStXVICPU3bvFbCXXBJRaYB/g5cPv6B5hgSD8fd5EroBt4Sr6WDl0jo0OwCNY28ZS9UIXGTlQWkz92A0Ss34u4n+2H0aOt2VaEB/qbzNiuX5swYXysJABL6Wm/rZBI3Bfu80rX6rMxMKYFupvIOORdqYfR0fJdQwE9qppRAvBBU7PsZUyRuCMIHEYKJezoQN0KV05PeirsRYmikVDj1UtyNaLmJlW65EeJszld40HJjNABlf/HPFRY3QuxLmA0LoFzEdlUXrWsaWbarEkRUk4GhsVmh6sHVRUBDBcBpgdgWlq2Y7kBIHGBoBM7/ocz5ZGDOlJInbpIjA6HVcNA3G1FS7WFRVibjs2tJG8qYInFDED6I4IfvbiPeRsDrlhsxU8p3xY0rlptEU3+poqoGVeZkk4u5/M3ZL8gcLKsQQtaSu5Ybi3ZVQIuOVZbtqgI0WjHbXLGMqRKT1SamW2srIccBnS7jn+ftVuZ8MhA6zkspNWCJn1YjCuk8T1oJG6r4uBnAHEcjlTaUMUXihiB8EPHXoIObco8EwXLjLXEjIZhYQAwq9pxbymBk4o0nXUbMjShuKj0obgQzf2wPvn6LggiWG8Fd5CpS21Xt3MkhVKdw3E2xKd4mvq/t7cmD+KUQl+MhahqbccHUQV5uzA1gdmV5VNwI7uTQRD6ORg5kuSEIwlX0zUacrxRqs9i/KQtZVAUV9d5pwyCmgUsQN9GC5eaMevNpQVFVA/QGI/y1HJIipNcfSfKG5aZUnXgbwMJy46ZbSk67KrGQn2KWGyGYuJ/t7YLo8bC4EcRzVLA/wgPli8e0aC9YbspMwkSKxbUlguWm6pzX6gpJhcQNQfgY5y7WgTG+u3JsqM7uuMhgHaJD+O1CbInHMDQBF03ppFK+JKPS+WVFnsfSwc+aslDSooLhJ6P+SGIEf8OpbmhWr/ljS4QYCLluAgkolS0lp12VIKQUq3UjBBPbs9wI6fOlf/GVnj1ErpAGLsMyaIngyjrnUXEjxHa5kJUXFMVbfADzjxsfhcQNQfgYln1qOHu9gUwIsSS5ZR7O7KnIA4zNfIyIkB7qiEhTtpS+2mNdhYV4G0euPVuEBviJN2ePWW9cSc2ViFKWGzntqkKUrFJsWU/JnmUrohPgH8LHLV30XIPWM6W8S7ibjIB1S7zilio1iZuWgdlSEXtM+XbcDYkbgvAx5PRCEmJJcj1tubF0SUmppusfBIQm8M8rzqo3LwtcqXEj4PG4G5XEjdHIRIHhruXGol0VOM7a+tayXZVY66ZRgQKTNcV8V3lOaz/YWqMxpyl70DUlBP53jWtD4sYdtxRgtpL5eFAxiRuC8DHyLkhPLU03/WLM9XQhMCHryVFPqZYIN6aLnhE3guCTkyklILRq8Ii4aawxN6GUUzFWApZVgpWoc2NqV4WUFOv1LdtViZ3BlXBLCVabyDTAz76b1hs33dNlgrixn9XoCEHclFQ3ol7fuk+X4jTrzdWJXS0WKcQ9FR9RZk4qQeKGIHyMPBkVTwWXi9BmwGNckBFMLBDZmV9W5Ck/HxuIrRdccBl4NB1ccKMERQNBkYoeWoh50Wk1CPBTJgsrMxPIzeWwbeqd+CLzfmxbl4ucHOs+nGLMjRJuKdGq1c3xOCEeR4jPURnGGHJMbilXLTcRQf6ilevcRQ98hi+cBJgB0IUBYRKDqFoiihvPXGdXIXFDED5GnoyKp0J/mhyPu6VcKAImWG48IG4YY1Z9peTiUcuNJ+JtFGy9APCup1EDzuCu/uswKiO3VbuqUCVbMIjVdJ1cHw9bbi7U6lHV0AyOk1dqwBKO48R2H/meEDeFh/hl0gD7wVPOiOsDcBq+lUp1sXJzUxgSNwThQzDGZIkbIZ6ktLrRs+ngYnViGZabKMFyo75bqrS6EfVNBmg4IDXKBXFjstwUekTcmCw3ckvhS8Bc40ZZccMf1NQNvKZ1v7AwJQOKpYo/wXJTfhpoUv//JsTbpEQGIdDfdauYGHfjCetr4UF+mTTQ9WPogs1WNB92TZG4IQgfoqxGjzq9AZzEm3JEkL/n08EbqoCaIv65KzE3HrDcCJlSKVFB0PnJ/5oTLDfFnnBLqWm5qWvEZXmHcOORbLTqcOkugrgR4oUsNylpuRFqI8U4cUuFJvCpysxoTndWkTOiS8q1eBsBwf2cV+6Bdh9KiBugTbimSNwQhA8hWG2SI6TflDt7Oh1csNqExMurcGoZc6NyrRtzMLFr7gLPWm5UEjdZWRg6+lKs+vJ5PPvZArTqcOkuIYLlxoa4MVVDdjvmhjHp14fjLIr5qe+aOiMEE7uYBi6Q5qmMKaMRKBLcUm6Km0RTZ3ay3BAEIYW8clNRMBlxIsIN/Gy5hyw3ctouWBKRCoADmuqA2jLFp2WJOQ1cvksKMFcpvlDbCL1SzR/tcTGXXyqZKWXqcBlY3KKssGWHSzcxBMUjO/dKfLmpcyujkGKWGzENXGMWx44Q427UTwc/42YwsYDwWVe9C335aUBfw9emktswsyUJgrghyw1BEBLIuyC0XZB+U/Z4F2uxYaZMceMXYM7QUDnuRizg56B9hSOiQ3TQaTVgDCipVtF609wIVJoaNillubHocNkqZNSyw6UbLqqsLCB94kMYvXIj7n77/lZGIcVibgSrTYSTNHABDwYVizVuYt1zS6VF8Z/f/It1YGpaNAWXVOIlgNbNGCzBLVV6gk8v90FI3BCEDyFYX+Q04UsxfTkWXPSUuHEhU0rAQ0HFQt2fLi66DDiOQ0JEAACV424ungXA+NTckFhljim1w+WOHS4d3mQUwrkS6/eopVFIsd5SQk0koX2HMzzklmoyGEU3kruWm5SoIHAcUKc3iE04VUEUNwPcP1ZEGhAQARibPBLf5AokbgjCh8iXkSklIFhuCjxluZHTMLMlHggqZowhRxA3btx4hKBiVeNuxHiSdNdTc1sip8OlTCyMQkALu5ClUSjIT+gt5WaFYtFlly5tvNCeoTJP1caO+eV1aDYyBPlrxfeJqwT4aZFkOoaqcTfOmo/KgeN8PqiYxA1B+BBnXeiHZGm5UdWsDVj3+XGlfLsQN6FileLiqkbU6Q3Qasw1RFxBaKCpaq0bNYKJ5XS4lIlUo9CfB3irV1V9s3vvScHCFyUh3gYAgqPNrs/SE66f1wmCS6pLbAg0GvdFaZon4m6KFRQ3lscpPqzM8RTG6+Jm2bJlSE9PR2BgIIYNG4Y9e/bYHXv06FHcdtttSE9PB8dxWLJkiecmShAqU683oKS6EYA8y02y6SZcqzegsl6BXj6OqDpv0edH4g3HEg9Ybs6U8YGeaS6mgQskhvM3aFXFjVCdWMlgYjkdLmUi1dhTc5G33OgNRtQ3uZF+LtdyA5jbCpSpKG7KlAkmFlC91k39RaD6PP9ciEtyl0TfDir2qrj56quvMGvWLMybNw/79+/HwIEDMW7cOJSUtE4tBIC6ujp07doVr7/+OhITEz08W4JQF6FCaXigHyKDJQRPmgjSaRFjqnWjumtKCCaO7iotwLMlHoi5yXEz3kZAsNwUqhlzo4blxqLDZas8r5YdLmUi1djTOVUDfy1/roo6NwS3YOGLTJe+T2xPfqliLIi5YaZ7wcQCouVGrSrFgtUmIk1e+QZH+HjGlFfFzdtvv42pU6diypQp6Nu3Lz788EMEBwfj448/tjn+b3/7G9544w3ceeedCAgI8PBspaG6W4Botwi/2uQEEwt4LKhYiLdxtaOwaLnJ5+tuqECO6DJw78YjFvJra24pQOxwWRYRZ72+ZYdLmUg1Co0cySEiiBe/Loubpgag2mQqkuqWAsziplR9cdNNYcuNaj3ihHgbIeBaCeL7AOD4dH0bVaq9jdfEjV6vx759+zB27FjzZDQajB07Frt27VLsPI2NjaiqqrJ6qMHJ4mrMXPUH5n+jfn0Fon1yttz19GWPBRULv4ZdFTfhqbxLy9Bos7KtEigRTAx4oJCfodnsnlOh9QIyM3Hjk5/izrteQ8H7HwHbtqFVh0uZWBiFWgmclkahyGC+kF9FvYsZQJX54DPJQoHgGOn7ecJyY3JLuWsdFEgXesSVqVSrSrCuJCgobnQhZlFeeEC54yqE18RNWVkZDAYDEhISrNYnJCSgqKhIsfMsXLgQERER4iMtLU2xY1tSVqPH+gPnsfr3fFS5myFAdEiEYMI0Fxo9iuJGdcuNIG56ura/1g8IT+GfqxRUnKNQ5VihkF9JdQOMRhUsspX5gLEZ0AYAYcmKH54xhvJGI3Z3GgDt3XcDo0a55IpqickohJQU6/UtjUKRQby4qXTVciO6pDrLyyQT3psXc/g6QgpTWd+EshpesCklboTjlKjVI0603CgUTCzQeTi/zPlZ2eMqgNcDitVmzpw5qKysFB/5+fmqnOeyrtHomRCKOr0B6/Y5SCcgCDu4U1U3WSjkV+kpt5SL4gawiLtRPqhYyfojcWEB4DigycDUqT8iuqS6ABrlv4prGpthMIkywYqiFJmZQG4usG3hB/gi835se3NlK6OQcE6Xg9zFYOt0efuFJQIB4XyPKeEaK4hQmTg+LABhgcpc14ggf8SG8m68XKWtN0ajRaaUgpYbAOhyFb/M2a7scRXAa+ImNjYWWq0WxcXWLdOLi4sVDRYOCAhAeHi41UMNOI7DvZfxX9qf7T5LsTeEbOR0A2+JR2JuGquBqgL+uSs1bgTEuJtct6fUknMX68X6Iwlh7tUf8ddqEBeqYiE/NTKlLBBERYCfxq2u1fbQaoFRw2twV/91GNV9byujUHiQ4JZyUdzITQMX4Diz21SFdHBzMLEyVhsBwXpzRmlxU3EW0FfzFkJ3fpTYostIfll4CKgrV/bYbuI1caPT6TB48GBs3bpVXGc0GrF161YMHz7cW9Nyi1svTUWIToszpbU4dK7S29Mh2hBGI0P+RfmtFwQ8EnMjNsyM4+uJuIqK6eA5pliIdIXqj6gad1NuEjcqdAMHzIG8SlttrAg1BSzXtg4ojXQ3oFhIA3el5ECskA5+0rVzO0B0eyqUKSUgtHEQLEOKUWSqQxPfB9Aq/F4ISzQVTmRA7i/KHttNvOqWmjVrFpYvX46VK1fi+PHjeOSRR1BbW4spU6YAACZNmoQ5c+aI4/V6PQ4cOIADBw5Ar9ejoKAABw4cwKlTp7z1EqwIDfBDv2Q+zU71Dq9Eu6K4ugH6ZiP8NJwY6yGHVJPlpqxGjwZ36oo4osz0OXP3119EKr+sLHDvODYw9/tR5ld1giljqkgNy42lW0oFBMtNRJCK4sZBZ3CzW8pFl57c1guWCJYbFWrdiDVuFHqPCQgB8IoHFQviJrG/sscVEKw3p7aoc3wX8aq4mThxIt58803MnTsXGRkZOHDgADZt2iQGGefl5aHQomrU+fPnMWjQIAwaNAiFhYV48803MWjQIDz44IPeegmtSDDdmFTtR0O0O4QU0JSoIPhp5X8sI4L8EaLj/QKqNdAUgondcUkBFuJG+dg0pWrcCAjp4CWqiBvBcqOOuBEtN0Eu1COSSqhJ3Niy3AjZUq5ablx1SwEWhfyUz5gyp4Era7npolbGlChuFOgpZYveN/LLo+sBve/8qHezNaj7TJ8+HdOnT7e5LTs72+rv9PR0n49lSVI7fZRol7gTbwPwMV/JkUE4WVKDgop6xU3mANzPlBKIMGUsVp7j6/Ur1VMJyoubBLWqFBuN5pgbtdxSJotJhJpuqRCTW6qmpNX/UrAYuSRu6i8CDSbXvktuKSEd/CR/rRUK2DYamYVbSlnLjWAJOlNaC8YYOKU+F2pbbtJH8ta1i7nAsfVAxt3Aud95MeVKoU+FaPfZUp5GVTM20W4RC/i5KG4ADwQVK5EpBQDhprTnplr+JqYgStW4EVDt81xdCDQ38DV/ItQpT2G23KgnbgxB8cjOvRJfHvg7sjfXwmDhERXEjUvZUoJLKiQe0LnwmYhKBzT+QFOdOQheAQoq6tHYbIS/lhPj3JSiU0wwNByf5VZarVAKe105UGWykCrVU6olGg1w6WT++Z7/AMe/BT65Hlg9SZVUfMnT8tqZ2ykeqWpKtDsEy40raeACqgYVGw3mgGJXC/gJ+AeZf/Er6Jqq0zeLFlOl4iES1XIzC1abyE7KB3maqKpXN6A4KwtI7xGE0Ss34u6sjzF6XCjS0/n1/Hn5X+2uiZtcfumKSwrgr6lgEVPQNSVkMnWOCXHJfeyIAD+taHE8Wui42KzByKR5MQSrTVQXIFCdTGEAQMY9gF8gcP4P4Kt7AIOer2nFeU9ikLhRGNWrmhLtkrNuuqUAC8uNGuKmIo+vKqwNMGc7uYMKcTe5Zfw1jAr2l9WbyxHCjxXF3VJqtV0QMBgQvfdX3HxsO/qe2A8rk4oCZGUBEya07hBeUMCvz8oyW4wq6lwIKK5wI5hYIE75SsWnS9QJJhbon8InpBx2kG17qqQagxb8iJ7//B4TPvgV9XoH/1u1XVICYQnAnV8AQVH8373/Dkz4RDXhLgUSNwqTqHZVU6Jdki+KG9e/NFWtUiy4pGK6AxoFaqaoIG6UjrcBgHiTuKlqaHZ8E5GLmplSWVlAejoeeulBvPPNG7h19r2wMqm4icEAzJjBh9i0RFg3cyYQFsDf2Gr1BuibZfYRs6xO7CoqtGE4aRI3PRPCFDumJZcI4qbAvrhZvPkkqhqa0WRg+P3sRfxw1EFFf7WDiS3pPgZ4ZBdwx2fA7Su8KmwAEjeKE29R1bTclV8sRIejuqEJ5aYKuK40zRRQ1S0ldAN31yUlIAYVK1cxXKgP4m7DTEvCA/0QZCqAp6hrSq0aN1JMKm6yY0frw1vCGJCfDxzY6y/GF8t2TYluqXRXpsgj1LpRsIHmyeJqAECPBBUC9gEMSI0EAByxI25OFlfjuyN8BvF1/fhit98cPG//gJ6y3AiEJwF9b/a6sAFI3CiOv1aD2FCVMiyIdokQbxMTokNogOsJjIJbqqiyQSy7rxhKZUoJqGi5UTKLheM40RqraFCxpSVMKaSaVNx0UVlU53BISTGHMNP7WXatG3fSwAXEWjfKiBvGGP4SxE28Opabfsnh4Dg+rMFWUPEH20+DMV7YPDWO/yz+fLLUtuuvqcFc58dT4saHIHGjAqr56Yl2iZAp5UrDTEviwwLhp+HQbGTKB8CWKW25UV7cnFHBLQWY08EVu6ZWwdkKlsOXalLZscOt0yQlSR/nUlCx0WiuXu2W5cZ0bWtLFMnKK61uRFVDMzSc8mngAiEBfmI8T0vrTWVdEzYe4pXlQ1d1Rff4MPRJCkeTgeH7IzZcU6V/8o1Zg6LNGYodCBI3KqDKLz2i3aJEphQAaDUckiL59945peNuRMuN0uJGGbcUY8zCLaW0uFE4Y+piLh+c7ReoTHC2gFSTitRxdhgxgu8Abq8MC8cBaWn8uChTplZ5rQxxU13IZ9toLDrIu0JAqHl/Bdow/FXMv786x4So0qtLQAgq/iPPWpB9/cc5NDYb0TsxDBlpkQDMrqldpy+0PpClS0rBWlJtBRI3KkCWG0IOSmRKCQjHyFey/UddubkCbYxS4sZ0U68uUqQWxsW6JlQ1NAMA0mOUFTfmz7NCNTvESs89lAnOFpBjUnEDrRZYupR/3vKeKfy9ZAk/TnDRy6rbIrikIlLdvz4KNtA8WSK4pNSJtxG4onssAODHY+am0owxfLmH/yFw97BOYoG/jE6RAOwEIHs63sbHIHGjAsKv57PUX4qQQL4K4kbR3maCCyU8hf81rAQhsYAuFAAzZ8a4gdAwMzkiEEE6ZX9VK265EW60cQq6pAB5JhU3ycwE1q4FUloYVlJT+fWZmfzfcWEuiBslgokFYpVrwyBYbtQKJha4pm8C/DQc/iyqxmmTNXLL8RKcKK5GkL8W4zPMF32AycqTU1bb2vVXcoxfqlW8z8chcaMCA00R77/nlvt8uwjC+5xVoDqxQGqUyXJzUUFxo7RLCuBvtFGmNGihoJ0bCP1+lKpMbInibmbxevZS5ngCFiYV5sykogCZmUBuLrBtQyG+yLwf2+7PRM4ZJgobgM8eBYDSGhnXTok0cAEFg4qFTCm10sAFIoN1ovVm05EiGIwMb/7AC+L7rki3aoQaFaJDWjSfSNAqw6r0T34Z11vV+foqJG5U4NJOUfDXciisbKDu4IRDmg1GMXW7swLuFFXcUkpnSglEp/PLcvfFjRo1bgQSlHYzq2W5AUSTSmNCC9dTS5OKQmi1wKjrwnFX/3UYlbYVWkON1XavW24UaqDJGMOJIl7c9EpUV9wAwA39+Via/+4+izlZh3CiuBrhgX54eGS3VmOF9PFDloX/ai+YXclxCovoNgKJGxUI0mnFgK/dZ2wEehGEifMVfNq2zk8j/sp1B1XcUmUqZPYA5puXApYbs7hR3mUgZEuVVDe4b4llTD3LjUBmJn74dhfuvOs1vPvgfGDbNiAnR3FhI6ILAfxNorKmxGqTIG5KXIm5cScNXEB4z17M5VOjXeTcxXpUNzbDX8uhqwrvsZZc3z8JqVFBKKxswOrf+Qy4Z6/vbbMJ6gCx8F+FeaVgtYnsxP9/OiAkblTisq4xAIDdZ8q9PBNCEodWAx9dC/z1o0dPe9oUK5IeEwyNxv2MBiGdvLiqEQ1NClXUFQNgFazJAli4pXLdPpTgllKjLH58GG+5aTIwsdiiy1QXAY1VfM+dmNa/wpWivMGA3Z0G4M/RfwdGjVLMFWWXUFOvMMFaYCLOdO3kWW4Et1S6AvNKAAIiAGY0V4V2gT9NVpvu8WHQ+al/2wwP9MeGx67AmN7xiA0NwL/vHYx7htkWe/1TeXFzMN/CctPBXVIAiRvVEMTNrtMXKO7G1/npVSBrKpD/G7D6XuDc7x47tbniqTKm7qhgf7EQoCLp4IYms2VFcbeUSdy46ZZqMhhxxiQSu6uQyaLz0yA2lK/X4nbcjVBULaoL4Oe+pc4eF00iLFqhHltOCYnnly0sN/EWbilJ34NNDUC1qeKuEm4pjrOIu3E9Y+pPUyPLPh5wSQnEhAbgo/v+hr0vjME4U8q3Lfol8+KmoKIelaZO8CRuSNyoxqWdouCn4VBU1aB8zRFCOWpKgB1v8c9jewLNDcBX9wJNnvmfCRkYPRWqeMpxnGi9USTupjyHLwTmH6J8ITBLy41RZu8hC3LLatFkYAjRacUWFEqjWMaU0ApA5TgIofVLlEodwVtiCE5Adu6V+DIrFNnZ5iLIQip4Y7MR1Y3Nzg8k1D3ShQLB0cpMToy7cb3WjWC56Z3kOXEjwDmpURMR5C++748XmbqJk7ghcaMWQTot+pl8ob+fJdeUz3LoK4AZgNS/AVO38T2Pqs8D+z/1yOmFRnxKppd2MmVPKBJ3U3KUX8b1Ur4QWEQaX6jN0MgXbnORExbWLyVce7Ywixs3a90I1gOlrWAtuGgqmhcVor7lJisLSH/iXYxeuRF3v3g1Ro829+kM0mnFFgwlUq6dZTCxUu83BWrdHDdZbnonhisxI8Xpk8TPS5inOWidxA2hAkM68+3ff891v/Q3oQKMAQe+4J9n3M3XcBkxi/97x9tuBSBKOz3DKTG9VDlxk2ZKBxdSzN2iWMVaGVo/cwNNN4KKBetXLxVTdBXLmBJvOipbbgS3lMriRuzTeSHSar1ln864cBkZU4K4USINXMDNWjf1egNyLvAxXd6w3Eihr2lexwur+KKbNaYCgGpk5LURSNyoiCBu9p0lceOTFB3iC11pA4B+pkySjH8A4alATRGwf6Wqpy+oqEet3gB/LadIGriAUOtFKGznFsUmy03CJe4fyxZCV+wLp10+xF9F6nZqBsxVit12S6mdKWXiouiWUk/cWPfptLayWPbpjAkWat1IEDdKZkoJCFayC6dccn8eL6oCY0BsqE4MLvc1zJabarOAjkgDAnxTjHkCEjcqMjidFzcniqvlNY4jPMOprfyy+xggKJJ/7qcDRs7mn6tsvRFcUl1iQ+CvVe6j2C2Ov8mfNmUQuUXxEX6pVpVTIQNLqILsAkKnZjXrjyRG8DdotwKK6yvMv6iVLIjYEoMBXY7sxc3HtiPt4G9udwG3h9Q+nc0FfHKFLMuNEsHEAlHpgMYfaKoDquQ3aj1sqh8j9HzyRQRxc6K4GgbB2tqBXVIAiRtViQ8LRKfoYDDWugka4QPk/Mwvu46yXu8h643SmVICQsficxfr3EsHb6w2/5JWS9wIN3kXxU1DkwG5JpeBmm6peCXcUoLVJiwZCFQpdiMrCyw9HR989BTe+eYNdLnjJnMAjMJI7b+pbeBjwEqqJVw7JasTixPwM6fdu+CaOniuAoC5WJ4v0ik6GCE6LfTNRlTlm36QdNDifQIkblSGXFM+SnMjkLebf95lpPU2Px1wxQz++eG1qk3h2Hk++E/pm3JcaADCAv1gZG7G3ZQc55dhScplrrREuOm4KG5OldTAyPiMkTgFiiDaQ3BLySpG1xI1KxMDFgEwLawTlgEwCiK1/2ZaKn+bKZUUUCy4pdJdm5Q9BNdUqXxxI1T+HZDqu5YbjYYTLZdNRabPLVluCDURXFMUVOxjnNsLNNfz9TlsfQn0GMsvCw+o5po6kF8BABhoqmatFBzHWbim3Ii7UdslBZi7jJfnAAYJqcItELoh90sOd5oy6w6CuCmv1btuDRPil+L6KDQrCywCYFpdBcsAGAVdVFL7dF55Jf+30GbELvUXgUZTIbrITorNE4BZ3Mi03NQ0NoufIV+23ABA32TeGhhUYUp5j1fhfdaGIHGjMkM68794D+RXoMngei0PQmEEl1SXkba/naO68MLHoAfO/6H46ctr9cg1WVUyVPjSFMVNiRvipsgkbuL7KjAjO4SnAH5BgLHJ7AKTgflXdaTCE7MmMtgfQf58ld9CV11ThQf5ZdJAhWZlgdQAmB07FDulRZ/OVh8hyz6dXeMlZu8JVpuQeEDnfhNZKwQXjVD/RSJHCirBGN9tXk3LoBL0SQpHOGoQ1lTGr1C53ICvQ+JGZXrEhyI80A/1TQZzDQLC++Tv4ZedL7e9neOATsP453m7FD/9QZPVpmtciM1+Me7SLZ6Pu3HLcnN+P79MuVSBGdlBo3HLNSX001HbZcBxnHt9u4xGPjsPAJIzlJuYgNQAGKnjJGLq04mUFOv1ln06002ZgEVVDY6tXmoEEwsI2X5FR2RlTB1qA/E2An2SwtGL5QO5zcCpMGD3ftWCydsCJG5URqPhcCnVu/E9SkwZBYkD7I9Ju4xf5v+m+On/MImbDIVdUgKC5eZMmYsZU00NZstNymCFZmUHFzOmGpoMYqdmT8RDpLkjbi6cAvQ1vJUqRoVMKakBMFLHySAzE8jNBbbNfQ1fZN6Pbcv+Z9WnMzLYH2GBfCE/h9dOjTRwgdie/LXXVwPl0ssO7DrNNz6+tHOk8nNSmH67t+D/PpgPrKwDPi+AVTXFDgiJGw8gFvOjSsW+Qe0Fc0puvIOgu07D+WX+b261B7CFkD03SDVxY7LclNS41tus6DDvKgqJMxfaUwux94+E8vhGI5C7E2iowp9F1WgyMESH6FRru2BJJ3faWgguqcT+fPaO0kgNgBkxQvlzg3dRjRpejbv6r8OoHr9b9enkOE603uQ6EttqWm60fkCiyXpz/oCkXfTNRvyWw39nX9E9Vvk5KYhhTRZ2TXwfG6v/jmxcBYNwa1cpmLwtQOLGAwwzNdHceeoCminuxvsILQUiOzsucpU0gO9xU38RKFCumabByES3VEZalGLHtaRTdAi0Gg61eoNrLQMK9vHLlMHKt11oiZjJ4iQewmgEvp0BrLgB+OhaHDvLu1j6p0SoGkwsILa1cCUDrfAAv1TDJQVYBcC0Cim2DIBRsTu4ISSF7y+1McWqvxQAdI6REHejRhq4JUkZ/FL4Xzhhf95F1OkNiAnRoY+Ptl0AgKy1BqTfdRlGYxvuwZcYjWykIxdZuFW1YPK2AIkbDzAoLRKRwf6orG+ilHBfQGwp4KTqrtYf6HUD//yIcr98jhdWoaqhGaEBfuijUjl3nZ8GnU2WBpfibgQxp7ZLCuCtGYDJWuRA/G97xdzzq/Q4uu5dAAAY6KEU3U4xbrilBGuBGsHEAqYAmIroOOv1lgEwKpGVBaTffj/fX2rpQ608IqLl5oIDy035GX4pdItXGkFYSrTc7DzFB+Ze0T1WtZ5l7pKVBUy4XYNzBuuu4QVIwQSsNQschYPJ2wIkbjyAn1aD0b3iAQBb/yzx8mwI0XKTICEL6JLb+OXRrwGjMr98BD/+sC7R8FOwMnFLurqTDi5ablQMJhaI6QH4BfIxKfZ6TDU1AHv+j38+eCqazzA0fF2Ovj9fhK44ziM/Si3dUrJcfYYmc3B2ssrXMzMTD7+yDnfe9Rr2LVwGbNsGqwAYFRDL6xRbuwYtPSJOhWGz3hxzI8RgKY1ouTkoyc284yQvbq7s4ZsuKTH7H0DLWzkz/T0TS8wuKoWDyX0dEjceYkwfXtxsOV7s5ZkQYr0RKSnO3a4GAiP4asVnf1Xk9L+e5r80h3eLUeR49hAyps7IbcNQWcD/iuY0nrHcaP3MtXSE2JSW/PU9XwPlbASyplSiy2dHMXrHD/h+1z/w+KRopCfUqR5WkGpqSFrd2IyLdTLaqZw/wJf+D4rySGG10tpm7O40AE13TARGjVLXFSWxv1RapBPLzcVcgBl5N3BogjqTjettEtHVTuvdFFTU40B+BTgOGNkjzuFYb2HO/rdtVWLQIB+dsAOmOCsVgsltYjAA2dnAl1+ilX/Sg5C48RAje8bBT8PhTGktTrlTe4RwD6MRKDHFdkgpTuenA/rczD//479un77JYMQeU5DiZV1VFjeuWm7ObOOXyYP4G7InELLWhHTplhxcBRxvQtaKIZhw4d84B+vc44ILgZhwG1NV4AT6a8VifrJcU2d/4Zedr+BT31VG6OHkibosUsvrFJ3g34sFF+vR2GzjZidkysV0Uy/GS+sHpJnKOwh1ruzwzcHzAICh6dFIjPDNZpmSs/+RBMTEqBZMLmIwAAsWAPHxfKbW3Xd7NWOLxI2HCA/0FyPuNx7qWOZBn6IiF2iq5TuBR3eTts/gKfzyaBafaeUGRwoqUas3ICLIH32T1A1StMyYksVpk7jpdrXCM3JAkkncFNoQNzWlwIkfYfhejxlY6sAMzzBzBlP1h6JLtW4Ei1/nK1SYkTX1egOqG/lKz54QN1JvsPWV/ogM9oeRQUzft0JIz1bLJSUg9JETBLwlJouD4fNVyF5yAHVHE9HD0NVn43BPSkguBIAkFAIXLgAbNqg3mbVrgehoYN48oLxFVrCXMrZI3HiQmwYmAwC+PXTeyzPpwIgdc3tKT8lNuZT31xv0wB+fuXX6Y6ZCjoM6RaoepNg1lv+1fL6yAbWNElsbGI3mL/6uo1WamQ0STYG2RYfM/gyBI+uAs3rsqL4S55AGe19bDBrkn+NUjZsUYkccpjRbYjSYe5ilqy9uymp4q02AnwZhASqknLdAqqcjOZkTC+EdNFWVtkKw3Ej9weEqgrjJ2WHd7mPtWhgSU7Bg9FbE/+MafLX+NpR+OxivPpbgk6ViDAbgP/9xNoohFXkYgR28NUytjKmnnwZuvx2oslOk1ksZWyRuPMi1/RKg02pwsqTG9q8XQn2E4n3xMvolcRwwdCr/fOdSoCLf5dMLqbBdYkNcPoZUokJ0iAnRAQBynNyMRTf5h/nIPtYHBr9wIPVvqs9RJKEvoPEDakvNWTMCB78EqhlvXpeAmnGT3eN5wXhSqjWs8ADQWAUERDjPznMXgwF1P27Fzce249qS4+AUrs1kCznldYSsNqEMghUXPGS5SRrIu1r11eag+WeewdrbVyG67ATm4WWUw9pdXHCO+VypmB07eIOIYzhMxXJoYVQnY8pgAO64A3jzTedjvZCxReLGg4QH+mNkTz447es/nL4zCTUQgonlNoPsfzv/xVhfDqyZzGd3uIAgMjwhbgBz3M1fxfbFdNZaA9ITG3g3+WOdMXrlRqQv/gNZ/9N5ZI4AAP8gIN3UYfH4/8zrS/7kBcJFxpvXJSDVXO8KPQRx4+B6WnHie37Z9SpAo15gL5+LnY5ed92Md755A+8un+2RWAep/aW0WmCgyXIjtDSwwlPiRqMFuoyEwahB9tq/8OWM3bjzjUG4HWtQBdslBfi6QcynSsVIFfA90KLqt3NFJI2sLD62Zs0aeft5MGOLxI2HmTCYD4Rcuy8f+mYq6OdxBMuNlDRwS/wCgDs+BQIj+V98e/7t0unPmrJFOsd4RtwInYKPFNg2GWc9sxsTbudwrsxayBSUR6seoNsKIXD7mIW4+f1jwMiAA8AI7EAq8sHB0eeG4aWX1Lun90zg6xKdKauVVpDzz+/4Ze8b1ZkQYJGL3SKy10OxDlL6SwHAgDRePJwsqUGNpZu0sQaoNrnqY7qqOlcAyDo3DelLDmP07Htx9zuX4Svc5XQfxjifKhUTHy9tXKsfBNOmyRckLcnKAm67rXVsjaQJeShjCyRuPM6YPglICA9AWY0ePxwt8vZ0OhZNDWbfvhy3lEBUOnDtK/zz7H8B1fLS+o1GJrql0mMU7npsh0tS+BvKkYLWcQ6GNVmY8UaK4wDdaXWe+7Xa++8AOL4mTEU+f333rwR2NAIXG6CFEUsxwzRfe3VmeHOBWr+yUyKDEOivgb7Z6DyouDyHr6nEaYEe1yo/GaBlLrY1Hox1EPtLfXmY7y/12IOtyuvEhwUiOSIQjLV4PwqfyeBY1bPzstYaMGH2FThXndxii7T4N18oFZOVxXuDHGNEmhBvY0ldHb/z8OHA1q3y3xd6PTBlirx9BFRs/2ELEjcexl+rwcS/dQIAfLb7rJdn08Eo/ZOvpREUBYQlOh9vi4x7+BRpfTWw+l6gvkLyrkVVDWhsNsJPw3mkFxLAtyYAgKPnK2E0WtwADQbsePRL5wG6F4KxI9tD6iYswdyl/ZfFwM9vAIergWyzCzATX2M+5sHRzUhN975Gw0mLuzEYgC+WAIebgPpefMyNGkjNxfaAyUGrBUZcG4WksGIUFnPYsd3Q6t450NRLTSiHAMDcdkPlGkCGr9Zixh1FYGBw9danpstTCtKMJgwAh7cxi4+3scXu3cDYsUBCgnTL3tq1QFSU/cBhR3Cc6u0/WkLixgvcNTQNfhoOe3LKbf6iJlTCMpjY1VoaGg1w87t8Yb/834B/dQZeTQIWdQUWXwJ8dC3w0ytAyfFWuwoFzNKig1WtTGxJt7gQBPprUKs3IMeygFp2NjaUDZd0jMIP16szOVtcMZNf/v4R8Nt/gG/qWw1pFUdgB7V+ZfeI511TdutVZWUB6Z2Bx98BsuqBf+3m/QgLFihvQZFc7ER9k0NWFpA+MIVvwbB2OUaP0bYK+xEqtf94zMJqLXxWHDWxdZenn8aOO9/DOZYCd257y5d7L+7GYOC9Ss7hAHCIRZnzoRcu8GrJmcB55hk+I6rOhdYjMTGqt/+wBYkbL5AUEYS/D+B9j//5+YyT0YRinDP1S3K3v09if+C+jeZu2U11QN0FoDKfFzw/vwG8fxnw1b2A3iwocss865IC+NYfQj0dUUhnZUE/4W78B5K+KZG09l3PpYr0vBYY/QL//JcmoLW2kRxYrJZ7v0eCg6BiMf6lReBmeTlfAyQ62v2YB0ukvkiVYx3MYT/WPxpahv2M6RMPDcfHgBVUmP65alpuLDJ6pGbbOeLcOe/F3bzyCq9FpCLr9U6bZl+1rVkDvPGG9GNZcscdQHGxx4UNQOLGazw4gg+c23i4UAwyJVTm3B5+mTbU/WMl9geeOAA8dRKYcRB4dDfw4E/A+GVArxsBpgG+zwIe/Rvw/deAweDxYGKBS1IioDEaUPX9ZuDJJ7H2ti8QVXEadQh1um8cinm/vSdTRUY+DdzyEfCr7bgaIbAYDgOLgTIJP1xdQbDc/NmynIPw09pR36mqKv4L/5lnlJmMnFxslZAT9hMTGoAh6dEAgB+FmEPRctNH2Ym1yOiRKoqd4Y24m6++AubPl7ePrNd74QLw8sut1+v1wH33yTuxwOzZ/MQ96IqyhMSNl7gkJQIjesTCYGT45/oj8hrxKUFzI3B4LfDji8DXjwBZ04D9n7mc4uzzNFab08CFEuzuovUDQuP5QOP4PkDqYGDQP4CACcByHbCyDvjoOHBDJtApFRHffwPAs5YbALjur1345cMHcPfzD+DOJUNxO9ZIEjYAcA8+5/32nkwVWbcOuGIy0Nhoc7MWRryNJwFTiq49Zs1SR48NTIsA12yA/pt8rHh4B7KXHIBBbwBefVX6T+s33uC/+N3FIhebOcvFVgm5YT/j+vHxbj8cLeItm0LDTCUtNzaCU0ZgB6LhXoVxwKMJPwD4Gnl33ulYM1tjJ5jYGQsWWL8nhRgbua6o4GBg9Wpp9W9URP0SloRd5t/cD9ct3YEdJ8vw9R8FyLw0Vf2Tnvsd2PMf4PRPfME0Sw59BfzyNjDpf0Bkmvpz8SQF+/lg4ohOQLiK306Cfb7FN1Hz+RL0ee87XNkzBI39r4DhMg/9oMnKwvBnH8IalokH8RGq7dTysMd4WKRlq/2T1WAA7rlH0k0/DmVwluGSnw+8+y4fM5mUxBsvlLjmP88/gOq3L8c2FottP/HrUmefx1LNEcgyvt99Nz+hCRPcm5ApF7t5+uPwL7Sofp6aygsblV0CcsN+ru2bgJe/PYY9OeWoyj+GcIDPlApRqPu2neAULYyYgSWYBxsWColotepZBFtiMAB33SXfi8mBw5LQF6GtkVlqhDFeRS1ezP/922/y9geA8HCgtBTQebBGlj1YB6OyspIBYJWVld6eCmOMsfd+Osk6P/stGzj/B1Za3aDuyYqOMvZKImPzwvnHm70Z2/g0YzveZuynVxl7owe//p1LGaspVXcuniZ7Ef/a1kxR7xzNzYylpjLGf02Ij3W4laUiz2p1aEAjGzmSseeeY+zNNxn7738Z27aNP4TS83karzO+WEyrqTl8xKCUNUNjXjF/voKTa8GaNYyFhUme3Be4U/brSU1lbN0616fY3MzYxCvO2rmWBsbBwNbhVnmTAtyblAVbDhewiXe9xv41ea4Kbyb7bNsm7WVu22be5/olP7POz37Lfvv6Xf5z+cmNyk1o4kS7k2iGhsWg1MnnwehwO8cp9i+zy7p1jEVHy38rhYeb5tbc7PA6qPZQ+cLIuX+TuPEy+mYDG7d4O+v87Lfs8S/2q3ei+grGlg7iv0g+vp6xUz8x1qy3HlNxjrG3+/FjPruNMaNRvfl4ms9u41/X7g/VO4eNb/l1uJVxMDDA4JEbcMv5rMZtTr+s7T3m45+tJ6fGDfOpp2R/iW7DVR79/l2zhrGwUGfX0MDScNZaEEp5pKUpcl1X/prDOj/7LZu6cq/bx5KDoOk5zr4YaPkSl2z+i3V+9lv2/dsP8p/Lb2crM5lVq5xeb2efyZAQI9M4+Bfaej1Ksm6da+/r8HDGGhtbHGzNGn6DEsLF0SMmRn3Fx+Tdvynmxsv4azVYNGEANBzwv4Pn8dOf8grDScJoBL5+mO+8G5EG3PEZ0G00oPW3HheRAtyzhu+YfWozsPf/lJ+LN2hqAM7u5J93kpb+7BLr11v9aYDGbhdre5w7Jy0zUwr6/GLchxUQUkOlwxCDUryA11pPzlu9aVowAjuQGu5aGQVHiSG2ELJgq2ucXUMN8tEJOyAzeFeJeCaDAdqft+PmY9tx+bnDHs1XdtyCgX/3twz7ubZfAgAg7KIpmDhRgb5ba9bwrj4nZOJrrMUEpMI6oy06mmH+fGDDBg6O2nIxpl4Imjs18j75xIY3aMIEc6aeq+UvnDF6tNcyohyiutTyMXzNciPwyrdHWednv2XDX9vCqhualD34dpNLZkEcY+f2OR+/6wN+/GtpjDXWKDsXb3Bys8kN10ueNaq5mbfGfPGFczP/qlWtfrq6Y12w+StMBuvWMRYerHfh3EYGR+6VL75wfVKWyHRD2fqluG5Ns8u7S/WwrV4t/9hf4E4XdnLjuq5b19odqqgJ0PVpREc0svnzW390jEYjG/H6Vnbhn0mMTQ5m7L1X3XOluWDuaIaGbbvj/VYf7y++UP9fZu8luGJk0Wj4j5NT1qxx/fNm7xEd7TH3J2PklnKIr4qb2sYmduW/toruKaNSLqGTmxmbF8Hf3PetlLaPwcDYkoH8Pr9/osw8vMnGp/nXsmG69H1sfVOHhzP2xBOtv4TtuFVciQuxfAQH8zdXuZi/512Ls3EYN/Lii9IFnz1ccEO1ephu3DNnurZ7TIzzqTc3u3az2Yar5O/kajzTunW2/UEc55ngkBY0N/MvJTq02mo6LbVWczNjr038hH0RdBfbhqvMrjxXRJmdWDdXP1yuxBC5i6uuKID/XSWZ1auZQ5+bi59DT0HixgG+Km4YY2xPzgXWdc5G1vnZb9n/7Tjj/gEL9vPWl3nhjG14XN6+O02Bfu9f0bZjb4xGxpYM4F/LsW+k7WPvhmH5CAtj7NZbGevTx+4Ydyw3lo/ZMsIRmpv5G7f88xjZRP+18uNFYmOlK7DmZsZuv929i9HCty/1RuTKzemll+QfMw5F8q+h8H56/nnGtmyRLhid3dTVDg6xgfmjY2w1FUFrrVvHWGpMrdX2VOTxotoVUSb3TRAc7NAs6iyGSHgbKnVZXf/M8r8TZCMhLknu59BTtDlx895777HOnTuzgIAANnToUPbbb785HL969WrWq1cvFhAQwC655BK2ceNGyefyZXHDGGPLfz7NOj/7Lev87Lds5a85rh+o6AhjC03C5qNxjDXJzMSqK2fs5QR+/zPbXZ+Htyk6anLJxTLWUO18vCu/Au08mqExZUlJCyZ29LjjDmlfpvPnyz92OCrY6tm7XNtZeEyc6HiC7rqh7JyjuZnXV64c7okn7E/XhpfRyYMP2l6D29x/74SGMpu+nJZ4w8TgAClaKyaGMY4ztvpMcJbZZnJF2YwZ8q6vBB+OFEuKUvd2Vz92cn70tGL2bNffn1K/jFSgTYmbVatWMZ1Oxz7++GN29OhRNnXqVBYZGcmKi4ttjt+5cyfTarVs0aJF7NixY+yf//wn8/f3Z4cPH5Z0Pl8XN0ajkb38zVFR4Cz/+bT9wfZiQqqLzVlPy8cy1lDl2mS+nW3KrrrBtf19ge+e5V/Dl3dLG++OKcDGYx1uNX2Ry3cRtXwEB9v2igk0NjIWFCTvmKPTT7PmRpnBBvYegYGMTZ5sndeuREpqeLhD65ArcTEAfw+1ZdJ3zWtmZE/j9dYbNBr5N1+Jr9trwSF2kP7Rsf1Z4Fpmm0kRZXJV6NNPS3otzqwpShnFmpt5LSvnbeGqu7oVrrzR3VJU7tOmxM3QoUPZY489Jv5tMBhYcnIyW7hwoc3xd9xxB7vxRuuaCMOGDWMPPfSQpPP5urhhjBc4//r+uChwFnxzlP2eW862nygxx+KYYkKaoWHbcBX7AneybeE3s+Z595otNksHMVZ7wfWJVJzjLR7zwhk787MyL86T6OvM1+KvzdL2cfcGb+OxDreaamsod1jBGyTo2xkzGAsIkHMMI4uONlp/OSss7FhgIGP+/u4dQ+KvxKefdv0UlgYhV37QhqOCrbZnsZk3z/3ras8q5mOWG6U+OmLMkjNRJuefbk/J2sFTl1au69PdRINWrFnDWFyc8xPHxSmkqNxDzv3bqxWK9Xo99u3bhzlz5ojrNBoNxo4di127dtncZ9euXZg1a5bVunHjxmF9izRcgcbGRjRalHGvcqVdu4fhOA5Pj+sFnZ8GS7acxEe/5OCjX3IAAPdf0QUv6o+Du/12ZLFbMANLcQ6masJVQOr8fCxNm4XMp3KAe74CgqNdn0hECnDpZGDvcmDLPOCBLXxXbJUwGPj0yoICPrOwtJTPPk5NBWJjgcREICXFdqVZYd/CQotqtEfWAQ2VfFXibqOlnXT/fsVfVya+xnhswKt4Hm/gGdQgzO1jlpXxWdSBgUBDgytH4LB8eYvrKPQpclRLXw6uTczM7NmS08QXLQKGDgUeeIBv3ySHr74Cvv8euP9+PmVZDqOxFZtxLd+ioiUxMcCLL/LPY2NdL20rTPD//o/PSRcQ/l8FBfwtqCUcx29Xsa+UJUq1JRAbPv74I1/GorQUiIuz/vDLbeb4+OPAxInS5+CBZutr1sjvF2Uz3dsdJkwAbr3V+jtQaCESHe34S9fH8aq4KSsrg8FgQEJCgtX6hIQE/Pnnnzb3KSoqsjm+qKjI5viFCxdivtx3kA/AcRxmju2JS5IjMO9/R1HT2IzK+ias2HEKjy5/BNvZLbgda8Fa1C8pQAom5H+FtS9MQWbSfiA6F8jO5r8khDdrYqL5pg4Ao0bxD1tv3pFPAQe/BAr2AYdXAwPvtDtnS51g6/vI0dgzZ4BPPwUqJZQuCQ3la8Fccw1//JISYPp0/jgCqckGLO2XjcywJmDklcC2bKCoyHpitnZUCS2MmItX8AJeQzauwk8YjV8GTMfPh6LcOq4r+iE8nP+SbFWWQihYctttbs3JbcLDW9/IJSB8T2dnAytWAP/9r/R9q6rkC5vogBpsbrQjbADgP/8xv/H/8Q/5J2g5wTvu4BsNLVrEr9Nq+fr8jm7yKveVssSZ1pKK2PBxxQr+YUlqKvD228CDD8o76K23ypuDRKF28qS8aQhkZfH/TqnY/cwqgVbLf/+3NzxgSbJLQUEBA8B+/fVXq/VPP/00Gzp0qM19/P392RctzJXLli1j8fHxNsc3NDSwyspK8ZGfny/ZrOVLGI1G9vnus+yuuxeyRvixcFQwyb5rKQ9HAR073uZdO2/0ZKy+gjU380kd//wnn+CxaBFjmZn240XDwhi77TZ+3HPPMTZypPuxpdYPhcvhq/2wcNi7Wmbd1UdgoASzttLponIeCgUrKhgXbvexbh2zbdZPS2sdbaqky08IiDWlJhntjZMYX6Ik7qQ0u1zh2dnDheCY5mbGUlKcHzoqSn77FLnZUZI+sx2ENhNz09jYyLRaLfv666+t1k+aNIndfPPNNvdJS0tjixcvtlo3d+5cNmDAAEnnbAsxN/ZobmbsmZv2M3/USfpQuFRvA+Aj3CwDQxtqxdYN655b7nLaoucfKn1Zynm0DHa0keqqRIa01IfkcipKpIvKfSgcrOjejdb+o1XRNCnFHpVUW8HBjNXVOT+eh9PAhZfpaikCxbLNWj5cTGtyJYtJSpkeucdVs6VbW6PNiBvG+IDi6dPNxdUMBgNLSUlxGFD897//3Wrd8OHDfS6g2Nb3nbDuv/9l7K23eKuHYPl47jnG/vGP1qUuBCvJhAnyYzNdqpRq6xEWxti4kWxdpwlMqcwfTz5cFnmuPoQsF1uFAG39qjehRG07Rw/ZtTncidJ15XqpgBpGKFlF0yxRUm0FB0t8829T8nI6xV0DlaKfVcmle23jaoC0ozI9crOjlKyn0x5oU+Jm1apVLCAggK1YsYIdO3aMTZs2jUVGRrKioiLGGGP33nsve+6558TxO3fuZH5+fuzNN99kx48fZ/PmzfO5VHCbZcij5VU7DQxk7LLLpH+Hqf1F0QwNS0Eea2vCBlBQ5Dl72KpPIqeFA1OmHIy9h0s/YKVmU7j6cFYfRwGUNEK5VDTNknXrXK/Y5tKb3zNp4ALuZkwp+ll1WYXyuCPU7BnN5GZHeaFOnk/TpsQNY4y9++67rFOnTkyn07GhQ4ey3bt3i9uuuuoqNnnyZKvxq1evZj179mQ6nY7169fPp4r4SSlu64lHDEoVdccoVW3XGw/FLTePPsqb3uyZ29xEidIwVu8Fd4uJWpocFy9m7NNPGRs92r1JqWitsYUSRijFvGZijwIPBFt1VMvNxIluvxZ3PYktL/3q1dLvDW4andotbU7ceBI1xY07ZbSVfszHPxU9oLt9krz1cLkcvpxvLZVQwmiiqmFkzRrXmi95wFpjb7quWMVklkiRTkur3ldfKWe280LrBeEluSIIXEqCsPdQsJmjO55EywrYco8zb54i0293kLhxgJrixp3q9co9jCwGJYrf0Num5UbhAEUv3DCE+9+NN8qbqpyWT25PUEidy8xkLCLC/qQ8bK2xN125wduqCBtHE3TXKiY8vOTTkC8IjMpmNir8ul1tzgowdu+9jK1YIS+8IDSU4mzsQeLGAWqJm+Zmz6b02vuSgErpz20v5sbInsIiZQ/qhS7Llki15EhpS6QatqLm//lPRd12SiA1eNsL2dTKmIBnzvTCxM3IFQSKWJq1WlV8OUoX7pby+SVsQ+LGAWqJmy1bPPsBsPWIQamqdV2U7JPk7BGOC+xWrGb/wAp2K9awYFTL2N/IZuNf8k+q09lvzuQgy8mTWLZbaGkk8ZEpthkciUWvV5t3N7PKw7E2LZErCBQJJFbpHya15o0SD8qOcoyc+zfHGGMerhvoVaqqqhAREYHKykqEh4crcsysLGDyZKCmRpHDucTEK/Lw+fEh0JbbqbYbGMi3TqirM6/jOP4zJYMs3Ipp+A8uINaN2domAuWYjJW4FRswAjugDfAHunUDzpyBoUGPbFyFbIzCMfTBVoxFJVpX941DMZbhMdyOddJPHBrKV3594QX+b6lllr2MzZYTvjVFn0dOVW2Pk5UFTJkiv59EXBz/pvDiCzAYgPh4oLxc2vht4eMxqup/rp0sJoavBq1K+V6erCzPFO5et07Vl9HmkXP/JnHjJp5609vDqlK9wcDXnm/ZbkH4tgas74aXXw78+iuwfj2wfLm18HGAARpRaBjBIRIXUYFoaGDECPwMLYwoQQLiUQwDNNiBkeK4csTgHFLRCfm4Ctni2CQUYkTg79DeMA7o29e6JYTwun76CcjLA1JTYYiMwY7DkSioDkcpi0UcK0FKw2mMuLQW2tgooKKCF3PCXaqkxPyad+zgjwc4bj1BEN5Gr+fFihyBs2YN34vCyyxYAMyb53xcXBxQeM4A7euv8u0/LBVRWhrw1lv8oJZN5zp1Aq6+2mOf36wsYNo0c+slJdFo+BZiPvBv82lI3DhASXFjMACdO/OfOU/i7w+MHw88/LCCn2tLYXTsGLB1q7RGTwKBgcCNNwLDhvFfTkLHy+hoXmgAQGSk7W0aDYkMgrBHVhZ/15PyVW3Ze8rLGAxAQoJzMWClxXzcHGn5Nfnnn8Datcocd9484KWXlDlWe4bEjQOUFDfZ2cBoO82mpTBsGDBmjPme/+uvwJ499pshhoUBs2bxjYZV/7w7atEdHW0WKR7+9UQQHZKsLGDGDPsd211sNqo2znSZD2kxl1izBrjzTt5Q7ioxMfxXLH19OkfO/durXcHbOq62u4+LA5Yts/095Myz5LEPQHvtFEsQbZHMTN5ca/mD48IFn7d6Zmby1o2WuszRd2Bb4vbb+e/pO+90/RiWzeMJ5SDLjRvIsdw89hgwfLgPBSsSBEF4CB/3NrnNM88Ab7whbx8PxEG3O8gt5QBvxNykpgK5ue3rw0wQBEGYWbsWeOABabHfEycCn39O9wS5yLl/azw0p3aJVgu8847zcUuX0puYIAiiPTNhAh+KuGUL8M9/8haZiAjrMXFxwOrVwKpVdE9QG7LcKIC9FEEyOxIEQXRc2rs7ztOQW8oBaogbwDoQGPDpGD+CIAiCaHNQtpQX0Gr5tO4xY7w9E4IgCILo2FDMDUEQBEEQ7QoSNwRBEARBtCtI3BAEQRAE0a4gcUMQBEEQRLuCxA1BEARBEO0KEjcEQRAEQbQrSNwQBEEQBNGuIHFDEARBEES7gsQNQRAEQRDtig5XoVjoNlElpXUrQRAEQRA+gXDfltI1qsOJm+rqagBAWlqal2dCEARBEIRcqqurEdGy5XoLOlzjTKPRiPPnzyMsLAwcxyl67KqqKqSlpSE/P1/RppxtGbomraFr0hq6Jq2ha9Iauiat6UjXhDGG6upqJCcnQ6NxHFXT4Sw3Go0Gqampqp4jPDy83b/J5ELXpDV0TVpD16Q1dE1aQ9ekNR3lmjiz2AhQQDFBEARBEO0KEjcEQRAEQbQrSNwoSEBAAObNm4eAgABvT8VnoGvSGromraFr0hq6Jq2ha9Iauia26XABxQRBEARBtG/IckMQBEEQRLuCxA1BEARBEO0KEjcEQRAEQbQrSNwQBEEQBNGuIHGjEMuWLUN6ejoCAwMxbNgw7Nmzx9tT8hgvvfQSOI6zevTu3Vvc3tDQgMceewwxMTEIDQ3FbbfdhuLiYi/OWHl+/vln3HTTTUhOTgbHcVi/fr3VdsYY5s6di6SkJAQFBWHs2LE4efKk1Zjy8nLcc889CA8PR2RkJB544AHU1NR48FUoi7Nrct9997V631x33XVWY9rTNVm4cCH+9re/ISwsDPHx8bjllltw4sQJqzFSPit5eXm48cYbERwcjPj4eDz99NNobm725EtRDCnXZNSoUa3eJw8//LDVmPZ0TT744AMMGDBALMo3fPhwfP/99+L2jvYecRUSNwrw1VdfYdasWZg3bx7279+PgQMHYty4cSgpKfH21DxGv379UFhYKD5++eUXcduTTz6Jb775BmvWrMH27dtx/vx5ZGZmenG2ylNbW4uBAwdi2bJlNrcvWrQI77zzDj788EP89ttvCAkJwbhx49DQ0CCOueeee3D06FFs3rwZ3377LX7++WdMmzbNUy9BcZxdEwC47rrrrN43X375pdX29nRNtm/fjsceewy7d+/G5s2b0dTUhGuvvRa1tbXiGGefFYPBgBtvvBF6vR6//vorVq5ciRUrVmDu3LneeEluI+WaAMDUqVOt3ieLFi0St7W3a5KamorXX38d+/btw++//46rr74a48ePx9GjRwF0vPeIyzDCbYYOHcoee+wx8W+DwcCSk5PZwoULvTgrzzFv3jw2cOBAm9sqKiqYv78/W7Nmjbju+PHjDADbtWuXh2boWQCwr7/+WvzbaDSyxMRE9sYbb4jrKioqWEBAAPvyyy8ZY4wdO3aMAWB79+4Vx3z//feM4zhWUFDgsbmrRctrwhhjkydPZuPHj7e7T3u/JiUlJQwA2759O2NM2mflu+++YxqNhhUVFYljPvjgAxYeHs4aGxs9+wJUoOU1YYyxq666is2YMcPuPu39mjDGWFRUFPu///s/eo/IgCw3bqLX67Fv3z6MHTtWXKfRaDB27Fjs2rXLizPzLCdPnkRycjK6du2Ke+65B3l5eQCAffv2oampyer69O7dG506deow1ycnJwdFRUVW1yAiIgLDhg0Tr8GuXbsQGRmJIUOGiGPGjh0LjUaD3377zeNz9hTZ2dmIj49Hr1698Mgjj+DChQvitvZ+TSorKwEA0dHRAKR9Vnbt2oX+/fsjISFBHDNu3DhUVVWJv+zbMi2vicDnn3+O2NhYXHLJJZgzZw7q6urEbe35mhgMBqxatQq1tbUYPnw4vUdk0OEaZypNWVkZDAaD1RsJABISEvDnn396aVaeZdiwYVixYgV69eqFwsJCzJ8/HyNGjMCRI0dQVFQEnU6HyMhIq30SEhJQVFTknQl7GOF12nqPCNuKiooQHx9vtd3Pzw/R0dHt9jpdd911yMzMRJcuXXD69Gk8//zzuP7667Fr1y5otdp2fU2MRiNmzpyJK664ApdccgkASPqsFBUV2XwfCdvaMrauCQDcfffd6Ny5M5KTk3Ho0CE8++yzOHHiBLKysgC0z2ty+PBhDB8+HA0NDQgNDcXXX3+Nvn374sCBAx36PSIHEjeE21x//fXi8wEDBmDYsGHo3LkzVq9ejaCgIC/OjPBl7rzzTvF5//79MWDAAHTr1g3Z2dkYM2aMF2emPo899hiOHDliFZvW0bF3TSxjrPr374+kpCSMGTMGp0+fRrdu3Tw9TY/Qq1cvHDhwAJWVlVi7di0mT56M7du3e3tabQpyS7lJbGwstFptq2j14uJiJCYmemlW3iUyMhI9e/bEqVOnkJiYCL1ej4qKCqsxHen6CK/T0XskMTGxVQB6c3MzysvLO8x16tq1K2JjY3Hq1CkA7feaTJ8+Hd9++y22bduG1NRUcb2Uz0piYqLN95Gwra1i75rYYtiwYQBg9T5pb9dEp9Ohe/fuGDx4MBYuXIiBAwdi6dKlHfo9IhcSN26i0+kwePBgbN26VVxnNBqxdetWDB8+3Isz8x41NTU4ffo0kpKSMHjwYPj7+1tdnxMnTiAvL6/DXJ8uXbogMTHR6hpUVVXht99+E6/B8OHDUVFRgX379oljfvrpJxiNRvHLvL1z7tw5XLhwAUlJSQDa3zVhjGH69On4+uuv8dNPP6FLly5W26V8VoYPH47Dhw9bib7NmzcjPDwcffv29cwLURBn18QWBw4cAACr90l7uia2MBqNaGxs7JDvEZfxdkRze2DVqlUsICCArVixgh07doxNmzaNRUZGWkWrt2dmz57NsrOzWU5ODtu5cycbO3Ysi42NZSUlJYwxxh5++GHWqVMn9tNPP7Hff/+dDR8+nA0fPtzLs1aW6upq9scff7A//viDAWBvv/02++OPP9jZs2cZY4y9/vrrLDIykm3YsIEdOnSIjR8/nnXp0oXV19eLx7juuuvYoEGD2G+//cZ++eUX1qNHD3bXXXd56yW5jaNrUl1dzZ566im2a9culpOTw7Zs2cIuvfRS1qNHD9bQ0CAeoz1dk0ceeYRFRESw7OxsVlhYKD7q6urEMc4+K83NzeySSy5h1157LTtw4ADbtGkTi4uLY3PmzPHGS3IbZ9fk1KlTbMGCBez3339nOTk5bMOGDaxr165s5MiR4jHa2zV57rnn2Pbt21lOTg47dOgQe+655xjHcezHH39kjHW894irkLhRiHfffZd16tSJ6XQ6NnToULZ7925vT8ljTJw4kSUlJTGdTsdSUlLYxIkT2alTp8Tt9fX17NFHH2VRUVEsODiY3XrrraywsNCLM1aebdu2MQCtHpMnT2aM8engL774IktISGABAQFszJgx7MSJE1bHuHDhArvr/9u7f5DU3jiO4x9v1/7A6b9itdig0WJhY0NEgeAQtBQ0CBk4RAhCNARhW9AYtAVFY0NzNTm1VARFS4EQLVFUFJVL2HOnnxBd+l3urcyn9wuEcx7l+H0e9PA5nuccR0aM4zimpqbGxONxc39/X4TevI+3xiSXy5lIJGK8Xq9xu93G7/ebRCLx6oDApjH53VhIMisrK4XX/Ml35fT01ESjUVNVVWU8Ho+ZnJw0T09Pn9yb9/F/Y3J2dmZ6enpMQ0ODqaioMIFAwExNTZm7u7sX27FpTMbGxozf7zfl5eXG6/Wa/v7+QrAx5vt9Rv6WyxhjPu93IgAAgI/FnBsAAGAVwg0AALAK4QYAAFiFcAMAAKxCuAEAAFYh3AAAAKsQbgAAgFUINwBKyujoqAYHB4tdBoAvjH8FB/BluFyuN5+fnZ3VwsKCuPcogLcQbgB8Gefn54XltbU1pdNpHR8fF9ocx5HjOMUoDUAJ4bQUgC+jqamp8KitrZXL5XrR5jjOq9NSvb29SiaTSqVSqq+vl8/n09LSkh4fHxWPx1VdXa1AIKCNjY0X73V0dKRoNCrHceTz+RSLxXR1dfXJPQbwEQg3AEre6uqqPB6PdnZ2lEwmNT4+rqGhIXV3d2t/f1+RSESxWEy5XE6SdHt7q76+PoXDYe3t7Wlzc1MXFxcaHh4uck8AvAfCDYCS19nZqZmZGQWDQU1PT6uyslIej0eJRELBYFDpdFrX19c6PDyUJC0uLiocDmtubk7t7e0Kh8NaXl5WJpPRyclJkXsD4F8x5wZAyevo6Cgsl5WVqbGxUaFQqNDm8/kkSZeXl5Kkg4MDZTKZ387fyWazamtr++CKAXwkwg2Akud2u1+su1yuF23/XYX1/PwsSXp4eNDAwIDm5+dfbau5ufkDKwXwGQg3AL6drq4ura+vq7W1VT9/shsEbMOcGwDfzsTEhG5ubjQyMqLd3V1ls1ltbW0pHo8rn88XuzwA/4hwA+DbaWlp0fb2tvL5vCKRiEKhkFKplOrq6vTjB7tFoNS5DLf6BAAAFuEQBQAAWIVwAwAArEK4AQAAViHcAAAAqxBuAACAVQg3AADAKoQbAABgFcINAACwCuEGAABYhXADAACsQrgBAABWIdwAAACr/AKdhxe1ElMoDAAAAABJRU5ErkJggg==",
      "text/plain": [
       "<Figure size 640x480 with 1 Axes>"
      ]
     },
     "metadata": {},
     "output_type": "display_data"
    }
   ],
   "source": [
    "x = np.arange(0, len(left_z))\n",
    "x_left = x[left_food_contact == 1]\n",
    "x_right = x[right_food_contact == 1]\n",
    "\n",
    "plt.plot(x, corrected_left_z, label='left')\n",
    "plt.plot(x, corrected_right_z, label='right')\n",
    "plt.plot(x_left, corrected_left_z[left_food_contact == 1], 'ro', label='left contact')\n",
    "plt.plot(x_right, corrected_right_z[right_food_contact == 1], 'bo', label='right contact')\n",
    "\n",
    "plt.xlabel('Time')\n",
    "plt.ylabel('Position')\n",
    "plt.title('Foot position')\n",
    "plt.legend()\n",
    "\n",
    "plt.show()"
   ]
  },
  {
   "cell_type": "code",
   "execution_count": 446,
   "metadata": {},
   "outputs": [
    {
     "data": {
      "text/plain": [
       "array([1., 1., 1., 1., 1., 1., 1., 1., 1., 1., 1., 1., 1., 1., 1., 1., 1.,\n",
       "       1., 1., 1., 1., 1., 1., 1., 1., 1., 1., 1., 1., 1., 1., 1., 1., 1.,\n",
       "       1., 1., 1., 1., 1., 1., 1., 1., 1., 1., 1., 1., 1., 1., 1., 1., 1.,\n",
       "       1., 1., 1., 1., 1., 1., 1., 1., 1., 1., 1., 1., 1., 1., 1., 1., 1.,\n",
       "       1., 1., 1., 1., 1., 1., 1., 1., 1., 1., 1., 1., 1., 1., 1., 1., 1.,\n",
       "       1., 1., 1., 1., 1., 1., 1., 1., 1., 1., 1., 1., 1., 1., 1., 1., 1.,\n",
       "       1., 1., 1., 1., 1., 1., 1., 1., 1., 1., 1., 1., 1., 1., 1., 1., 1.,\n",
       "       1., 1., 1., 1., 1., 1., 1., 1., 1., 1., 1., 1., 1., 1., 1., 1., 1.,\n",
       "       1., 1., 1., 1., 1., 1., 0., 0., 0., 0., 0., 0., 0., 0., 0., 0., 0.,\n",
       "       0., 0., 0., 0., 0., 0., 0., 0., 0., 0., 0., 0., 0., 0., 0., 0., 0.,\n",
       "       0., 0., 0., 0., 0., 0., 0., 0., 0., 1., 1., 1., 1., 1., 1., 1., 1.,\n",
       "       1., 1., 1., 1., 1., 1., 1., 1., 1., 1., 1., 1., 1., 1., 1., 1., 1.,\n",
       "       1., 1., 1., 1., 1., 1., 1., 1., 1., 1., 0., 0., 0., 0., 0., 0., 0.,\n",
       "       0., 0., 0., 0., 0., 0., 0., 0., 0., 0., 0., 0., 0., 0., 0., 0., 0.,\n",
       "       0., 0., 0., 0., 0., 0., 0., 0., 0., 1., 1., 1., 1., 1., 1., 1., 1.,\n",
       "       1., 1., 1., 1., 1., 1., 1., 1., 1., 1., 1., 1., 1., 1., 1., 1., 1.,\n",
       "       1., 1., 1., 1., 1., 1., 1., 1., 1., 1., 1., 1., 1., 1., 1., 1., 1.,\n",
       "       1., 1., 1., 1., 1., 1., 1., 1., 1., 1., 1., 1., 1., 1., 1., 1., 1.,\n",
       "       1., 1., 1., 1., 1., 1., 1., 1., 1., 1., 1., 1., 1., 1., 1., 1., 1.,\n",
       "       1., 1., 1., 1., 1., 1.], dtype=float32)"
      ]
     },
     "execution_count": 446,
     "metadata": {},
     "output_type": "execute_result"
    }
   ],
   "source": [
    "left_food_contact"
   ]
  },
  {
   "cell_type": "code",
   "execution_count": 447,
   "metadata": {},
   "outputs": [
    {
     "data": {
      "text/plain": [
       "array([1., 1., 1., 1., 1., 1., 1., 1., 1., 1., 1., 1., 1., 1., 1., 1., 1.,\n",
       "       1., 1., 1., 1., 1., 1., 1., 1., 1., 1., 1., 1., 1., 1., 1., 1., 1.,\n",
       "       1., 1., 1., 1., 1., 1., 1., 1., 1., 1., 1., 1., 1., 1., 1., 1., 1.,\n",
       "       1., 1., 1., 1., 1., 1., 1., 1., 1., 1., 1., 1., 1., 1., 1., 1., 1.,\n",
       "       1., 1., 1., 1., 1., 1., 1., 1., 1., 1., 1., 1., 1., 1., 1., 1., 1.,\n",
       "       1., 1., 1., 1., 1., 1., 1., 1., 1., 1., 1., 1., 1., 1., 1., 1., 1.,\n",
       "       1., 1., 1., 1., 1., 1., 1., 1., 1., 1., 1., 0., 0., 0., 0., 0., 0.,\n",
       "       0., 0., 0., 0., 0., 0., 0., 0., 0., 0., 0., 0., 0., 0., 0., 0., 0.,\n",
       "       0., 0., 0., 0., 0., 1., 1., 1., 1., 1., 1., 1., 1., 1., 1., 1., 1.,\n",
       "       1., 1., 1., 1., 1., 1., 1., 1., 1., 1., 1., 1., 1., 1., 1., 1., 1.,\n",
       "       1., 1., 1., 1., 1., 1., 1., 1., 1., 1., 0., 0., 0., 0., 0., 0., 0.,\n",
       "       0., 0., 0., 0., 0., 0., 0., 0., 0., 0., 0., 0., 0., 0., 0., 0., 0.,\n",
       "       0., 0., 0., 0., 0., 0., 0., 0., 0., 1., 1., 1., 1., 1., 1., 1., 1.,\n",
       "       1., 1., 1., 1., 1., 1., 1., 1., 1., 1., 1., 1., 1., 1., 1., 1., 1.,\n",
       "       1., 1., 1., 1., 1., 1., 1., 1., 1., 1., 0., 0., 0., 0., 0., 0., 0.,\n",
       "       0., 0., 0., 0., 0., 0., 0., 0., 0., 0., 0., 0., 0., 0., 0., 0., 0.,\n",
       "       0., 0., 1., 1., 1., 1., 1., 1., 1., 1., 1., 1., 1., 1., 1., 1., 1.,\n",
       "       1., 1., 1., 1., 1., 1., 1., 1., 1., 1., 1., 1., 1., 1., 1., 1., 1.,\n",
       "       1., 1., 1., 1., 1., 1., 1., 1., 1., 1., 1., 1., 1., 1., 1., 1., 1.,\n",
       "       1., 1., 1., 1., 1., 1.], dtype=float32)"
      ]
     },
     "execution_count": 447,
     "metadata": {},
     "output_type": "execute_result"
    }
   ],
   "source": [
    "right_food_contact"
   ]
  },
  {
   "cell_type": "code",
   "execution_count": 432,
   "metadata": {},
   "outputs": [],
   "source": [
    "def label_contact(left_ankle_poses, right_ankle_poses, threshold = 0.002):\n",
    "    \n",
    "    left_z = left_ankle_poses[:,2]\n",
    "    right_z = right_ankle_poses[:,2]\n",
    "\n",
    "    left_flat_positions = find_flat_segments(left_z)\n",
    "    right_flat_positions = find_flat_segments(right_z)\n",
    "\n",
    "    mean_left_z = np.mean(left_z[left_flat_positions])\n",
    "    corrected_left_z = left_z - mean_left_z \n",
    "\n",
    "    mean_right_z = np.mean(right_z[right_flat_positions])\n",
    "    corrected_right_z = right_z - mean_right_z\n",
    "\n",
    "    left_foot_contact = np.zeros_like(left_z)\n",
    "    right_foot_contact = np.zeros_like(right_z)\n",
    "\n",
    "    diff = corrected_left_z - corrected_right_z\n",
    "    left_foot_contact[np.abs(diff) < threshold] = 1\n",
    "    right_foot_contact[np.abs(diff) < threshold] = 1\n",
    "\n",
    "    left_foot_contact[diff >= threshold] = 0\n",
    "    right_foot_contact[diff >= threshold] = 1\n",
    "\n",
    "    left_foot_contact[diff <= -threshold] = 1\n",
    "    right_foot_contact[diff <= -threshold] = 0\n",
    "\n",
    "    return left_foot_contact, right_foot_contact"
   ]
  },
  {
   "cell_type": "code",
   "execution_count": 433,
   "metadata": {},
   "outputs": [],
   "source": [
    "left_foot_contact, right_foot_contact = label_contact(left_ankle_poses, right_ankle_poses)"
   ]
  },
  {
   "cell_type": "code",
   "execution_count": 434,
   "metadata": {},
   "outputs": [
    {
     "data": {
      "text/plain": [
       "array([1., 1., 1., 1., 1., 1., 1., 1., 1., 1., 1., 1., 1., 1., 1., 1., 1.,\n",
       "       1., 1., 1., 1., 1., 1., 1., 1., 1., 1., 1., 1., 1., 1., 1., 1., 1.,\n",
       "       1., 1., 1., 1., 1., 1., 1., 1., 1., 1., 1., 1., 1., 1., 1., 1., 1.,\n",
       "       1., 1., 1., 1., 1., 1., 1., 1., 1., 1., 1., 1., 1., 1., 1., 1., 1.,\n",
       "       1., 1., 1., 1., 1., 1., 1., 1., 1., 1., 1., 1., 1., 1., 1., 1., 1.,\n",
       "       1., 1., 1., 1., 1., 1., 1., 1., 1., 1., 1., 1., 1., 1., 1., 1., 1.,\n",
       "       1., 1., 1., 1., 1., 1., 1., 1., 1., 1., 1., 1., 1., 1., 1., 1., 1.,\n",
       "       1., 1., 1., 1., 1., 1., 1., 1., 1., 1., 1., 1., 1., 1., 1., 1., 1.,\n",
       "       1., 1., 1., 1., 1., 1., 0., 0., 0., 0., 0., 0., 0., 0., 0., 0., 0.,\n",
       "       0., 0., 0., 0., 0., 0., 0., 0., 0., 0., 0., 0., 0., 0., 0., 0., 0.,\n",
       "       0., 0., 0., 0., 0., 0., 0., 0., 0., 0., 1., 1., 1., 1., 1., 1., 1.,\n",
       "       1., 1., 1., 1., 1., 1., 1., 1., 1., 1., 1., 1., 1., 1., 1., 1., 1.,\n",
       "       1., 1., 1., 1., 1., 1., 1., 1., 1., 1., 0., 0., 0., 0., 0., 0., 0.,\n",
       "       0., 0., 0., 0., 0., 0., 0., 0., 0., 0., 0., 0., 0., 0., 0., 0., 0.,\n",
       "       0., 0., 0., 0., 0., 0., 0., 0., 0., 1., 1., 1., 1., 1., 1., 1., 1.,\n",
       "       1., 1., 1., 1., 1., 1., 1., 1., 1., 1., 1., 1., 1., 1., 1., 1., 1.,\n",
       "       1., 1., 1., 1., 1., 1., 1., 0., 1., 1., 1., 1., 1., 1., 1., 1., 1.,\n",
       "       1., 1., 1., 1., 1., 1., 1., 1., 1., 1., 1., 1., 1., 1., 1., 1., 1.,\n",
       "       1., 1., 1., 1., 1., 1., 1., 1., 1., 1., 1., 1., 1., 1., 1., 1., 1.,\n",
       "       1., 1., 1., 1., 1., 1.], dtype=float32)"
      ]
     },
     "execution_count": 434,
     "metadata": {},
     "output_type": "execute_result"
    }
   ],
   "source": [
    "left_foot_contact"
   ]
  },
  {
   "cell_type": "code",
   "execution_count": 435,
   "metadata": {},
   "outputs": [
    {
     "data": {
      "text/plain": [
       "array([0., 0., 0., 0., 0., 0., 0., 0., 0., 0., 0., 0., 0., 0., 0., 0., 0.,\n",
       "       0., 0., 0., 0., 0., 0., 0., 0., 0., 0., 0., 0., 0., 0., 0., 0., 0.,\n",
       "       0., 0., 0., 0., 0., 0., 0., 0., 0., 0., 0., 0., 0., 0., 0., 0., 0.,\n",
       "       0., 0., 0., 0., 0., 0., 0., 0., 0., 0., 0., 0., 0., 0., 0., 0., 0.,\n",
       "       0., 0., 0., 0., 0., 0., 0., 0., 0., 0., 0., 0., 0., 0., 0., 0., 0.,\n",
       "       0., 0., 0., 0., 0., 0., 0., 1., 1., 1., 1., 1., 1., 1., 1., 1., 1.,\n",
       "       1., 1., 1., 1., 1., 1., 1., 1., 1., 0., 0., 0., 0., 0., 0., 0., 0.,\n",
       "       0., 0., 0., 0., 0., 0., 0., 0., 0., 0., 0., 0., 0., 0., 0., 0., 0.,\n",
       "       0., 0., 0., 0., 0., 1., 1., 1., 1., 1., 1., 1., 1., 1., 1., 1., 1.,\n",
       "       1., 1., 1., 1., 1., 1., 1., 1., 1., 1., 1., 1., 1., 1., 1., 1., 1.,\n",
       "       1., 1., 1., 1., 1., 1., 1., 1., 1., 1., 0., 0., 0., 0., 0., 0., 0.,\n",
       "       0., 0., 0., 0., 0., 0., 0., 0., 0., 0., 0., 0., 0., 0., 0., 0., 0.,\n",
       "       0., 0., 0., 0., 0., 0., 0., 0., 0., 1., 1., 1., 1., 1., 1., 1., 1.,\n",
       "       1., 1., 1., 1., 1., 1., 1., 1., 1., 1., 1., 1., 1., 1., 1., 1., 1.,\n",
       "       1., 1., 1., 1., 1., 1., 1., 1., 1., 1., 0., 0., 0., 0., 0., 0., 0.,\n",
       "       0., 0., 0., 0., 0., 0., 0., 0., 0., 0., 0., 0., 0., 0., 0., 0., 0.,\n",
       "       0., 0., 0., 1., 1., 1., 1., 1., 1., 1., 1., 1., 1., 1., 1., 1., 1.,\n",
       "       1., 1., 1., 1., 1., 1., 1., 1., 1., 1., 1., 1., 1., 1., 1., 1., 1.,\n",
       "       1., 1., 0., 0., 1., 1., 1., 1., 1., 1., 1., 1., 1., 0., 0., 0., 0.,\n",
       "       0., 0., 0., 0., 0., 0.], dtype=float32)"
      ]
     },
     "execution_count": 435,
     "metadata": {},
     "output_type": "execute_result"
    }
   ],
   "source": [
    "right_foot_contact"
   ]
  },
  {
   "cell_type": "code",
   "execution_count": 66,
   "metadata": {},
   "outputs": [
    {
     "name": "stdout",
     "output_type": "stream",
     "text": [
      "tensor(-6.7055e-08)\n",
      "tensor(7.4506e-09)\n",
      "tensor(7.4506e-09)\n",
      "tensor(1.4901e-08)\n",
      "tensor(-7.4506e-09)\n",
      "tensor(-2.2352e-08)\n",
      "tensor(-2.9802e-08)\n",
      "tensor(-8.1956e-08)\n",
      "tensor(-7.4506e-09)\n",
      "tensor(2.2352e-08)\n",
      "tensor(-7.4506e-09)\n",
      "tensor(1.4901e-08)\n",
      "tensor(-2.2352e-08)\n",
      "tensor(-1.4901e-08)\n",
      "tensor(2.2352e-08)\n",
      "tensor(-1.4901e-08)\n",
      "tensor(-7.4506e-09)\n",
      "tensor(-5.2154e-08)\n",
      "tensor(-3.7253e-08)\n",
      "tensor(5.2154e-08)\n",
      "tensor(0.)\n",
      "tensor(0.)\n",
      "tensor(-7.4506e-09)\n",
      "tensor(0.)\n",
      "tensor(-2.9802e-08)\n",
      "tensor(-1.4901e-08)\n",
      "tensor(7.4506e-09)\n",
      "tensor(4.4703e-08)\n",
      "tensor(0.)\n",
      "tensor(7.4506e-09)\n",
      "tensor(-7.4506e-09)\n",
      "tensor(2.2352e-08)\n",
      "tensor(-2.2352e-08)\n",
      "tensor(2.2352e-08)\n",
      "tensor(8.1956e-08)\n",
      "tensor(2.2352e-08)\n",
      "tensor(7.4506e-09)\n",
      "tensor(-3.7253e-08)\n",
      "tensor(-1.4901e-08)\n",
      "tensor(-1.4901e-08)\n",
      "tensor(-1.4901e-08)\n",
      "tensor(-7.4506e-09)\n",
      "tensor(1.4901e-08)\n",
      "tensor(1.4901e-08)\n",
      "tensor(2.9802e-08)\n",
      "tensor(-3.7253e-08)\n",
      "tensor(1.4901e-08)\n",
      "tensor(-8.1956e-08)\n",
      "tensor(2.2352e-08)\n",
      "tensor(7.4506e-09)\n",
      "tensor(-2.2352e-08)\n",
      "tensor(-7.4506e-09)\n",
      "tensor(-7.4506e-09)\n",
      "tensor(-2.2352e-08)\n",
      "tensor(7.4506e-09)\n",
      "tensor(-6.7055e-08)\n",
      "tensor(2.9802e-08)\n",
      "tensor(2.2352e-08)\n",
      "tensor(1.4901e-08)\n",
      "tensor(8.9407e-08)\n",
      "tensor(3.7253e-08)\n",
      "tensor(0.)\n",
      "tensor(-2.2352e-08)\n",
      "tensor(-7.4506e-09)\n",
      "tensor(0.)\n",
      "tensor(-5.2154e-08)\n",
      "tensor(-2.9802e-08)\n",
      "tensor(2.2352e-08)\n",
      "tensor(0.)\n",
      "tensor(4.4703e-08)\n",
      "tensor(2.9802e-08)\n",
      "tensor(-2.2352e-08)\n",
      "tensor(7.4506e-09)\n",
      "tensor(-1.4901e-08)\n",
      "tensor(0.)\n",
      "tensor(5.2154e-08)\n",
      "tensor(-2.2352e-08)\n",
      "tensor(-2.2352e-08)\n",
      "tensor(1.4901e-08)\n",
      "tensor(-1.4901e-08)\n",
      "tensor(2.2352e-08)\n",
      "tensor(-1.4901e-08)\n",
      "tensor(2.2352e-08)\n",
      "tensor(-2.2352e-08)\n",
      "tensor(-2.2352e-08)\n",
      "tensor(-1.4901e-08)\n",
      "tensor(-7.4506e-09)\n",
      "tensor(-5.9605e-08)\n",
      "tensor(2.9802e-08)\n",
      "tensor(-2.9802e-08)\n",
      "tensor(-7.4506e-09)\n",
      "tensor(0.)\n",
      "tensor(2.9802e-08)\n",
      "tensor(-2.2352e-08)\n",
      "tensor(-7.4506e-09)\n",
      "tensor(-7.4506e-09)\n",
      "tensor(5.9605e-08)\n",
      "tensor(2.2352e-08)\n",
      "tensor(-2.9802e-08)\n",
      "tensor(2.2352e-08)\n",
      "tensor(7.4506e-09)\n",
      "tensor(-1.4901e-08)\n",
      "tensor(-5.2154e-08)\n",
      "tensor(0.)\n",
      "tensor(2.9802e-08)\n",
      "tensor(7.4506e-09)\n",
      "tensor(-6.7055e-08)\n",
      "tensor(-1.4901e-08)\n",
      "tensor(0.)\n",
      "tensor(-1.4901e-08)\n",
      "tensor(-2.2352e-08)\n",
      "tensor(-4.4703e-08)\n",
      "tensor(-2.2352e-08)\n",
      "tensor(2.2352e-08)\n",
      "tensor(-6.7055e-08)\n",
      "tensor(-2.2352e-08)\n",
      "tensor(-1.4901e-08)\n",
      "tensor(1.4901e-08)\n",
      "tensor(-7.4506e-09)\n",
      "tensor(5.2154e-08)\n",
      "tensor(5.2154e-08)\n",
      "tensor(-7.4506e-09)\n",
      "tensor(-2.9802e-08)\n",
      "tensor(-1.4901e-08)\n",
      "tensor(-2.9802e-08)\n",
      "tensor(-1.4901e-08)\n",
      "tensor(-7.4506e-09)\n",
      "tensor(7.4506e-09)\n",
      "tensor(2.2352e-08)\n",
      "tensor(8.1956e-08)\n",
      "tensor(-1.4901e-08)\n",
      "tensor(-7.4506e-08)\n",
      "tensor(-1.4901e-08)\n",
      "tensor(-5.2154e-08)\n",
      "tensor(6.7055e-08)\n",
      "tensor(3.7253e-08)\n",
      "tensor(-7.4506e-09)\n",
      "tensor(-1.4901e-08)\n",
      "tensor(-4.4703e-08)\n",
      "tensor(-2.2352e-08)\n",
      "tensor(1.4901e-08)\n",
      "tensor(-2.9802e-08)\n",
      "tensor(0.)\n",
      "tensor(2.9802e-08)\n",
      "tensor(-6.7055e-08)\n",
      "tensor(-2.2352e-08)\n",
      "tensor(-1.4901e-08)\n",
      "tensor(5.9605e-08)\n",
      "tensor(-1.4901e-08)\n",
      "tensor(7.4506e-08)\n",
      "tensor(2.9802e-08)\n",
      "tensor(-2.2352e-08)\n",
      "tensor(1.4901e-08)\n",
      "tensor(-4.4703e-08)\n",
      "tensor(-5.9605e-08)\n",
      "tensor(4.4703e-08)\n",
      "tensor(2.2352e-08)\n",
      "tensor(0.)\n",
      "tensor(-2.9802e-08)\n",
      "tensor(0.)\n",
      "tensor(7.4506e-09)\n",
      "tensor(7.4506e-09)\n",
      "tensor(7.4506e-09)\n",
      "tensor(0.)\n",
      "tensor(-2.9802e-08)\n",
      "tensor(4.4703e-08)\n",
      "tensor(7.4506e-09)\n",
      "tensor(8.1956e-08)\n",
      "tensor(3.7253e-08)\n",
      "tensor(7.4506e-09)\n",
      "tensor(0.)\n",
      "tensor(-7.4506e-09)\n",
      "tensor(-2.2352e-08)\n",
      "tensor(2.9802e-08)\n",
      "tensor(-7.4506e-08)\n",
      "tensor(7.4506e-09)\n",
      "tensor(1.4901e-08)\n",
      "tensor(7.4506e-09)\n",
      "tensor(-2.2352e-08)\n",
      "tensor(5.2154e-08)\n",
      "tensor(2.9802e-08)\n",
      "tensor(-5.9605e-08)\n",
      "tensor(-2.2352e-08)\n",
      "tensor(-1.4901e-08)\n",
      "tensor(0.)\n",
      "tensor(-1.4901e-08)\n",
      "tensor(2.9802e-08)\n",
      "tensor(0.)\n",
      "tensor(-1.4901e-08)\n",
      "tensor(-8.1956e-08)\n",
      "tensor(-1.4901e-08)\n",
      "tensor(0.)\n",
      "tensor(-7.4506e-08)\n",
      "tensor(1.4901e-08)\n",
      "tensor(8.9407e-08)\n",
      "tensor(2.9802e-08)\n",
      "tensor(1.4901e-08)\n",
      "tensor(-7.4506e-09)\n",
      "tensor(-1.4901e-08)\n",
      "tensor(-7.4506e-08)\n",
      "tensor(2.9802e-08)\n",
      "tensor(0.)\n",
      "tensor(0.)\n",
      "tensor(-1.4901e-08)\n",
      "tensor(2.2352e-08)\n",
      "tensor(3.7253e-08)\n",
      "tensor(-1.4901e-08)\n",
      "tensor(-2.9802e-08)\n",
      "tensor(0.)\n",
      "tensor(-5.9605e-08)\n",
      "tensor(-2.9802e-08)\n",
      "tensor(-2.9802e-08)\n",
      "tensor(-2.2352e-08)\n",
      "tensor(1.4901e-08)\n",
      "tensor(1.4901e-08)\n",
      "tensor(-8.9407e-08)\n",
      "tensor(-2.2352e-08)\n",
      "tensor(-7.4506e-08)\n",
      "tensor(2.2352e-08)\n",
      "tensor(-1.4901e-08)\n",
      "tensor(1.4901e-08)\n",
      "tensor(-7.4506e-08)\n",
      "tensor(4.4703e-08)\n",
      "tensor(5.2154e-08)\n",
      "tensor(2.9802e-08)\n",
      "tensor(7.4506e-08)\n",
      "tensor(-2.2352e-08)\n",
      "tensor(-1.4901e-08)\n",
      "tensor(1.4901e-08)\n",
      "tensor(1.4901e-08)\n",
      "tensor(5.9605e-08)\n",
      "tensor(1.4901e-08)\n",
      "tensor(-2.2352e-08)\n",
      "tensor(1.4901e-08)\n",
      "tensor(0.)\n",
      "tensor(-4.4703e-08)\n",
      "tensor(-1.4901e-08)\n",
      "tensor(1.4901e-08)\n",
      "tensor(-2.2352e-08)\n",
      "tensor(2.9802e-08)\n",
      "tensor(-7.4506e-08)\n",
      "tensor(2.9802e-08)\n",
      "tensor(-2.2352e-08)\n",
      "tensor(-6.7055e-08)\n",
      "tensor(-2.9802e-08)\n",
      "tensor(7.4506e-09)\n",
      "tensor(-3.7253e-08)\n",
      "tensor(0.)\n",
      "tensor(7.4506e-09)\n",
      "tensor(-1.4901e-08)\n",
      "tensor(7.4506e-09)\n",
      "tensor(2.2352e-08)\n",
      "tensor(-2.2352e-08)\n",
      "tensor(-1.4901e-08)\n",
      "tensor(7.4506e-09)\n",
      "tensor(2.9802e-08)\n",
      "tensor(0.)\n",
      "tensor(-7.4506e-09)\n",
      "tensor(-7.4506e-08)\n",
      "tensor(5.2154e-08)\n",
      "tensor(-7.4506e-09)\n",
      "tensor(7.4506e-09)\n",
      "tensor(-5.9605e-08)\n",
      "tensor(-7.4506e-08)\n",
      "tensor(-2.2352e-08)\n",
      "tensor(-7.4506e-09)\n",
      "tensor(7.4506e-09)\n",
      "tensor(8.1956e-08)\n",
      "tensor(-7.4506e-08)\n",
      "tensor(2.2352e-08)\n",
      "tensor(3.7253e-08)\n",
      "tensor(-1.4901e-08)\n",
      "tensor(2.2352e-08)\n",
      "tensor(-5.9605e-08)\n",
      "tensor(-2.2352e-08)\n",
      "tensor(-2.2352e-08)\n",
      "tensor(-7.4506e-09)\n",
      "tensor(0.)\n",
      "tensor(2.2352e-08)\n",
      "tensor(-1.4901e-08)\n",
      "tensor(1.4901e-08)\n",
      "tensor(2.2352e-08)\n",
      "tensor(0.)\n",
      "tensor(-7.4506e-08)\n",
      "tensor(-1.4901e-08)\n",
      "tensor(-6.7055e-08)\n",
      "tensor(-4.4703e-08)\n",
      "tensor(-2.2352e-08)\n",
      "tensor(1.4901e-08)\n",
      "tensor(1.4901e-08)\n",
      "tensor(-1.4901e-08)\n",
      "tensor(-1.4901e-08)\n",
      "tensor(7.4506e-09)\n",
      "tensor(-2.2352e-08)\n",
      "tensor(1.4901e-08)\n",
      "tensor(7.4506e-09)\n",
      "tensor(0.)\n",
      "tensor(5.9605e-08)\n",
      "tensor(2.2352e-08)\n",
      "tensor(-1.4901e-08)\n",
      "tensor(3.7253e-08)\n",
      "tensor(2.2352e-08)\n",
      "tensor(-7.4506e-09)\n",
      "tensor(-7.4506e-09)\n",
      "tensor(-2.2352e-08)\n",
      "tensor(2.9802e-08)\n",
      "tensor(5.9605e-08)\n",
      "tensor(-5.9605e-08)\n",
      "tensor(-1.4901e-08)\n",
      "tensor(8.1956e-08)\n",
      "tensor(7.4506e-08)\n",
      "tensor(0.)\n",
      "tensor(0.)\n",
      "tensor(-1.4901e-08)\n",
      "tensor(-2.9802e-08)\n",
      "tensor(-1.4901e-08)\n",
      "tensor(-2.9802e-08)\n",
      "tensor(-2.9802e-08)\n",
      "tensor(0.)\n",
      "tensor(-2.2352e-08)\n",
      "tensor(-1.4901e-08)\n",
      "tensor(1.4901e-08)\n",
      "tensor(-7.4506e-09)\n",
      "tensor(2.2352e-08)\n",
      "tensor(7.4506e-09)\n",
      "tensor(-2.2352e-08)\n",
      "tensor(-2.9802e-08)\n",
      "tensor(0.)\n",
      "tensor(1.4901e-08)\n"
     ]
    }
   ],
   "source": [
    "root_pos = adam_pose[\"new_root_poses\"]\n",
    "root_rot = adam_pose[\"root_rot\"]\n",
    "root_vel = adam_pose[\"root_vel\"]\n",
    "root_angular_vel = adam_pose[\"root_angular_vel\"]\n",
    "dof_pos = adam_pose[\"dof_pos\"]\n",
    "dof_vel = adam_pose[\"dof_vel\"]\n",
    "\n",
    "frame_num = len(root_pos)\n",
    "\n",
    "root_states = torch.cat([torch.from_numpy(root_pos), torch.from_numpy(root_rot), torch.from_numpy(root_vel), torch.from_numpy(root_angular_vel)], dim=1).type(torch.float32)\n",
    "dof_states = torch.stack([torch.from_numpy(dof_pos), torch.from_numpy(dof_vel)],axis=2).type(torch.float32)\n",
    "rigid_body_states = []\n",
    "\n",
    "# Simulate\n",
    "new_root_poses = []\n",
    "\n",
    "for i in range(frame_num):\n",
    "\n",
    "    gym.set_actor_root_state_tensor(sim, gymtorch.unwrap_tensor(root_states[i]))\n",
    "    gym.set_dof_state_tensor(sim, gymtorch.unwrap_tensor(dof_states[i]))\n",
    "    gym.refresh_rigid_body_state_tensor(sim)\n",
    "    rigid_body_state = gym.acquire_rigid_body_state_tensor(sim)\n",
    "    rigid_body_state = gymtorch.wrap_tensor(rigid_body_state)\n",
    "    left_foot_poses = rigid_body_state[left_foot_indices, 0:3]\n",
    "    right_foot_poses = rigid_body_state[right_foot_indices, 0:3]\n",
    "    print(torch.min(torch.cat([left_foot_poses, right_foot_poses])[:,2]))"
   ]
  },
  {
   "cell_type": "code",
   "execution_count": 451,
   "metadata": {},
   "outputs": [],
   "source": [
    "adam_poses = joblib.load(\"/home/jianrenw/MAP/data/isaac_adam_standard_walk.pt\")\n",
    "key = 'BioMotionLab_NTroje_rub032_0027_circle_walk_poses'\n",
    "adam_pose = adam_poses[key]\n",
    "\n",
    "root_pos = adam_pose[\"root_pos\"]\n",
    "root_rot = adam_pose[\"root_rot\"]\n",
    "root_vel = adam_pose[\"root_vel\"]\n",
    "root_angular_vel = adam_pose[\"root_angular_vel\"]\n",
    "dof_pos = adam_pose[\"dof_pos\"]\n",
    "dof_vel = adam_pose[\"dof_vel\"]\n",
    "body_pos = adam_pose[\"body_pos\"]\n",
    "left_foot_contact = adam_pose[\"left_foot_contact\"]\n",
    "right_foot_contact = adam_pose[\"right_foot_contact\"]\n",
    "dt = adam_pose[\"dt\"] \n"
   ]
  },
  {
   "cell_type": "code",
   "execution_count": 452,
   "metadata": {},
   "outputs": [
    {
     "data": {
      "text/plain": [
       "array([1., 1., 1., 1., 1., 1., 0., 0., 0., 0., 0., 0., 0., 0., 0., 0., 0.,\n",
       "       0., 0., 0., 0., 0., 0., 0., 0., 0., 0., 0., 0., 0., 0., 0., 0., 0.,\n",
       "       0., 0., 0., 0., 1., 1., 1., 1., 1., 1., 1., 1., 1., 1., 1., 1., 1.,\n",
       "       1., 1., 1., 1., 1., 1., 1., 1., 1., 1., 1., 1., 1., 1., 1., 1., 1.,\n",
       "       1., 1., 1., 0., 0., 0., 0., 0., 0., 0., 0., 0., 0., 0., 0., 0., 0.,\n",
       "       0., 0., 0., 0., 0., 0., 0., 0., 0., 0., 0., 0., 0., 0., 0., 0., 0.,\n",
       "       0., 0., 1., 1., 1., 1., 1., 1., 1., 1., 1., 1., 1., 1., 1., 1., 1.,\n",
       "       1., 1., 1., 1., 1., 1., 1., 1., 1., 1., 1., 1., 1., 1., 1., 1., 1.,\n",
       "       1., 1., 1., 0., 0., 0., 0., 0., 0., 0., 0., 0., 0., 0., 0., 0., 0.,\n",
       "       0., 0., 0., 0., 0., 0., 0., 0., 0., 0., 0., 0., 0., 0., 0., 0., 0.,\n",
       "       0., 1., 1., 1., 1., 1., 1., 1., 1., 1., 1., 1., 1., 1., 1., 1., 1.,\n",
       "       1., 1., 1., 1., 1., 1., 1., 1., 1., 1., 1., 1., 1., 1., 1., 1., 1.,\n",
       "       1., 0., 0., 0., 0., 0., 0., 0., 0., 0., 0., 0., 0., 0., 0., 0., 0.,\n",
       "       0., 0., 0., 0., 0., 0., 0., 0., 0., 0., 0., 0., 0., 0., 0., 0., 0.,\n",
       "       1., 1., 1., 1., 1., 1., 1., 1., 1., 1., 1., 1., 1., 1., 1., 1., 1.,\n",
       "       1., 1., 1., 1., 1., 1., 1., 1., 1., 1., 1., 1., 1., 1., 1., 0., 0.,\n",
       "       0., 0., 0., 0., 0., 0., 0., 0., 0., 0., 0., 0., 0., 0., 0., 0., 0.,\n",
       "       0., 0., 0., 0., 0., 0., 0., 0., 0., 0., 0., 0., 0., 0., 0., 0., 1.,\n",
       "       1., 1., 1., 1., 1., 1., 1., 1., 1., 1., 1., 1., 1., 1., 1., 1., 1.,\n",
       "       1., 1., 1., 1., 1., 1., 1., 1., 1., 1., 1., 1., 1., 0., 0., 0., 0.,\n",
       "       0., 0., 0., 0., 0., 0., 0., 0., 0., 0., 0., 0., 0., 0., 0., 0., 0.,\n",
       "       0., 0., 0., 0., 0., 0., 0., 0., 0., 0., 0., 0., 0., 0., 1., 1., 1.,\n",
       "       1., 1., 1., 1., 1., 1., 1., 1., 1., 1., 1., 1., 1., 1., 1., 1., 1.,\n",
       "       1., 1., 1., 1., 1., 1., 1., 1., 1., 1., 0., 0., 0., 0., 0., 0., 0.,\n",
       "       0., 0., 0., 0., 0., 0., 0., 0., 0., 0., 0., 0., 0., 0., 0., 0., 0.,\n",
       "       0., 0., 0., 0., 0., 0., 0., 0., 0., 0., 0., 1., 1., 1., 1., 1., 1.,\n",
       "       1., 1., 1., 1., 1., 1., 1., 1., 1., 1., 1., 1., 1., 1., 1., 1., 1.,\n",
       "       1., 1., 1., 1., 1., 1., 1., 1., 1., 0., 0., 0., 0., 0., 0., 0., 0.,\n",
       "       0., 0., 0., 0., 0., 0., 0., 0., 0., 0., 0., 0., 0., 0., 0., 0., 0.,\n",
       "       0., 0., 0., 0., 0., 0., 0., 0., 1., 1., 1., 1., 1., 1., 1., 1., 1.,\n",
       "       1., 1., 1., 1., 1., 1., 1., 1., 1., 1., 1., 1., 1., 1., 1., 1., 1.,\n",
       "       1., 1., 1., 1., 1., 1., 1., 0., 0., 0., 0., 0., 0., 0., 0., 0., 0.,\n",
       "       0., 0., 0., 0., 0., 0., 0., 0., 0., 0., 0., 0., 0., 0., 0., 0., 0.,\n",
       "       0., 0., 0., 0., 0., 0., 0., 1., 1., 1., 1., 1., 1., 1., 1., 1., 1.,\n",
       "       1., 1., 1., 1., 1., 1., 1., 1., 1., 1., 1., 1., 1., 1., 1., 1., 1.,\n",
       "       1., 1., 1., 1., 1., 1., 0., 0., 0., 0., 0., 0., 0., 0., 0., 0., 0.,\n",
       "       0., 0., 0., 0., 0., 0., 0., 0., 0., 0., 0., 0., 0., 0., 0., 0., 0.,\n",
       "       0., 0., 0., 0., 1., 1., 1., 1., 1., 1., 1., 1., 1., 1., 1., 1., 1.,\n",
       "       1., 1., 1., 1., 1.], dtype=float32)"
      ]
     },
     "execution_count": 452,
     "metadata": {},
     "output_type": "execute_result"
    }
   ],
   "source": [
    "left_foot_contact"
   ]
  },
  {
   "cell_type": "code",
   "execution_count": 453,
   "metadata": {},
   "outputs": [
    {
     "data": {
      "text/plain": [
       "array([0., 0., 0., 0., 0., 1., 1., 1., 1., 1., 1., 1., 1., 1., 1., 1., 1.,\n",
       "       1., 1., 1., 1., 1., 1., 1., 1., 1., 1., 1., 1., 1., 1., 1., 1., 1.,\n",
       "       1., 1., 1., 1., 1., 0., 0., 0., 0., 0., 0., 0., 0., 0., 0., 0., 0.,\n",
       "       0., 0., 0., 0., 0., 0., 0., 0., 0., 0., 0., 0., 0., 0., 0., 0., 0.,\n",
       "       0., 0., 0., 1., 1., 1., 1., 1., 1., 1., 1., 1., 1., 1., 1., 1., 1.,\n",
       "       1., 1., 1., 1., 1., 1., 1., 1., 1., 1., 1., 1., 1., 1., 1., 1., 1.,\n",
       "       1., 1., 0., 0., 0., 0., 0., 0., 0., 0., 0., 0., 0., 0., 0., 0., 0.,\n",
       "       0., 0., 0., 0., 0., 0., 0., 0., 0., 0., 0., 0., 0., 0., 0., 0., 0.,\n",
       "       0., 0., 1., 1., 1., 1., 1., 1., 1., 1., 1., 1., 1., 1., 1., 1., 1.,\n",
       "       1., 1., 1., 1., 1., 1., 1., 1., 1., 1., 1., 1., 1., 1., 1., 1., 1.,\n",
       "       1., 1., 0., 0., 0., 0., 0., 0., 0., 0., 0., 0., 0., 0., 0., 0., 0.,\n",
       "       0., 0., 0., 0., 0., 0., 0., 0., 0., 0., 0., 0., 0., 0., 0., 0., 0.,\n",
       "       0., 1., 1., 1., 1., 1., 1., 1., 1., 1., 1., 1., 1., 1., 1., 1., 1.,\n",
       "       1., 1., 1., 1., 1., 1., 1., 1., 1., 1., 1., 1., 1., 1., 1., 1., 1.,\n",
       "       1., 0., 0., 0., 0., 0., 0., 0., 0., 0., 0., 0., 0., 0., 0., 0., 0.,\n",
       "       0., 0., 0., 0., 0., 0., 0., 0., 0., 0., 0., 0., 0., 0., 1., 1., 1.,\n",
       "       1., 1., 1., 1., 1., 1., 1., 1., 1., 1., 1., 1., 1., 1., 1., 1., 1.,\n",
       "       1., 1., 1., 1., 1., 1., 1., 1., 1., 1., 1., 1., 1., 1., 1., 1., 0.,\n",
       "       0., 0., 0., 0., 0., 0., 0., 0., 0., 0., 0., 0., 0., 0., 0., 0., 0.,\n",
       "       0., 0., 0., 0., 0., 0., 0., 0., 0., 1., 1., 1., 1., 1., 1., 1., 1.,\n",
       "       1., 1., 1., 1., 1., 1., 1., 1., 1., 1., 1., 1., 1., 1., 1., 1., 1.,\n",
       "       1., 1., 1., 1., 1., 1., 1., 1., 1., 1., 1., 1., 1., 1., 0., 0., 0.,\n",
       "       0., 0., 0., 0., 0., 0., 0., 0., 0., 0., 0., 0., 0., 0., 0., 0., 0.,\n",
       "       0., 0., 0., 0., 0., 0., 0., 1., 1., 1., 1., 1., 1., 1., 1., 1., 1.,\n",
       "       1., 1., 1., 1., 1., 1., 1., 1., 1., 1., 1., 1., 1., 1., 1., 1., 1.,\n",
       "       1., 1., 1., 1., 1., 1., 1., 1., 1., 1., 1., 1., 0., 0., 0., 0., 0.,\n",
       "       0., 0., 0., 0., 0., 0., 0., 0., 0., 0., 0., 0., 0., 0., 0., 0., 0.,\n",
       "       0., 0., 0., 0., 0., 0., 0., 0., 1., 1., 1., 1., 1., 1., 1., 1., 1.,\n",
       "       1., 1., 1., 1., 1., 1., 1., 1., 1., 1., 1., 1., 1., 1., 1., 1., 1.,\n",
       "       1., 1., 1., 1., 1., 1., 1., 1., 0., 0., 0., 0., 0., 0., 0., 0., 0.,\n",
       "       0., 0., 0., 0., 0., 0., 0., 0., 0., 0., 0., 0., 0., 0., 0., 0., 0.,\n",
       "       0., 0., 0., 0., 0., 0., 0., 1., 1., 1., 1., 1., 1., 1., 1., 1., 1.,\n",
       "       1., 1., 1., 1., 1., 1., 1., 1., 1., 1., 1., 1., 1., 1., 1., 1., 1.,\n",
       "       1., 1., 1., 1., 1., 1., 1., 0., 0., 0., 0., 0., 0., 0., 0., 0., 0.,\n",
       "       0., 0., 0., 0., 0., 0., 0., 0., 0., 0., 0., 0., 0., 0., 0., 0., 0.,\n",
       "       0., 0., 0., 0., 0., 1., 1., 1., 1., 1., 1., 1., 1., 1., 1., 1., 1.,\n",
       "       1., 1., 1., 1., 1., 1., 1., 1., 1., 1., 1., 1., 1., 1., 1., 1., 1.,\n",
       "       1., 1., 1., 1., 1., 0., 0., 0., 0., 0., 0., 0., 0., 0., 0., 0., 0.,\n",
       "       0., 0., 0., 0., 0.], dtype=float32)"
      ]
     },
     "execution_count": 453,
     "metadata": {},
     "output_type": "execute_result"
    }
   ],
   "source": [
    "right_foot_contact"
   ]
  },
  {
   "cell_type": "code",
   "execution_count": 407,
   "metadata": {},
   "outputs": [
    {
     "data": {
      "text/plain": [
       "tensor([-5.8685e-01,  1.4845e-01,  7.9206e-02,  1.4441e-02, -2.1077e-02,\n",
       "         9.9240e-01, -1.2040e-01,  1.1560e-04, -1.0616e-04, -1.2174e-05,\n",
       "        -6.4688e-04,  6.9496e-04,  1.7873e-03])"
      ]
     },
     "execution_count": 407,
     "metadata": {},
     "output_type": "execute_result"
    }
   ],
   "source": [
    "rigid_body_state[rigid_body_names.index('toeLeft')]"
   ]
  },
  {
   "cell_type": "code",
   "execution_count": null,
   "metadata": {},
   "outputs": [],
   "source": []
  }
 ],
 "metadata": {
  "kernelspec": {
   "display_name": "MAP",
   "language": "python",
   "name": "python3"
  },
  "language_info": {
   "codemirror_mode": {
    "name": "ipython",
    "version": 3
   },
   "file_extension": ".py",
   "mimetype": "text/x-python",
   "name": "python",
   "nbconvert_exporter": "python",
   "pygments_lexer": "ipython3",
   "version": "3.8.19"
  }
 },
 "nbformat": 4,
 "nbformat_minor": 2
}
