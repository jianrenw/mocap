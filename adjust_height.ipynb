{
 "cells": [
  {
   "cell_type": "code",
   "execution_count": 1,
   "metadata": {},
   "outputs": [],
   "source": [
    "import joblib"
   ]
  },
  {
   "cell_type": "code",
   "execution_count": 5,
   "metadata": {},
   "outputs": [],
   "source": [
    "data_path = \"/data/home/jianrenw/MAP/data/isaac_adam_standard_walk.pt\"\n",
    "adam_poses = joblib.load(data_path)"
   ]
  },
  {
   "cell_type": "code",
   "execution_count": 6,
   "metadata": {},
   "outputs": [
    {
     "name": "stdout",
     "output_type": "stream",
     "text": [
      "(261,)\n",
      "(261, 32, 3)\n"
     ]
    }
   ],
   "source": [
    "keys = list(adam_poses.keys())\n",
    "adam_pose = adam_poses[keys[0]]\n",
    "left_foot_contact = adam_pose[\"left_foot_contact\"]\n",
    "body_pos = adam_pose[\"body_pos\"]\n",
    "print(left_foot_contact.shape)\n",
    "print(body_pos.shape)"
   ]
  },
  {
   "cell_type": "code",
   "execution_count": 419,
   "metadata": {},
   "outputs": [],
   "source": [
    "data_path = \"/home/jianrenw/MAP/data/isaac_adam_standard_add_sign.pt\"\n",
    "adam_poses = joblib.load(data_path)"
   ]
  },
  {
   "cell_type": "code",
   "execution_count": 5,
   "metadata": {},
   "outputs": [
    {
     "name": "stdout",
     "output_type": "stream",
     "text": [
      "Importing module 'gym_38' (/home/jianrenw/isaacgym/python/isaacgym/_bindings/linux-x86_64/gym_38.so)\n",
      "Setting GYM_USD_PLUG_INFO_PATH to /home/jianrenw/isaacgym/python/isaacgym/_bindings/linux-x86_64/usd/plugInfo.json\n"
     ]
    },
    {
     "name": "stderr",
     "output_type": "stream",
     "text": [
      "/home/jianrenw/anaconda3/envs/MAP/lib/python3.8/site-packages/tqdm/auto.py:21: TqdmWarning: IProgress not found. Please update jupyter and ipywidgets. See https://ipywidgets.readthedocs.io/en/stable/user_install.html\n",
      "  from .autonotebook import tqdm as notebook_tqdm\n"
     ]
    },
    {
     "name": "stdout",
     "output_type": "stream",
     "text": [
      "PyTorch version 1.13.1\n",
      "Device count 4\n",
      "/home/jianrenw/isaacgym/python/isaacgym/_bindings/src/gymtorch\n"
     ]
    },
    {
     "name": "stderr",
     "output_type": "stream",
     "text": [
      "Using /home/jianrenw/.cache/torch_extensions/py38_cu116 as PyTorch extensions root...\n",
      "Emitting ninja build file /home/jianrenw/.cache/torch_extensions/py38_cu116/gymtorch/build.ninja...\n",
      "Building extension module gymtorch...\n",
      "Allowing ninja to set a default number of workers... (overridable by setting the environment variable MAX_JOBS=N)\n"
     ]
    },
    {
     "name": "stdout",
     "output_type": "stream",
     "text": [
      "ninja: no work to do.\n"
     ]
    },
    {
     "name": "stderr",
     "output_type": "stream",
     "text": [
      "Loading extension module gymtorch...\n"
     ]
    }
   ],
   "source": [
    "from isaacgym import gymapi, gymtorch, gymutil"
   ]
  },
  {
   "cell_type": "code",
   "execution_count": 6,
   "metadata": {},
   "outputs": [
    {
     "name": "stdout",
     "output_type": "stream",
     "text": [
      "Physics Engine: FleX\n",
      "Physics Device: cuda:0\n",
      "GPU Pipeline: disabled\n"
     ]
    }
   ],
   "source": [
    "gym = gymapi.acquire_gym()\n",
    "\n",
    "sim = gym.create_sim()\n",
    "\n",
    "# add cartpole urdf asset\n",
    "asset_root = \"robots/adam_standard\"\n",
    "asset_file = \"urdf/adam_standard_foot_contact.urdf\"\n",
    "\n",
    "asset_options = gymapi.AssetOptions()\n",
    "asset_options.collapse_fixed_joints = False\n",
    "\n",
    "robot_asset = gym.load_asset(sim, asset_root, asset_file)\n",
    "rigid_body_names = gym.get_asset_rigid_body_names(robot_asset)\n",
    "rigid_body_dict = gym.get_asset_rigid_body_dict(robot_asset)\n",
    "dof_names = gym.get_asset_dof_names(robot_asset)\n",
    "left_ankle_idx = rigid_body_names.index(\"toeLeft\")\n",
    "right_ankle_idx = rigid_body_names.index(\"toeRight\")\n",
    "left_foot_indices = [i for i, name in enumerate(rigid_body_names) if 'leftFoot' in name]\n",
    "right_foot_indices = [i for i, name in enumerate(rigid_body_names) if 'rightFoot' in name]"
   ]
  },
  {
   "cell_type": "code",
   "execution_count": 8,
   "metadata": {},
   "outputs": [],
   "source": [
    "import numpy as np\n",
    "import torch"
   ]
  },
  {
   "cell_type": "code",
   "execution_count": 10,
   "metadata": {},
   "outputs": [],
   "source": [
    "spacing = 2.0\n",
    "lower = gymapi.Vec3(-spacing, -spacing, -spacing)\n",
    "upper = gymapi.Vec3(spacing, spacing, spacing)\n",
    "env = gym.create_env(sim, lower, upper, 1)\n",
    "\n",
    "pose = gymapi.Transform()\n",
    "pose.p = gymapi.Vec3(0.0, 0.0, 2.0)\n",
    "\n",
    "actor_handle = gym.create_actor(env, robot_asset, pose, \"adam_actor\", 0, 1)"
   ]
  },
  {
   "cell_type": "code",
   "execution_count": 11,
   "metadata": {},
   "outputs": [],
   "source": [
    "import matplotlib.pyplot as plt\n",
    "%matplotlib inline"
   ]
  },
  {
   "cell_type": "code",
   "execution_count": 420,
   "metadata": {},
   "outputs": [],
   "source": [
    "key = \"KIT_3_walking_medium02_poses\"\n",
    "# key = \"BioMotionLab_NTroje_rub032_0027_circle_walk_poses\"\n",
    "adam_pose = adam_poses[key]"
   ]
  },
  {
   "cell_type": "code",
   "execution_count": 421,
   "metadata": {},
   "outputs": [],
   "source": [
    "root_pos = adam_pose[\"root_pos\"]\n",
    "root_rot = adam_pose[\"root_rot\"]\n",
    "root_vel = adam_pose[\"root_vel\"]\n",
    "root_angular_vel = adam_pose[\"root_angular_vel\"]\n",
    "dof_pos = adam_pose[\"dof_pos\"]\n",
    "dof_vel = adam_pose[\"dof_vel\"]\n",
    "\n",
    "frame_num = len(root_pos)\n",
    "\n",
    "root_states = torch.cat([torch.from_numpy(root_pos), torch.from_numpy(root_rot), torch.from_numpy(root_vel), torch.from_numpy(root_angular_vel)], dim=1).type(torch.float32)\n",
    "dof_states = torch.stack([torch.from_numpy(dof_pos), torch.from_numpy(dof_vel)],axis=2).type(torch.float32)\n",
    "rigid_body_states = []\n",
    "\n",
    "# Simulate\n",
    "left_ankle_poses = []\n",
    "right_ankle_poses = []\n",
    "\n",
    "for i in range(frame_num):\n",
    "\n",
    "    gym.set_actor_root_state_tensor(sim, gymtorch.unwrap_tensor(root_states[i]))\n",
    "    gym.set_dof_state_tensor(sim, gymtorch.unwrap_tensor(dof_states[i]))\n",
    "    gym.refresh_rigid_body_state_tensor(sim)\n",
    "    rigid_body_state = gym.acquire_rigid_body_state_tensor(sim)\n",
    "    rigid_body_state = gymtorch.wrap_tensor(rigid_body_state)\n",
    "    left_foot_poses = rigid_body_state[left_foot_indices, 0:3]\n",
    "    right_foot_poses = rigid_body_state[right_foot_indices, 0:3]\n",
    "    left_ankle_pose = rigid_body_state[left_ankle_idx, 0:3]\n",
    "    right_ankle_pose = rigid_body_state[right_ankle_idx, 0:3]\n",
    "    # new_root_pose = root_states[i, 0:3]\n",
    "    # new_root_pose[2] = root_states[i, 2] - torch.min(torch.cat([left_foot_poses, right_foot_poses])[:,2])\n",
    "    left_ankle_poses.append(left_ankle_pose.clone())\n",
    "    right_ankle_poses.append(right_ankle_pose.clone())\n",
    "    \n",
    "    \n",
    "    \n",
    "#     new_root_poses.append(new_root_pose)\n",
    "#     print(torch.min(torch.cat([left_foot_poses, right_foot_poses])[:,2]))\n",
    "# new_root_poses = torch.stack(new_root_poses, dim=0)"
   ]
  },
  {
   "cell_type": "code",
   "execution_count": 422,
   "metadata": {},
   "outputs": [],
   "source": [
    "left_ankle_poses = torch.stack(left_ankle_poses).numpy()\n",
    "right_ankle_poses = torch.stack(right_ankle_poses).numpy()\n",
    "left_z = left_ankle_poses[:,2]\n",
    "right_z = right_ankle_poses[:,2]"
   ]
  },
  {
   "cell_type": "code",
   "execution_count": 423,
   "metadata": {},
   "outputs": [],
   "source": [
    "def find_flat_segments(arr, threshold=0.002, min_length=10):\n",
    "    segments = []\n",
    "    start = 0\n",
    "    \n",
    "    for i in range(1, len(arr)):\n",
    "        if abs(arr[i] - arr[i-1]) >= threshold:\n",
    "            if i - start >= min_length:\n",
    "                segments.append((start, i-1))\n",
    "            start = i\n",
    "    \n",
    "    # Check the last segment\n",
    "    if len(arr) - start >= min_length:\n",
    "        segments.append((start, len(arr)-1))\n",
    "    \n",
    "    flat_positions = []\n",
    "    for flat_segment in segments:\n",
    "        start_idx, end_idx = flat_segment\n",
    "        flat_positions.append(np.arange(start_idx, end_idx))\n",
    "\n",
    "    flat_positions = np.concatenate(flat_positions)\n",
    "        \n",
    "\n",
    "    return flat_positions"
   ]
  },
  {
   "cell_type": "code",
   "execution_count": 424,
   "metadata": {},
   "outputs": [],
   "source": [
    "left_flat_positions = find_flat_segments(left_z)\n",
    "right_flat_positions = find_flat_segments(right_z)"
   ]
  },
  {
   "cell_type": "code",
   "execution_count": 425,
   "metadata": {},
   "outputs": [
    {
     "data": {
      "image/png": "[encoded data removed]",
      "text/plain": [
       "<Figure size 640x480 with 1 Axes>"
      ]
     },
     "metadata": {},
     "output_type": "display_data"
    }
   ],
   "source": [
    "mean_left_z = np.mean(left_z[left_flat_positions])\n",
    "# mean_left_z = np.mean(left_z)\n",
    "corrected_left_z = left_z - mean_left_z \n",
    "\n",
    "\n",
    "mean_right_z = np.mean(right_z[right_flat_positions])\n",
    "# mean_right_z = np.mean(right_z)\n",
    "corrected_right_z = right_z - mean_right_z \n",
    "\n",
    "x = np.arange(0, len(left_z))\n",
    "plt.plot(x, corrected_left_z, label='left')\n",
    "plt.plot(x, corrected_right_z, label='right')\n",
    "plt.plot(x, left_z, label='left')\n",
    "plt.plot(x, right_z, label='right')\n",
    "plt.plot(x[left_flat_positions], left_z[left_flat_positions], 'ro')\n",
    "plt.plot(x[right_flat_positions], right_z[right_flat_positions], 'ro')\n",
    "\n",
    "\n",
    "plt.xlabel('Time')\n",
    "plt.ylabel('Position')\n",
    "plt.title('Foot position')\n",
    "plt.legend()\n",
    "\n",
    "plt.show()"
   ]
  },
  {
   "cell_type": "code",
   "execution_count": 426,
   "metadata": {},
   "outputs": [
    {
     "data": {
      "image/png": "[encoded data removed]",
      "text/plain": [
       "<Figure size 640x480 with 1 Axes>"
      ]
     },
     "metadata": {},
     "output_type": "display_data"
    }
   ],
   "source": [
    "x = np.arange(0, len(right_z) -1)\n",
    "# plt.plot(x, corrected_left_z, label='left')\n",
    "# plt.plot(x, corrected_right_z, label='right')\n",
    "plt.plot(x, np.diff(right_z), label='left')\n",
    "\n",
    "plt.xlabel('Time')\n",
    "plt.ylabel('Position')\n",
    "plt.title('Foot position')\n",
    "plt.legend()\n",
    "\n",
    "plt.show()"
   ]
  },
  {
   "cell_type": "code",
   "execution_count": 427,
   "metadata": {},
   "outputs": [
    {
     "data": {
      "text/plain": [
       "0.078058116"
      ]
     },
     "execution_count": 427,
     "metadata": {},
     "output_type": "execute_result"
    }
   ],
   "source": [
    "mean_left_z"
   ]
  },
  {
   "cell_type": "code",
   "execution_count": 444,
   "metadata": {},
   "outputs": [],
   "source": [
    "threshold = 0.004\n",
    "\n",
    "left_food_contact = np.zeros_like(left_z)\n",
    "right_food_contact = np.zeros_like(right_z)\n",
    "\n",
    "diff = corrected_left_z - corrected_right_z\n",
    "left_food_contact[np.abs(diff) < threshold] = 1\n",
    "right_food_contact[np.abs(diff) < threshold] = 1\n",
    "\n",
    "left_food_contact[diff >= threshold] = 0\n",
    "right_food_contact[diff >= threshold] = 1\n",
    "\n",
    "left_food_contact[diff <= -threshold] = 1\n",
    "right_food_contact[diff <= -threshold] = 0"
   ]
  },
  {
   "cell_type": "code",
   "execution_count": 445,
   "metadata": {},
   "outputs": [
    {
     "data": {
      "image/png": "[encoded data removed]",
      "text/plain": [
       "<Figure size 640x480 with 1 Axes>"
      ]
     },
     "metadata": {},
     "output_type": "display_data"
    }
   ],
   "source": [
    "x = np.arange(0, len(left_z))\n",
    "x_left = x[left_food_contact == 1]\n",
    "x_right = x[right_food_contact == 1]\n",
    "\n",
    "plt.plot(x, corrected_left_z, label='left')\n",
    "plt.plot(x, corrected_right_z, label='right')\n",
    "plt.plot(x_left, corrected_left_z[left_food_contact == 1], 'ro', label='left contact')\n",
    "plt.plot(x_right, corrected_right_z[right_food_contact == 1], 'bo', label='right contact')\n",
    "\n",
    "\n",
    "plt.xlabel('Time')\n",
    "plt.ylabel('Position')\n",
    "plt.title('Foot position')\n",
    "plt.legend()\n",
    "\n",
    "plt.show()"
   ]
  },
  {
   "cell_type": "code",
   "execution_count": 446,
   "metadata": {},
   "outputs": [
    {
     "data": {
      "text/plain": [
       "array([1., 1., 1., 1., 1., 1., 1., 1., 1., 1., 1., 1., 1., 1., 1., 1., 1.,\n",
       "       1., 1., 1., 1., 1., 1., 1., 1., 1., 1., 1., 1., 1., 1., 1., 1., 1.,\n",
       "       1., 1., 1., 1., 1., 1., 1., 1., 1., 1., 1., 1., 1., 1., 1., 1., 1.,\n",
       "       1., 1., 1., 1., 1., 1., 1., 1., 1., 1., 1., 1., 1., 1., 1., 1., 1.,\n",
       "       1., 1., 1., 1., 1., 1., 1., 1., 1., 1., 1., 1., 1., 1., 1., 1., 1.,\n",
       "       1., 1., 1., 1., 1., 1., 1., 1., 1., 1., 1., 1., 1., 1., 1., 1., 1.,\n",
       "       1., 1., 1., 1., 1., 1., 1., 1., 1., 1., 1., 1., 1., 1., 1., 1., 1.,\n",
       "       1., 1., 1., 1., 1., 1., 1., 1., 1., 1., 1., 1., 1., 1., 1., 1., 1.,\n",
       "       1., 1., 1., 1., 1., 1., 0., 0., 0., 0., 0., 0., 0., 0., 0., 0., 0.,\n",
       "       0., 0., 0., 0., 0., 0., 0., 0., 0., 0., 0., 0., 0., 0., 0., 0., 0.,\n",
       "       0., 0., 0., 0., 0., 0., 0., 0., 0., 1., 1., 1., 1., 1., 1., 1., 1.,\n",
       "       1., 1., 1., 1., 1., 1., 1., 1., 1., 1., 1., 1., 1., 1., 1., 1., 1.,\n",
       "       1., 1., 1., 1., 1., 1., 1., 1., 1., 1., 0., 0., 0., 0., 0., 0., 0.,\n",
       "       0., 0., 0., 0., 0., 0., 0., 0., 0., 0., 0., 0., 0., 0., 0., 0., 0.,\n",
       "       0., 0., 0., 0., 0., 0., 0., 0., 0., 1., 1., 1., 1., 1., 1., 1., 1.,\n",
       "       1., 1., 1., 1., 1., 1., 1., 1., 1., 1., 1., 1., 1., 1., 1., 1., 1.,\n",
       "       1., 1., 1., 1., 1., 1., 1., 1., 1., 1., 1., 1., 1., 1., 1., 1., 1.,\n",
       "       1., 1., 1., 1., 1., 1., 1., 1., 1., 1., 1., 1., 1., 1., 1., 1., 1.,\n",
       "       1., 1., 1., 1., 1., 1., 1., 1., 1., 1., 1., 1., 1., 1., 1., 1., 1.,\n",
       "       1., 1., 1., 1., 1., 1.], dtype=float32)"
      ]
     },
     "execution_count": 446,
     "metadata": {},
     "output_type": "execute_result"
    }
   ],
   "source": [
    "left_food_contact"
   ]
  },
  {
   "cell_type": "code",
   "execution_count": 447,
   "metadata": {},
   "outputs": [
    {
     "data": {
      "text/plain": [
       "array([1., 1., 1., 1., 1., 1., 1., 1., 1., 1., 1., 1., 1., 1., 1., 1., 1.,\n",
       "       1., 1., 1., 1., 1., 1., 1., 1., 1., 1., 1., 1., 1., 1., 1., 1., 1.,\n",
       "       1., 1., 1., 1., 1., 1., 1., 1., 1., 1., 1., 1., 1., 1., 1., 1., 1.,\n",
       "       1., 1., 1., 1., 1., 1., 1., 1., 1., 1., 1., 1., 1., 1., 1., 1., 1.,\n",
       "       1., 1., 1., 1., 1., 1., 1., 1., 1., 1., 1., 1., 1., 1., 1., 1., 1.,\n",
       "       1., 1., 1., 1., 1., 1., 1., 1., 1., 1., 1., 1., 1., 1., 1., 1., 1.,\n",
       "       1., 1., 1., 1., 1., 1., 1., 1., 1., 1., 1., 0., 0., 0., 0., 0., 0.,\n",
       "       0., 0., 0., 0., 0., 0., 0., 0., 0., 0., 0., 0., 0., 0., 0., 0., 0.,\n",
       "       0., 0., 0., 0., 0., 1., 1., 1., 1., 1., 1., 1., 1., 1., 1., 1., 1.,\n",
       "       1., 1., 1., 1., 1., 1., 1., 1., 1., 1., 1., 1., 1., 1., 1., 1., 1.,\n",
       "       1., 1., 1., 1., 1., 1., 1., 1., 1., 1., 0., 0., 0., 0., 0., 0., 0.,\n",
       "       0., 0., 0., 0., 0., 0., 0., 0., 0., 0., 0., 0., 0., 0., 0., 0., 0.,\n",
       "       0., 0., 0., 0., 0., 0., 0., 0., 0., 1., 1., 1., 1., 1., 1., 1., 1.,\n",
       "       1., 1., 1., 1., 1., 1., 1., 1., 1., 1., 1., 1., 1., 1., 1., 1., 1.,\n",
       "       1., 1., 1., 1., 1., 1., 1., 1., 1., 1., 0., 0., 0., 0., 0., 0., 0.,\n",
       "       0., 0., 0., 0., 0., 0., 0., 0., 0., 0., 0., 0., 0., 0., 0., 0., 0.,\n",
       "       0., 0., 1., 1., 1., 1., 1., 1., 1., 1., 1., 1., 1., 1., 1., 1., 1.,\n",
       "       1., 1., 1., 1., 1., 1., 1., 1., 1., 1., 1., 1., 1., 1., 1., 1., 1.,\n",
       "       1., 1., 1., 1., 1., 1., 1., 1., 1., 1., 1., 1., 1., 1., 1., 1., 1.,\n",
       "       1., 1., 1., 1., 1., 1.], dtype=float32)"
      ]
     },
     "execution_count": 447,
     "metadata": {},
     "output_type": "execute_result"
    }
   ],
   "source": [
    "right_food_contact"
   ]
  },
  {
   "cell_type": "code",
   "execution_count": 432,
   "metadata": {},
   "outputs": [],
   "source": [
    "def label_contact(left_ankle_poses, right_ankle_poses, threshold = 0.002):\n",
    "    \n",
    "    left_z = left_ankle_poses[:,2]\n",
    "    right_z = right_ankle_poses[:,2]\n",
    "\n",
    "    left_flat_positions = find_flat_segments(left_z)\n",
    "    right_flat_positions = find_flat_segments(right_z)\n",
    "\n",
    "    mean_left_z = np.mean(left_z[left_flat_positions])\n",
    "    corrected_left_z = left_z - mean_left_z \n",
    "\n",
    "    mean_right_z = np.mean(right_z[right_flat_positions])\n",
    "    corrected_right_z = right_z - mean_right_z\n",
    "\n",
    "    left_foot_contact = np.zeros_like(left_z)\n",
    "    right_foot_contact = np.zeros_like(right_z)\n",
    "\n",
    "    diff = corrected_left_z - corrected_right_z\n",
    "    left_foot_contact[np.abs(diff) < threshold] = 1\n",
    "    right_foot_contact[np.abs(diff) < threshold] = 1\n",
    "\n",
    "    left_foot_contact[diff >= threshold] = 0\n",
    "    right_foot_contact[diff >= threshold] = 1\n",
    "\n",
    "    left_foot_contact[diff <= -threshold] = 1\n",
    "    right_foot_contact[diff <= -threshold] = 0\n",
    "\n",
    "    return left_foot_contact, right_foot_contact"
   ]
  },
  {
   "cell_type": "code",
   "execution_count": 433,
   "metadata": {},
   "outputs": [],
   "source": [
    "left_foot_contact, right_foot_contact = label_contact(left_ankle_poses, right_ankle_poses)"
   ]
  },
  {
   "cell_type": "code",
   "execution_count": 434,
   "metadata": {},
   "outputs": [
    {
     "data": {
      "text/plain": [
       "array([1., 1., 1., 1., 1., 1., 1., 1., 1., 1., 1., 1., 1., 1., 1., 1., 1.,\n",
       "       1., 1., 1., 1., 1., 1., 1., 1., 1., 1., 1., 1., 1., 1., 1., 1., 1.,\n",
       "       1., 1., 1., 1., 1., 1., 1., 1., 1., 1., 1., 1., 1., 1., 1., 1., 1.,\n",
       "       1., 1., 1., 1., 1., 1., 1., 1., 1., 1., 1., 1., 1., 1., 1., 1., 1.,\n",
       "       1., 1., 1., 1., 1., 1., 1., 1., 1., 1., 1., 1., 1., 1., 1., 1., 1.,\n",
       "       1., 1., 1., 1., 1., 1., 1., 1., 1., 1., 1., 1., 1., 1., 1., 1., 1.,\n",
       "       1., 1., 1., 1., 1., 1., 1., 1., 1., 1., 1., 1., 1., 1., 1., 1., 1.,\n",
       "       1., 1., 1., 1., 1., 1., 1., 1., 1., 1., 1., 1., 1., 1., 1., 1., 1.,\n",
       "       1., 1., 1., 1., 1., 1., 0., 0., 0., 0., 0., 0., 0., 0., 0., 0., 0.,\n",
       "       0., 0., 0., 0., 0., 0., 0., 0., 0., 0., 0., 0., 0., 0., 0., 0., 0.,\n",
       "       0., 0., 0., 0., 0., 0., 0., 0., 0., 0., 1., 1., 1., 1., 1., 1., 1.,\n",
       "       1., 1., 1., 1., 1., 1., 1., 1., 1., 1., 1., 1., 1., 1., 1., 1., 1.,\n",
       "       1., 1., 1., 1., 1., 1., 1., 1., 1., 1., 0., 0., 0., 0., 0., 0., 0.,\n",
       "       0., 0., 0., 0., 0., 0., 0., 0., 0., 0., 0., 0., 0., 0., 0., 0., 0.,\n",
       "       0., 0., 0., 0., 0., 0., 0., 0., 0., 1., 1., 1., 1., 1., 1., 1., 1.,\n",
       "       1., 1., 1., 1., 1., 1., 1., 1., 1., 1., 1., 1., 1., 1., 1., 1., 1.,\n",
       "       1., 1., 1., 1., 1., 1., 1., 0., 1., 1., 1., 1., 1., 1., 1., 1., 1.,\n",
       "       1., 1., 1., 1., 1., 1., 1., 1., 1., 1., 1., 1., 1., 1., 1., 1., 1.,\n",
       "       1., 1., 1., 1., 1., 1., 1., 1., 1., 1., 1., 1., 1., 1., 1., 1., 1.,\n",
       "       1., 1., 1., 1., 1., 1.], dtype=float32)"
      ]
     },
     "execution_count": 434,
     "metadata": {},
     "output_type": "execute_result"
    }
   ],
   "source": [
    "left_foot_contact"
   ]
  },
  {
   "cell_type": "code",
   "execution_count": 435,
   "metadata": {},
   "outputs": [
    {
     "data": {
      "text/plain": [
       "array([0., 0., 0., 0., 0., 0., 0., 0., 0., 0., 0., 0., 0., 0., 0., 0., 0.,\n",
       "       0., 0., 0., 0., 0., 0., 0., 0., 0., 0., 0., 0., 0., 0., 0., 0., 0.,\n",
       "       0., 0., 0., 0., 0., 0., 0., 0., 0., 0., 0., 0., 0., 0., 0., 0., 0.,\n",
       "       0., 0., 0., 0., 0., 0., 0., 0., 0., 0., 0., 0., 0., 0., 0., 0., 0.,\n",
       "       0., 0., 0., 0., 0., 0., 0., 0., 0., 0., 0., 0., 0., 0., 0., 0., 0.,\n",
       "       0., 0., 0., 0., 0., 0., 0., 1., 1., 1., 1., 1., 1., 1., 1., 1., 1.,\n",
       "       1., 1., 1., 1., 1., 1., 1., 1., 1., 0., 0., 0., 0., 0., 0., 0., 0.,\n",
       "       0., 0., 0., 0., 0., 0., 0., 0., 0., 0., 0., 0., 0., 0., 0., 0., 0.,\n",
       "       0., 0., 0., 0., 0., 1., 1., 1., 1., 1., 1., 1., 1., 1., 1., 1., 1.,\n",
       "       1., 1., 1., 1., 1., 1., 1., 1., 1., 1., 1., 1., 1., 1., 1., 1., 1.,\n",
       "       1., 1., 1., 1., 1., 1., 1., 1., 1., 1., 0., 0., 0., 0., 0., 0., 0.,\n",
       "       0., 0., 0., 0., 0., 0., 0., 0., 0., 0., 0., 0., 0., 0., 0., 0., 0.,\n",
       "       0., 0., 0., 0., 0., 0., 0., 0., 0., 1., 1., 1., 1., 1., 1., 1., 1.,\n",
       "       1., 1., 1., 1., 1., 1., 1., 1., 1., 1., 1., 1., 1., 1., 1., 1., 1.,\n",
       "       1., 1., 1., 1., 1., 1., 1., 1., 1., 1., 0., 0., 0., 0., 0., 0., 0.,\n",
       "       0., 0., 0., 0., 0., 0., 0., 0., 0., 0., 0., 0., 0., 0., 0., 0., 0.,\n",
       "       0., 0., 0., 1., 1., 1., 1., 1., 1., 1., 1., 1., 1., 1., 1., 1., 1.,\n",
       "       1., 1., 1., 1., 1., 1., 1., 1., 1., 1., 1., 1., 1., 1., 1., 1., 1.,\n",
       "       1., 1., 0., 0., 1., 1., 1., 1., 1., 1., 1., 1., 1., 0., 0., 0., 0.,\n",
       "       0., 0., 0., 0., 0., 0.], dtype=float32)"
      ]
     },
     "execution_count": 435,
     "metadata": {},
     "output_type": "execute_result"
    }
   ],
   "source": [
    "right_foot_contact"
   ]
  },
  {
   "cell_type": "code",
   "execution_count": 66,
   "metadata": {},
   "outputs": [
    {
     "name": "stdout",
     "output_type": "stream",
     "text": [
      "tensor(-6.7055e-08)\n",
      "tensor(7.4506e-09)\n",
      "tensor(7.4506e-09)\n",
      "tensor(1.4901e-08)\n",
      "tensor(-7.4506e-09)\n",
      "tensor(-2.2352e-08)\n",
      "tensor(-2.9802e-08)\n",
      "tensor(-8.1956e-08)\n",
      "tensor(-7.4506e-09)\n",
      "tensor(2.2352e-08)\n",
      "tensor(-7.4506e-09)\n",
      "tensor(1.4901e-08)\n",
      "tensor(-2.2352e-08)\n",
      "tensor(-1.4901e-08)\n",
      "tensor(2.2352e-08)\n",
      "tensor(-1.4901e-08)\n",
      "tensor(-7.4506e-09)\n",
      "tensor(-5.2154e-08)\n",
      "tensor(-3.7253e-08)\n",
      "tensor(5.2154e-08)\n",
      "tensor(0.)\n",
      "tensor(0.)\n",
      "tensor(-7.4506e-09)\n",
      "tensor(0.)\n",
      "tensor(-2.9802e-08)\n",
      "tensor(-1.4901e-08)\n",
      "tensor(7.4506e-09)\n",
      "tensor(4.4703e-08)\n",
      "tensor(0.)\n",
      "tensor(7.4506e-09)\n",
      "tensor(-7.4506e-09)\n",
      "tensor(2.2352e-08)\n",
      "tensor(-2.2352e-08)\n",
      "tensor(2.2352e-08)\n",
      "tensor(8.1956e-08)\n",
      "tensor(2.2352e-08)\n",
      "tensor(7.4506e-09)\n",
      "tensor(-3.7253e-08)\n",
      "tensor(-1.4901e-08)\n",
      "tensor(-1.4901e-08)\n",
      "tensor(-1.4901e-08)\n",
      "tensor(-7.4506e-09)\n",
      "tensor(1.4901e-08)\n",
      "tensor(1.4901e-08)\n",
      "tensor(2.9802e-08)\n",
      "tensor(-3.7253e-08)\n",
      "tensor(1.4901e-08)\n",
      "tensor(-8.1956e-08)\n",
      "tensor(2.2352e-08)\n",
      "tensor(7.4506e-09)\n",
      "tensor(-2.2352e-08)\n",
      "tensor(-7.4506e-09)\n",
      "tensor(-7.4506e-09)\n",
      "tensor(-2.2352e-08)\n",
      "tensor(7.4506e-09)\n",
      "tensor(-6.7055e-08)\n",
      "tensor(2.9802e-08)\n",
      "tensor(2.2352e-08)\n",
      "tensor(1.4901e-08)\n",
      "tensor(8.9407e-08)\n",
      "tensor(3.7253e-08)\n",
      "tensor(0.)\n",
      "tensor(-2.2352e-08)\n",
      "tensor(-7.4506e-09)\n",
      "tensor(0.)\n",
      "tensor(-5.2154e-08)\n",
      "tensor(-2.9802e-08)\n",
      "tensor(2.2352e-08)\n",
      "tensor(0.)\n",
      "tensor(4.4703e-08)\n",
      "tensor(2.9802e-08)\n",
      "tensor(-2.2352e-08)\n",
      "tensor(7.4506e-09)\n",
      "tensor(-1.4901e-08)\n",
      "tensor(0.)\n",
      "tensor(5.2154e-08)\n",
      "tensor(-2.2352e-08)\n",
      "tensor(-2.2352e-08)\n",
      "tensor(1.4901e-08)\n",
      "tensor(-1.4901e-08)\n",
      "tensor(2.2352e-08)\n",
      "tensor(-1.4901e-08)\n",
      "tensor(2.2352e-08)\n",
      "tensor(-2.2352e-08)\n",
      "tensor(-2.2352e-08)\n",
      "tensor(-1.4901e-08)\n",
      "tensor(-7.4506e-09)\n",
      "tensor(-5.9605e-08)\n",
      "tensor(2.9802e-08)\n",
      "tensor(-2.9802e-08)\n",
      "tensor(-7.4506e-09)\n",
      "tensor(0.)\n",
      "tensor(2.9802e-08)\n",
      "tensor(-2.2352e-08)\n",
      "tensor(-7.4506e-09)\n",
      "tensor(-7.4506e-09)\n",
      "tensor(5.9605e-08)\n",
      "tensor(2.2352e-08)\n",
      "tensor(-2.9802e-08)\n",
      "tensor(2.2352e-08)\n",
      "tensor(7.4506e-09)\n",
      "tensor(-1.4901e-08)\n",
      "tensor(-5.2154e-08)\n",
      "tensor(0.)\n",
      "tensor(2.9802e-08)\n",
      "tensor(7.4506e-09)\n",
      "tensor(-6.7055e-08)\n",
      "tensor(-1.4901e-08)\n",
      "tensor(0.)\n",
      "tensor(-1.4901e-08)\n",
      "tensor(-2.2352e-08)\n",
      "tensor(-4.4703e-08)\n",
      "tensor(-2.2352e-08)\n",
      "tensor(2.2352e-08)\n",
      "tensor(-6.7055e-08)\n",
      "tensor(-2.2352e-08)\n",
      "tensor(-1.4901e-08)\n",
      "tensor(1.4901e-08)\n",
      "tensor(-7.4506e-09)\n",
      "tensor(5.2154e-08)\n",
      "tensor(5.2154e-08)\n",
      "tensor(-7.4506e-09)\n",
      "tensor(-2.9802e-08)\n",
      "tensor(-1.4901e-08)\n",
      "tensor(-2.9802e-08)\n",
      "tensor(-1.4901e-08)\n",
      "tensor(-7.4506e-09)\n",
      "tensor(7.4506e-09)\n",
      "tensor(2.2352e-08)\n",
      "tensor(8.1956e-08)\n",
      "tensor(-1.4901e-08)\n",
      "tensor(-7.4506e-08)\n",
      "tensor(-1.4901e-08)\n",
      "tensor(-5.2154e-08)\n",
      "tensor(6.7055e-08)\n",
      "tensor(3.7253e-08)\n",
      "tensor(-7.4506e-09)\n",
      "tensor(-1.4901e-08)\n",
      "tensor(-4.4703e-08)\n",
      "tensor(-2.2352e-08)\n",
      "tensor(1.4901e-08)\n",
      "tensor(-2.9802e-08)\n",
      "tensor(0.)\n",
      "tensor(2.9802e-08)\n",
      "tensor(-6.7055e-08)\n",
      "tensor(-2.2352e-08)\n",
      "tensor(-1.4901e-08)\n",
      "tensor(5.9605e-08)\n",
      "tensor(-1.4901e-08)\n",
      "tensor(7.4506e-08)\n",
      "tensor(2.9802e-08)\n",
      "tensor(-2.2352e-08)\n",
      "tensor(1.4901e-08)\n",
      "tensor(-4.4703e-08)\n",
      "tensor(-5.9605e-08)\n",
      "tensor(4.4703e-08)\n",
      "tensor(2.2352e-08)\n",
      "tensor(0.)\n",
      "tensor(-2.9802e-08)\n",
      "tensor(0.)\n",
      "tensor(7.4506e-09)\n",
      "tensor(7.4506e-09)\n",
      "tensor(7.4506e-09)\n",
      "tensor(0.)\n",
      "tensor(-2.9802e-08)\n",
      "tensor(4.4703e-08)\n",
      "tensor(7.4506e-09)\n",
      "tensor(8.1956e-08)\n",
      "tensor(3.7253e-08)\n",
      "tensor(7.4506e-09)\n",
      "tensor(0.)\n",
      "tensor(-7.4506e-09)\n",
      "tensor(-2.2352e-08)\n",
      "tensor(2.9802e-08)\n",
      "tensor(-7.4506e-08)\n",
      "tensor(7.4506e-09)\n",
      "tensor(1.4901e-08)\n",
      "tensor(7.4506e-09)\n",
      "tensor(-2.2352e-08)\n",
      "tensor(5.2154e-08)\n",
      "tensor(2.9802e-08)\n",
      "tensor(-5.9605e-08)\n",
      "tensor(-2.2352e-08)\n",
      "tensor(-1.4901e-08)\n",
      "tensor(0.)\n",
      "tensor(-1.4901e-08)\n",
      "tensor(2.9802e-08)\n",
      "tensor(0.)\n",
      "tensor(-1.4901e-08)\n",
      "tensor(-8.1956e-08)\n",
      "tensor(-1.4901e-08)\n",
      "tensor(0.)\n",
      "tensor(-7.4506e-08)\n",
      "tensor(1.4901e-08)\n",
      "tensor(8.9407e-08)\n",
      "tensor(2.9802e-08)\n",
      "tensor(1.4901e-08)\n",
      "tensor(-7.4506e-09)\n",
      "tensor(-1.4901e-08)\n",
      "tensor(-7.4506e-08)\n",
      "tensor(2.9802e-08)\n",
      "tensor(0.)\n",
      "tensor(0.)\n",
      "tensor(-1.4901e-08)\n",
      "tensor(2.2352e-08)\n",
      "tensor(3.7253e-08)\n",
      "tensor(-1.4901e-08)\n",
      "tensor(-2.9802e-08)\n",
      "tensor(0.)\n",
      "tensor(-5.9605e-08)\n",
      "tensor(-2.9802e-08)\n",
      "tensor(-2.9802e-08)\n",
      "tensor(-2.2352e-08)\n",
      "tensor(1.4901e-08)\n",
      "tensor(1.4901e-08)\n",
      "tensor(-8.9407e-08)\n",
      "tensor(-2.2352e-08)\n",
      "tensor(-7.4506e-08)\n",
      "tensor(2.2352e-08)\n",
      "tensor(-1.4901e-08)\n",
      "tensor(1.4901e-08)\n",
      "tensor(-7.4506e-08)\n",
      "tensor(4.4703e-08)\n",
      "tensor(5.2154e-08)\n",
      "tensor(2.9802e-08)\n",
      "tensor(7.4506e-08)\n",
      "tensor(-2.2352e-08)\n",
      "tensor(-1.4901e-08)\n",
      "tensor(1.4901e-08)\n",
      "tensor(1.4901e-08)\n",
      "tensor(5.9605e-08)\n",
      "tensor(1.4901e-08)\n",
      "tensor(-2.2352e-08)\n",
      "tensor(1.4901e-08)\n",
      "tensor(0.)\n",
      "tensor(-4.4703e-08)\n",
      "tensor(-1.4901e-08)\n",
      "tensor(1.4901e-08)\n",
      "tensor(-2.2352e-08)\n",
      "tensor(2.9802e-08)\n",
      "tensor(-7.4506e-08)\n",
      "tensor(2.9802e-08)\n",
      "tensor(-2.2352e-08)\n",
      "tensor(-6.7055e-08)\n",
      "tensor(-2.9802e-08)\n",
      "tensor(7.4506e-09)\n",
      "tensor(-3.7253e-08)\n",
      "tensor(0.)\n",
      "tensor(7.4506e-09)\n",
      "tensor(-1.4901e-08)\n",
      "tensor(7.4506e-09)\n",
      "tensor(2.2352e-08)\n",
      "tensor(-2.2352e-08)\n",
      "tensor(-1.4901e-08)\n",
      "tensor(7.4506e-09)\n",
      "tensor(2.9802e-08)\n",
      "tensor(0.)\n",
      "tensor(-7.4506e-09)\n",
      "tensor(-7.4506e-08)\n",
      "tensor(5.2154e-08)\n",
      "tensor(-7.4506e-09)\n",
      "tensor(7.4506e-09)\n",
      "tensor(-5.9605e-08)\n",
      "tensor(-7.4506e-08)\n",
      "tensor(-2.2352e-08)\n",
      "tensor(-7.4506e-09)\n",
      "tensor(7.4506e-09)\n",
      "tensor(8.1956e-08)\n",
      "tensor(-7.4506e-08)\n",
      "tensor(2.2352e-08)\n",
      "tensor(3.7253e-08)\n",
      "tensor(-1.4901e-08)\n",
      "tensor(2.2352e-08)\n",
      "tensor(-5.9605e-08)\n",
      "tensor(-2.2352e-08)\n",
      "tensor(-2.2352e-08)\n",
      "tensor(-7.4506e-09)\n",
      "tensor(0.)\n",
      "tensor(2.2352e-08)\n",
      "tensor(-1.4901e-08)\n",
      "tensor(1.4901e-08)\n",
      "tensor(2.2352e-08)\n",
      "tensor(0.)\n",
      "tensor(-7.4506e-08)\n",
      "tensor(-1.4901e-08)\n",
      "tensor(-6.7055e-08)\n",
      "tensor(-4.4703e-08)\n",
      "tensor(-2.2352e-08)\n",
      "tensor(1.4901e-08)\n",
      "tensor(1.4901e-08)\n",
      "tensor(-1.4901e-08)\n",
      "tensor(-1.4901e-08)\n",
      "tensor(7.4506e-09)\n",
      "tensor(-2.2352e-08)\n",
      "tensor(1.4901e-08)\n",
      "tensor(7.4506e-09)\n",
      "tensor(0.)\n",
      "tensor(5.9605e-08)\n",
      "tensor(2.2352e-08)\n",
      "tensor(-1.4901e-08)\n",
      "tensor(3.7253e-08)\n",
      "tensor(2.2352e-08)\n",
      "tensor(-7.4506e-09)\n",
      "tensor(-7.4506e-09)\n",
      "tensor(-2.2352e-08)\n",
      "tensor(2.9802e-08)\n",
      "tensor(5.9605e-08)\n",
      "tensor(-5.9605e-08)\n",
      "tensor(-1.4901e-08)\n",
      "tensor(8.1956e-08)\n",
      "tensor(7.4506e-08)\n",
      "tensor(0.)\n",
      "tensor(0.)\n",
      "tensor(-1.4901e-08)\n",
      "tensor(-2.9802e-08)\n",
      "tensor(-1.4901e-08)\n",
      "tensor(-2.9802e-08)\n",
      "tensor(-2.9802e-08)\n",
      "tensor(0.)\n",
      "tensor(-2.2352e-08)\n",
      "tensor(-1.4901e-08)\n",
      "tensor(1.4901e-08)\n",
      "tensor(-7.4506e-09)\n",
      "tensor(2.2352e-08)\n",
      "tensor(7.4506e-09)\n",
      "tensor(-2.2352e-08)\n",
      "tensor(-2.9802e-08)\n",
      "tensor(0.)\n",
      "tensor(1.4901e-08)\n"
     ]
    }
   ],
   "source": [
    "root_pos = adam_pose[\"new_root_poses\"]\n",
    "root_rot = adam_pose[\"root_rot\"]\n",
    "root_vel = adam_pose[\"root_vel\"]\n",
    "root_angular_vel = adam_pose[\"root_angular_vel\"]\n",
    "dof_pos = adam_pose[\"dof_pos\"]\n",
    "dof_vel = adam_pose[\"dof_vel\"]\n",
    "\n",
    "frame_num = len(root_pos)\n",
    "\n",
    "root_states = torch.cat([torch.from_numpy(root_pos), torch.from_numpy(root_rot), torch.from_numpy(root_vel), torch.from_numpy(root_angular_vel)], dim=1).type(torch.float32)\n",
    "dof_states = torch.stack([torch.from_numpy(dof_pos), torch.from_numpy(dof_vel)],axis=2).type(torch.float32)\n",
    "rigid_body_states = []\n",
    "\n",
    "# Simulate\n",
    "new_root_poses = []\n",
    "\n",
    "for i in range(frame_num):\n",
    "\n",
    "    gym.set_actor_root_state_tensor(sim, gymtorch.unwrap_tensor(root_states[i]))\n",
    "    gym.set_dof_state_tensor(sim, gymtorch.unwrap_tensor(dof_states[i]))\n",
    "    gym.refresh_rigid_body_state_tensor(sim)\n",
    "    rigid_body_state = gym.acquire_rigid_body_state_tensor(sim)\n",
    "    rigid_body_state = gymtorch.wrap_tensor(rigid_body_state)\n",
    "    left_foot_poses = rigid_body_state[left_foot_indices, 0:3]\n",
    "    right_foot_poses = rigid_body_state[right_foot_indices, 0:3]\n",
    "    print(torch.min(torch.cat([left_foot_poses, right_foot_poses])[:,2]))"
   ]
  },
  {
   "cell_type": "code",
   "execution_count": 451,
   "metadata": {},
   "outputs": [],
   "source": [
    "adam_poses = joblib.load(\"/home/jianrenw/MAP/data/isaac_adam_standard_walk.pt\")\n",
    "key = 'BioMotionLab_NTroje_rub032_0027_circle_walk_poses'\n",
    "adam_pose = adam_poses[key]\n",
    "\n",
    "root_pos = adam_pose[\"root_pos\"]\n",
    "root_rot = adam_pose[\"root_rot\"]\n",
    "root_vel = adam_pose[\"root_vel\"]\n",
    "root_angular_vel = adam_pose[\"root_angular_vel\"]\n",
    "dof_pos = adam_pose[\"dof_pos\"]\n",
    "dof_vel = adam_pose[\"dof_vel\"]\n",
    "body_pos = adam_pose[\"body_pos\"]\n",
    "left_foot_contact = adam_pose[\"left_foot_contact\"]\n",
    "right_foot_contact = adam_pose[\"right_foot_contact\"]\n",
    "dt = adam_pose[\"dt\"] \n"
   ]
  },
  {
   "cell_type": "code",
   "execution_count": 452,
   "metadata": {},
   "outputs": [
    {
     "data": {
      "text/plain": [
       "array([1., 1., 1., 1., 1., 1., 0., 0., 0., 0., 0., 0., 0., 0., 0., 0., 0.,\n",
       "       0., 0., 0., 0., 0., 0., 0., 0., 0., 0., 0., 0., 0., 0., 0., 0., 0.,\n",
       "       0., 0., 0., 0., 1., 1., 1., 1., 1., 1., 1., 1., 1., 1., 1., 1., 1.,\n",
       "       1., 1., 1., 1., 1., 1., 1., 1., 1., 1., 1., 1., 1., 1., 1., 1., 1.,\n",
       "       1., 1., 1., 0., 0., 0., 0., 0., 0., 0., 0., 0., 0., 0., 0., 0., 0.,\n",
       "       0., 0., 0., 0., 0., 0., 0., 0., 0., 0., 0., 0., 0., 0., 0., 0., 0.,\n",
       "       0., 0., 1., 1., 1., 1., 1., 1., 1., 1., 1., 1., 1., 1., 1., 1., 1.,\n",
       "       1., 1., 1., 1., 1., 1., 1., 1., 1., 1., 1., 1., 1., 1., 1., 1., 1.,\n",
       "       1., 1., 1., 0., 0., 0., 0., 0., 0., 0., 0., 0., 0., 0., 0., 0., 0.,\n",
       "       0., 0., 0., 0., 0., 0., 0., 0., 0., 0., 0., 0., 0., 0., 0., 0., 0.,\n",
       "       0., 1., 1., 1., 1., 1., 1., 1., 1., 1., 1., 1., 1., 1., 1., 1., 1.,\n",
       "       1., 1., 1., 1., 1., 1., 1., 1., 1., 1., 1., 1., 1., 1., 1., 1., 1.,\n",
       "       1., 0., 0., 0., 0., 0., 0., 0., 0., 0., 0., 0., 0., 0., 0., 0., 0.,\n",
       "       0., 0., 0., 0., 0., 0., 0., 0., 0., 0., 0., 0., 0., 0., 0., 0., 0.,\n",
       "       1., 1., 1., 1., 1., 1., 1., 1., 1., 1., 1., 1., 1., 1., 1., 1., 1.,\n",
       "       1., 1., 1., 1., 1., 1., 1., 1., 1., 1., 1., 1., 1., 1., 1., 0., 0.,\n",
       "       0., 0., 0., 0., 0., 0., 0., 0., 0., 0., 0., 0., 0., 0., 0., 0., 0.,\n",
       "       0., 0., 0., 0., 0., 0., 0., 0., 0., 0., 0., 0., 0., 0., 0., 0., 1.,\n",
       "       1., 1., 1., 1., 1., 1., 1., 1., 1., 1., 1., 1., 1., 1., 1., 1., 1.,\n",
       "       1., 1., 1., 1., 1., 1., 1., 1., 1., 1., 1., 1., 1., 0., 0., 0., 0.,\n",
       "       0., 0., 0., 0., 0., 0., 0., 0., 0., 0., 0., 0., 0., 0., 0., 0., 0.,\n",
       "       0., 0., 0., 0., 0., 0., 0., 0., 0., 0., 0., 0., 0., 0., 1., 1., 1.,\n",
       "       1., 1., 1., 1., 1., 1., 1., 1., 1., 1., 1., 1., 1., 1., 1., 1., 1.,\n",
       "       1., 1., 1., 1., 1., 1., 1., 1., 1., 1., 0., 0., 0., 0., 0., 0., 0.,\n",
       "       0., 0., 0., 0., 0., 0., 0., 0., 0., 0., 0., 0., 0., 0., 0., 0., 0.,\n",
       "       0., 0., 0., 0., 0., 0., 0., 0., 0., 0., 0., 1., 1., 1., 1., 1., 1.,\n",
       "       1., 1., 1., 1., 1., 1., 1., 1., 1., 1., 1., 1., 1., 1., 1., 1., 1.,\n",
       "       1., 1., 1., 1., 1., 1., 1., 1., 1., 0., 0., 0., 0., 0., 0., 0., 0.,\n",
       "       0., 0., 0., 0., 0., 0., 0., 0., 0., 0., 0., 0., 0., 0., 0., 0., 0.,\n",
       "       0., 0., 0., 0., 0., 0., 0., 0., 1., 1., 1., 1., 1., 1., 1., 1., 1.,\n",
       "       1., 1., 1., 1., 1., 1., 1., 1., 1., 1., 1., 1., 1., 1., 1., 1., 1.,\n",
       "       1., 1., 1., 1., 1., 1., 1., 0., 0., 0., 0., 0., 0., 0., 0., 0., 0.,\n",
       "       0., 0., 0., 0., 0., 0., 0., 0., 0., 0., 0., 0., 0., 0., 0., 0., 0.,\n",
       "       0., 0., 0., 0., 0., 0., 0., 1., 1., 1., 1., 1., 1., 1., 1., 1., 1.,\n",
       "       1., 1., 1., 1., 1., 1., 1., 1., 1., 1., 1., 1., 1., 1., 1., 1., 1.,\n",
       "       1., 1., 1., 1., 1., 1., 0., 0., 0., 0., 0., 0., 0., 0., 0., 0., 0.,\n",
       "       0., 0., 0., 0., 0., 0., 0., 0., 0., 0., 0., 0., 0., 0., 0., 0., 0.,\n",
       "       0., 0., 0., 0., 1., 1., 1., 1., 1., 1., 1., 1., 1., 1., 1., 1., 1.,\n",
       "       1., 1., 1., 1., 1.], dtype=float32)"
      ]
     },
     "execution_count": 452,
     "metadata": {},
     "output_type": "execute_result"
    }
   ],
   "source": [
    "left_foot_contact"
   ]
  },
  {
   "cell_type": "code",
   "execution_count": 453,
   "metadata": {},
   "outputs": [
    {
     "data": {
      "text/plain": [
       "array([0., 0., 0., 0., 0., 1., 1., 1., 1., 1., 1., 1., 1., 1., 1., 1., 1.,\n",
       "       1., 1., 1., 1., 1., 1., 1., 1., 1., 1., 1., 1., 1., 1., 1., 1., 1.,\n",
       "       1., 1., 1., 1., 1., 0., 0., 0., 0., 0., 0., 0., 0., 0., 0., 0., 0.,\n",
       "       0., 0., 0., 0., 0., 0., 0., 0., 0., 0., 0., 0., 0., 0., 0., 0., 0.,\n",
       "       0., 0., 0., 1., 1., 1., 1., 1., 1., 1., 1., 1., 1., 1., 1., 1., 1.,\n",
       "       1., 1., 1., 1., 1., 1., 1., 1., 1., 1., 1., 1., 1., 1., 1., 1., 1.,\n",
       "       1., 1., 0., 0., 0., 0., 0., 0., 0., 0., 0., 0., 0., 0., 0., 0., 0.,\n",
       "       0., 0., 0., 0., 0., 0., 0., 0., 0., 0., 0., 0., 0., 0., 0., 0., 0.,\n",
       "       0., 0., 1., 1., 1., 1., 1., 1., 1., 1., 1., 1., 1., 1., 1., 1., 1.,\n",
       "       1., 1., 1., 1., 1., 1., 1., 1., 1., 1., 1., 1., 1., 1., 1., 1., 1.,\n",
       "       1., 1., 0., 0., 0., 0., 0., 0., 0., 0., 0., 0., 0., 0., 0., 0., 0.,\n",
       "       0., 0., 0., 0., 0., 0., 0., 0., 0., 0., 0., 0., 0., 0., 0., 0., 0.,\n",
       "       0., 1., 1., 1., 1., 1., 1., 1., 1., 1., 1., 1., 1., 1., 1., 1., 1.,\n",
       "       1., 1., 1., 1., 1., 1., 1., 1., 1., 1., 1., 1., 1., 1., 1., 1., 1.,\n",
       "       1., 0., 0., 0., 0., 0., 0., 0., 0., 0., 0., 0., 0., 0., 0., 0., 0.,\n",
       "       0., 0., 0., 0., 0., 0., 0., 0., 0., 0., 0., 0., 0., 0., 1., 1., 1.,\n",
       "       1., 1., 1., 1., 1., 1., 1., 1., 1., 1., 1., 1., 1., 1., 1., 1., 1.,\n",
       "       1., 1., 1., 1., 1., 1., 1., 1., 1., 1., 1., 1., 1., 1., 1., 1., 0.,\n",
       "       0., 0., 0., 0., 0., 0., 0., 0., 0., 0., 0., 0., 0., 0., 0., 0., 0.,\n",
       "       0., 0., 0., 0., 0., 0., 0., 0., 0., 1., 1., 1., 1., 1., 1., 1., 1.,\n",
       "       1., 1., 1., 1., 1., 1., 1., 1., 1., 1., 1., 1., 1., 1., 1., 1., 1.,\n",
       "       1., 1., 1., 1., 1., 1., 1., 1., 1., 1., 1., 1., 1., 1., 0., 0., 0.,\n",
       "       0., 0., 0., 0., 0., 0., 0., 0., 0., 0., 0., 0., 0., 0., 0., 0., 0.,\n",
       "       0., 0., 0., 0., 0., 0., 0., 1., 1., 1., 1., 1., 1., 1., 1., 1., 1.,\n",
       "       1., 1., 1., 1., 1., 1., 1., 1., 1., 1., 1., 1., 1., 1., 1., 1., 1.,\n",
       "       1., 1., 1., 1., 1., 1., 1., 1., 1., 1., 1., 1., 0., 0., 0., 0., 0.,\n",
       "       0., 0., 0., 0., 0., 0., 0., 0., 0., 0., 0., 0., 0., 0., 0., 0., 0.,\n",
       "       0., 0., 0., 0., 0., 0., 0., 0., 1., 1., 1., 1., 1., 1., 1., 1., 1.,\n",
       "       1., 1., 1., 1., 1., 1., 1., 1., 1., 1., 1., 1., 1., 1., 1., 1., 1.,\n",
       "       1., 1., 1., 1., 1., 1., 1., 1., 0., 0., 0., 0., 0., 0., 0., 0., 0.,\n",
       "       0., 0., 0., 0., 0., 0., 0., 0., 0., 0., 0., 0., 0., 0., 0., 0., 0.,\n",
       "       0., 0., 0., 0., 0., 0., 0., 1., 1., 1., 1., 1., 1., 1., 1., 1., 1.,\n",
       "       1., 1., 1., 1., 1., 1., 1., 1., 1., 1., 1., 1., 1., 1., 1., 1., 1.,\n",
       "       1., 1., 1., 1., 1., 1., 1., 0., 0., 0., 0., 0., 0., 0., 0., 0., 0.,\n",
       "       0., 0., 0., 0., 0., 0., 0., 0., 0., 0., 0., 0., 0., 0., 0., 0., 0.,\n",
       "       0., 0., 0., 0., 0., 1., 1., 1., 1., 1., 1., 1., 1., 1., 1., 1., 1.,\n",
       "       1., 1., 1., 1., 1., 1., 1., 1., 1., 1., 1., 1., 1., 1., 1., 1., 1.,\n",
       "       1., 1., 1., 1., 1., 0., 0., 0., 0., 0., 0., 0., 0., 0., 0., 0., 0.,\n",
       "       0., 0., 0., 0., 0.], dtype=float32)"
      ]
     },
     "execution_count": 453,
     "metadata": {},
     "output_type": "execute_result"
    }
   ],
   "source": [
    "right_foot_contact"
   ]
  },
  {
   "cell_type": "code",
   "execution_count": 407,
   "metadata": {},
   "outputs": [
    {
     "data": {
      "text/plain": [
       "tensor([-5.8685e-01,  1.4845e-01,  7.9206e-02,  1.4441e-02, -2.1077e-02,\n",
       "         9.9240e-01, -1.2040e-01,  1.1560e-04, -1.0616e-04, -1.2174e-05,\n",
       "        -6.4688e-04,  6.9496e-04,  1.7873e-03])"
      ]
     },
     "execution_count": 407,
     "metadata": {},
     "output_type": "execute_result"
    }
   ],
   "source": [
    "rigid_body_state[rigid_body_names.index('toeLeft')]"
   ]
  },
  {
   "cell_type": "code",
   "execution_count": null,
   "metadata": {},
   "outputs": [],
   "source": []
  }
 ],
 "metadata": {
  "kernelspec": {
   "display_name": "MAP",
   "language": "python",
   "name": "python3"
  },
  "language_info": {
   "codemirror_mode": {
    "name": "ipython",
    "version": 3
   },
   "file_extension": ".py",
   "mimetype": "text/x-python",
   "name": "python",
   "nbconvert_exporter": "python",
   "pygments_lexer": "ipython3",
   "version": "3.8.19"
  }
 },
 "nbformat": 4,
 "nbformat_minor": 2
}
